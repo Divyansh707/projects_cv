{
 "cells": [
  {
   "cell_type": "code",
   "execution_count": 1,
   "metadata": {},
   "outputs": [],
   "source": [
    "import pandas as pd\n",
    "import numpy as np\n",
    "import matplotlib.pyplot as plt\n",
    "%matplotlib inline\n",
    "import warnings\n",
    "warnings.filterwarnings(\"ignore\")\n",
    "\n",
    "import sqlite3\n",
    "\n",
    "from gensim.models import Word2Vec\n",
    "from gensim.models import KeyedVectors\n",
    "import pickle\n",
    "\n",
    "from tqdm import tqdm\n",
    "import os\n",
    "import seaborn as sns\n",
    "from sklearn.feature_extraction.text import TfidfTransformer\n",
    "from sklearn.feature_extraction.text import TfidfVectorizer\n",
    "\n",
    "from sklearn.feature_extraction.text import CountVectorizer\n",
    "from sklearn.metrics import confusion_matrix\n",
    "from sklearn import metrics"
   ]
  },
  {
   "cell_type": "code",
   "execution_count": 2,
   "metadata": {},
   "outputs": [
    {
     "data": {
      "text/plain": [
       "(200000, 12)"
      ]
     },
     "execution_count": 2,
     "metadata": {},
     "output_type": "execute_result"
    }
   ],
   "source": [
    "if os.path.isfile('C:\\\\Users\\\\DIVYANSH SHARMA\\\\Desktop\\\\SavedFolder\\\\final.sqlite'):\n",
    "    conn = sqlite3.connect('C:\\\\Users\\\\DIVYANSH SHARMA\\\\Desktop\\\\SavedFolder\\\\final.sqlite')\n",
    "    final = pd.read_sql_query(\"\"\" SELECT * FROM Reviews WHERE Score != 3 \"\"\", conn)\n",
    "    conn.close()\n",
    "else:\n",
    "    print(\"next\")\n",
    "    \n",
    "final.shape\n",
    "final=final[0:200000]\n",
    "final=final.sort_values(by=['Time'])\n",
    "final.shape\n"
   ]
  },
  {
   "cell_type": "code",
   "execution_count": 3,
   "metadata": {},
   "outputs": [
    {
     "name": "stdout",
     "output_type": "stream",
     "text": [
      "the type of count vectorizer  <class 'scipy.sparse.csr.csr_matrix'>\n",
      "the shape of out text BOW vectorizer  (200000, 52707)\n",
      "the number of unique words  52707\n"
     ]
    }
   ],
   "source": [
    "#BoW\n",
    "count_vect = CountVectorizer() #in scikit-learn\n",
    "final_counts = count_vect.fit_transform(final['CleanedText'].values)\n",
    "print(\"the type of count vectorizer \",type(final_counts))\n",
    "print(\"the shape of out text BOW vectorizer \",final_counts.get_shape())\n",
    "print(\"the number of unique words \", final_counts.get_shape()[1])"
   ]
  },
  {
   "cell_type": "code",
   "execution_count": 4,
   "metadata": {},
   "outputs": [
    {
     "data": {
      "text/plain": [
       "<200000x52707 sparse matrix of type '<class 'numpy.int64'>'\n",
       "\twith 6104211 stored elements in Compressed Sparse Row format>"
      ]
     },
     "execution_count": 4,
     "metadata": {},
     "output_type": "execute_result"
    }
   ],
   "source": [
    "final_counts"
   ]
  },
  {
   "cell_type": "code",
   "execution_count": 5,
   "metadata": {},
   "outputs": [
    {
     "name": "stderr",
     "output_type": "stream",
     "text": [
      "D:\\installed_files\\lib\\site-packages\\sklearn\\cross_validation.py:41: DeprecationWarning: This module was deprecated in version 0.18 in favor of the model_selection module into which all the refactored classes and functions are moved. Also note that the interface of the new CV iterators are different from that of this module. This module will be removed in 0.20.\n",
      "  \"This module will be removed in 0.20.\", DeprecationWarning)\n"
     ]
    }
   ],
   "source": [
    "from sklearn.cross_validation import train_test_split\n",
    "from sklearn.naive_bayes import BernoulliNB\n",
    "from sklearn.metrics import accuracy_score\n",
    "from sklearn.cross_validation import cross_val_score\n",
    "from collections import Counter\n",
    "from sklearn.metrics import accuracy_score\n",
    "from sklearn import cross_validation\n",
    "from sklearn.metrics import f1_score\n",
    "clf=BernoulliNB()"
   ]
  },
  {
   "cell_type": "code",
   "execution_count": 6,
   "metadata": {},
   "outputs": [],
   "source": [
    "\n",
    "y=final['Score']"
   ]
  },
  {
   "cell_type": "code",
   "execution_count": 7,
   "metadata": {},
   "outputs": [],
   "source": [
    "X_1, X_test, y_1, y_test = cross_validation.train_test_split(final_counts, y, test_size=0.3, random_state=0)\n",
    "X_tr, X_cv, y_tr, y_cv = cross_validation.train_test_split(X_1, y_1, test_size=0.3)"
   ]
  },
  {
   "cell_type": "code",
   "execution_count": 18,
   "metadata": {},
   "outputs": [
    {
     "data": {
      "text/plain": [
       "<42000x52707 sparse matrix of type '<class 'numpy.int64'>'\n",
       "\twith 1277978 stored elements in Compressed Sparse Row format>"
      ]
     },
     "execution_count": 18,
     "metadata": {},
     "output_type": "execute_result"
    }
   ],
   "source": [
    "X_cv"
   ]
  },
  {
   "cell_type": "code",
   "execution_count": null,
   "metadata": {},
   "outputs": [],
   "source": []
  },
  {
   "cell_type": "code",
   "execution_count": 19,
   "metadata": {},
   "outputs": [
    {
     "name": "stderr",
     "output_type": "stream",
     "text": [
      "D:\\installed_files\\lib\\site-packages\\sklearn\\naive_bayes.py:472: UserWarning: alpha too small will result in numeric errors, setting alpha = 1.0e-10\n",
      "  'setting alpha = %.1e' % _ALPHA_MIN)\n"
     ]
    },
    {
     "name": "stdout",
     "output_type": "stream",
     "text": [
      "----------------\n",
      "false positive rate is\n",
      "0.06538095238095239\n",
      "----------------\n",
      "false positive rate is\n",
      "0.0729047619047619\n",
      "----------------\n",
      "false positive rate is\n",
      "0.0950952380952381\n",
      "----------------\n",
      "false positive rate is\n",
      "0.11104761904761905\n",
      "----------------\n",
      "false positive rate is\n",
      "0.12242857142857143\n",
      "----------------\n",
      "false positive rate is\n",
      "0.12995238095238096\n",
      "----------------\n",
      "false positive rate is\n",
      "0.1352142857142857\n",
      "----------------\n",
      "false positive rate is\n",
      "0.13845238095238097\n",
      "----------------\n",
      "false positive rate is\n",
      "0.14054761904761906\n",
      "----------------\n",
      "false positive rate is\n",
      "0.1422142857142857\n",
      "----------------\n",
      "false positive rate is\n",
      "0.14307142857142857\n",
      "----------------\n",
      "false positive rate is\n",
      "0.14397619047619048\n",
      "----------------\n",
      "false positive rate is\n",
      "0.14476190476190476\n",
      "----------------\n",
      "false positive rate is\n",
      "0.1454047619047619\n",
      "----------------\n",
      "false positive rate is\n",
      "0.14583333333333334\n",
      "----------------\n",
      "false positive rate is\n",
      "0.14647619047619048\n",
      "----------------\n",
      "false positive rate is\n",
      "0.1467142857142857\n",
      "----------------\n",
      "false positive rate is\n",
      "0.1469047619047619\n",
      "----------------\n",
      "false positive rate is\n",
      "0.147\n",
      "----------------\n",
      "false positive rate is\n",
      "0.14709523809523808\n",
      "----------------\n",
      "false positive rate is\n",
      "0.14721428571428571\n",
      "----------------\n",
      "false positive rate is\n",
      "0.1472857142857143\n",
      "----------------\n",
      "false positive rate is\n",
      "0.1473809523809524\n",
      "----------------\n",
      "false positive rate is\n",
      "0.1474047619047619\n",
      "----------------\n",
      "false positive rate is\n",
      "0.14742857142857144\n",
      "----------------\n",
      "false positive rate is\n",
      "0.14747619047619048\n",
      "----------------\n",
      "false positive rate is\n",
      "0.1475\n",
      "----------------\n",
      "false positive rate is\n",
      "0.14754761904761904\n",
      "----------------\n",
      "false positive rate is\n",
      "0.14761904761904762\n",
      "----------------\n",
      "false positive rate is\n",
      "0.14773809523809525\n",
      "\n",
      "The optimal value of a is 0.\n"
     ]
    },
    {
     "data": {
      "text/plain": [
       "<matplotlib.legend.Legend at 0x28b34049240>"
      ]
     },
     "execution_count": 19,
     "metadata": {},
     "output_type": "execute_result"
    },
    {
     "data": {
      "image/png": "[encoded data removed]",
      "text/plain": [
       "<Figure size 432x288 with 1 Axes>"
      ]
     },
     "metadata": {},
     "output_type": "display_data"
    }
   ],
   "source": [
    "\n",
    "\n",
    "myList = list(range(0,30))\n",
    "neighbors = myList\n",
    "\n",
    "fp_scores = [0]*30\n",
    "f_scores = [0]*30\n",
    "precision_list = [0]*30\n",
    "recall_list = [0]*30\n",
    "\n",
    "for k in neighbors:\n",
    "    \n",
    "    bnb = BernoulliNB(alpha=k)\n",
    "    bnb.fit(X_tr,y_tr)\n",
    "    y_pred=bnb.predict(X_cv)\n",
    "    tn, fp, fn, tp = confusion_matrix(y_cv, y_pred).ravel()\n",
    "    count=0\n",
    "    for t in y_cv:\n",
    "        if(t==1):\n",
    "            ++count\n",
    "    # count denotes total positive labels\n",
    "    score=f1_score(y_cv, y_pred, average='macro')\n",
    "    precision = tp/tp+fp\n",
    "    recall = tp/tp+fn\n",
    "    f_scores[k]=score\n",
    "    fp_scores[k]=fp/(len(y_cv)-count)\n",
    "    precision_list[k]=precision\n",
    "    recall_list[k]=recall\n",
    "    \n",
    "    #print(confusion_matrix(y_cv, y_pred).ravel())\n",
    "    print(\"----------------\")\n",
    "    \n",
    "    print(\"false positive rate is\")\n",
    "    print(fp/(len(y_cv)-count))\n",
    "\n",
    "optimal_a = fp_scores.index(min(fp_scores))\n",
    "print('\\nThe optimal value of a is %d.' % optimal_a)\n",
    "\n",
    "plt.plot(range(0,30),fp_scores,label='false_postives')\n",
    "#plt.plot(range(0,30),f_scores,label='f_scores')\n",
    "#plt.plot(range(0,30),precision_list,label='precision')\n",
    "#plt.plot(range(0,30),recall_list,label='recall')\n",
    "plt.legend()\n",
    "\n"
   ]
  },
  {
   "cell_type": "code",
   "execution_count": 29,
   "metadata": {},
   "outputs": [
    {
     "data": {
      "text/plain": [
       "<matplotlib.legend.Legend at 0x28b2f9f6e80>"
      ]
     },
     "execution_count": 29,
     "metadata": {},
     "output_type": "execute_result"
    },
    {
     "data": {
      "image/png": "[encoded data removed]",
      "text/plain": [
       "<Figure size 432x288 with 1 Axes>"
      ]
     },
     "metadata": {},
     "output_type": "display_data"
    }
   ],
   "source": [
    "plt.plot(range(0,30),f_scores,label='f_scores')\n",
    "plt.plot(range(0,30),precision_list,label='precision')\n",
    "plt.plot(range(0,30),recall_list,label='recall')\n",
    "plt.legend()"
   ]
  },
  {
   "cell_type": "code",
   "execution_count": 27,
   "metadata": {},
   "outputs": [
    {
     "name": "stderr",
     "output_type": "stream",
     "text": [
      "D:\\installed_files\\lib\\site-packages\\sklearn\\naive_bayes.py:472: UserWarning: alpha too small will result in numeric errors, setting alpha = 1.0e-10\n",
      "  'setting alpha = %.1e' % _ALPHA_MIN)\n"
     ]
    },
    {
     "name": "stdout",
     "output_type": "stream",
     "text": [
      "[[ 3481  2746]\n",
      " [ 2055 33718]]\n"
     ]
    },
    {
     "data": {
      "text/plain": [
       "<matplotlib.axes._subplots.AxesSubplot at 0x28b36e43c18>"
      ]
     },
     "execution_count": 27,
     "metadata": {},
     "output_type": "execute_result"
    },
    {
     "data": {
      "image/png": "[encoded data removed]",
      "text/plain": [
       "<Figure size 720x504 with 2 Axes>"
      ]
     },
     "metadata": {},
     "output_type": "display_data"
    }
   ],
   "source": [
    "# for a=0\n",
    "bnb = BernoulliNB(alpha=0)\n",
    "bnb.fit(X_tr,y_tr)\n",
    "y_pred=bnb.predict(X_cv)\n",
    "print(confusion_matrix(y_cv, y_pred))\n",
    "mane=confusion_matrix(y_cv, y_pred)\n",
    "df_cm = pd.DataFrame(mane, index = [\"AN\",\"AY\"],\n",
    "                  columns = [\"PN\",\"PY\"])\n",
    "plt.figure(figsize = (10,7))\n",
    "sns.heatmap(df_cm, annot=True,fmt=\".3f\")"
   ]
  },
  {
   "cell_type": "code",
   "execution_count": 30,
   "metadata": {},
   "outputs": [
    {
     "name": "stderr",
     "output_type": "stream",
     "text": [
      "D:\\installed_files\\lib\\site-packages\\sklearn\\naive_bayes.py:472: UserWarning: alpha too small will result in numeric errors, setting alpha = 1.0e-10\n",
      "  'setting alpha = %.1e' % _ALPHA_MIN)\n"
     ]
    },
    {
     "name": "stdout",
     "output_type": "stream",
     "text": [
      "[[ 5201  3758]\n",
      " [ 3002 48039]]\n"
     ]
    },
    {
     "data": {
      "text/plain": [
       "<matplotlib.axes._subplots.AxesSubplot at 0x28b353547b8>"
      ]
     },
     "execution_count": 30,
     "metadata": {},
     "output_type": "execute_result"
    },
    {
     "data": {
      "image/png": "[encoded data removed]",
      "text/plain": [
       "<Figure size 720x504 with 2 Axes>"
      ]
     },
     "metadata": {},
     "output_type": "display_data"
    }
   ],
   "source": [
    "# for a=0, on original data\n",
    "bnb = BernoulliNB(alpha=0)\n",
    "bnb.fit(X_1,y_1)\n",
    "y_pred=bnb.predict(X_test)\n",
    "print(confusion_matrix(y_test, y_pred))\n",
    "mane=confusion_matrix(y_test, y_pred)\n",
    "df_cm = pd.DataFrame(mane, index = [\"AN\",\"AY\"],\n",
    "                  columns = [\"PN\",\"PY\"])\n",
    "plt.figure(figsize = (10,7))\n",
    "sns.heatmap(df_cm, annot=True,fmt=\".3f\")"
   ]
  },
  {
   "cell_type": "code",
   "execution_count": 82,
   "metadata": {},
   "outputs": [],
   "source": [
    "def important_features(vectorizer,classifier,n=20):\n",
    "    class_labels = classifier.classes_\n",
    "    feature_names =vectorizer.get_feature_names()\n",
    "    topn_class1 = sorted(zip(classifier.feature_count_[0], feature_names),reverse=True)[:n]\n",
    "    topn_class2 = sorted(zip(classifier.feature_count_[1], feature_names),reverse=True)[:n] \n",
    "    print(\"Important words in negative reviews\")\n",
    "    for coef, feat in topn_class1:\n",
    "        print(class_labels[0], coef, feat)\n",
    "    print(\"-----------------------------------------\")\n",
    "    print(\"Important words in positive reviews\")\n",
    "    for coef, feat in topn_class2:\n",
    "        \n",
    "        print(class_labels[1], coef, feat)"
   ]
  },
  {
   "cell_type": "code",
   "execution_count": 83,
   "metadata": {},
   "outputs": [
    {
     "name": "stdout",
     "output_type": "stream",
     "text": [
      "Important words in negative reviews\n",
      "0 7282.0 tast\n",
      "0 7207.0 like\n",
      "0 6454.0 product\n",
      "0 5278.0 one\n",
      "0 4823.0 would\n",
      "0 4509.0 tri\n",
      "0 4288.0 good\n",
      "0 4228.0 buy\n",
      "0 3935.0 use\n",
      "0 3934.0 flavor\n",
      "0 3859.0 get\n",
      "0 3622.0 dont\n",
      "0 3455.0 order\n",
      "0 3260.0 even\n",
      "0 2908.0 make\n",
      "0 2899.0 time\n",
      "0 2822.0 much\n",
      "0 2769.0 amazon\n",
      "0 2714.0 bought\n",
      "0 2680.0 eat\n",
      "-----------------------------------------\n",
      "Important words in positive reviews\n",
      "1 34147.0 like\n",
      "1 33563.0 tast\n",
      "1 32806.0 love\n",
      "1 32573.0 good\n",
      "1 32412.0 great\n",
      "1 27753.0 use\n",
      "1 26375.0 flavor\n",
      "1 26305.0 one\n",
      "1 25180.0 product\n",
      "1 24409.0 tri\n",
      "1 22870.0 make\n",
      "1 21318.0 get\n",
      "1 18161.0 time\n",
      "1 17566.0 buy\n",
      "1 17129.0 amazon\n",
      "1 17045.0 best\n",
      "1 16758.0 find\n",
      "1 15629.0 price\n",
      "1 15553.0 would\n",
      "1 15255.0 also\n"
     ]
    }
   ],
   "source": [
    "important_features(count_vect,bnb,n=20)"
   ]
  },
  {
   "cell_type": "code",
   "execution_count": 197,
   "metadata": {},
   "outputs": [],
   "source": [
    "final['summ_len']=final['Summary'].apply(lambda x:len(x))"
   ]
  },
  {
   "cell_type": "code",
   "execution_count": 198,
   "metadata": {},
   "outputs": [],
   "source": [
    "final['text_len']=final['CleanedText'].apply(lambda x:len(x))"
   ]
  },
  {
   "cell_type": "code",
   "execution_count": 199,
   "metadata": {},
   "outputs": [],
   "source": [
    "final['sent_ratio']=final['summ_len']/final['text_len']\n",
    "final['sent_ratio']=final['sent_ratio'].round(decimals=2)\n"
   ]
  },
  {
   "cell_type": "code",
   "execution_count": null,
   "metadata": {},
   "outputs": [],
   "source": []
  },
  {
   "cell_type": "code",
   "execution_count": 200,
   "metadata": {},
   "outputs": [],
   "source": [
    "from scipy.sparse import hstack\n",
    "sammy = hstack((final_counts,np.array(final['summ_len'])[:,None]))\n",
    "\n",
    "\n",
    "sammy = hstack((sammy,np.array(final['text_len'])[:,None]))\n",
    "#sammy = hstack((sammy,np.array(final['sent_ratio'])[:,None]))\n",
    "sammy = hstack((sammy,np.array(final['HelpfulnessNumerator'])[:,None]))\n",
    "sammy = hstack((sammy,np.array(final['HelpfulnessDenominator'])[:,None]))\n"
   ]
  },
  {
   "cell_type": "code",
   "execution_count": null,
   "metadata": {},
   "outputs": [],
   "source": []
  },
  {
   "cell_type": "code",
   "execution_count": 202,
   "metadata": {},
   "outputs": [],
   "source": [
    "X_1, X_test, y_1, y_test = cross_validation.train_test_split(sammy, y, test_size=0.3, random_state=0)\n",
    "X_tr, X_cv, y_tr, y_cv = cross_validation.train_test_split(X_1, y_1, test_size=0.3)"
   ]
  },
  {
   "cell_type": "code",
   "execution_count": 203,
   "metadata": {},
   "outputs": [
    {
     "name": "stderr",
     "output_type": "stream",
     "text": [
      "D:\\installed_files\\lib\\site-packages\\sklearn\\naive_bayes.py:472: UserWarning: alpha too small will result in numeric errors, setting alpha = 1.0e-10\n",
      "  'setting alpha = %.1e' % _ALPHA_MIN)\n",
      "D:\\installed_files\\lib\\site-packages\\sklearn\\metrics\\classification.py:1135: UndefinedMetricWarning: F-score is ill-defined and being set to 0.0 in labels with no predicted samples.\n",
      "  'precision', 'predicted', average, warn_for)\n"
     ]
    },
    {
     "name": "stdout",
     "output_type": "stream",
     "text": [
      "----------------\n",
      "false positive rate is\n",
      "0.15083333333333335\n",
      "----------------\n",
      "false positive rate is\n",
      "0.07409523809523809\n",
      "----------------\n",
      "false positive rate is\n",
      "0.09671428571428571\n",
      "----------------\n",
      "false positive rate is\n",
      "0.11352380952380953\n",
      "----------------\n",
      "false positive rate is\n",
      "0.12442857142857143\n",
      "----------------\n",
      "false positive rate is\n",
      "0.13154761904761905\n",
      "----------------\n",
      "false positive rate is\n",
      "0.1371904761904762\n",
      "----------------\n",
      "false positive rate is\n",
      "0.14114285714285715\n",
      "----------------\n",
      "false positive rate is\n",
      "0.14314285714285716\n",
      "----------------\n",
      "false positive rate is\n",
      "0.1448095238095238\n",
      "----------------\n",
      "false positive rate is\n",
      "0.14607142857142857\n",
      "----------------\n",
      "false positive rate is\n",
      "0.14676190476190476\n",
      "----------------\n",
      "false positive rate is\n",
      "0.1473809523809524\n",
      "----------------\n",
      "false positive rate is\n",
      "0.14792857142857144\n",
      "----------------\n",
      "false positive rate is\n",
      "0.14845238095238095\n",
      "----------------\n",
      "false positive rate is\n",
      "0.149\n",
      "----------------\n",
      "false positive rate is\n",
      "0.14919047619047618\n",
      "----------------\n",
      "false positive rate is\n",
      "0.14947619047619048\n",
      "----------------\n",
      "false positive rate is\n",
      "0.14952380952380953\n",
      "----------------\n",
      "false positive rate is\n",
      "0.14969047619047618\n",
      "----------------\n",
      "false positive rate is\n",
      "0.14978571428571427\n",
      "----------------\n",
      "false positive rate is\n",
      "0.1499047619047619\n",
      "----------------\n",
      "false positive rate is\n",
      "0.15007142857142858\n",
      "----------------\n",
      "false positive rate is\n",
      "0.15014285714285713\n",
      "----------------\n",
      "false positive rate is\n",
      "0.15014285714285713\n",
      "----------------\n",
      "false positive rate is\n",
      "0.15016666666666667\n",
      "----------------\n",
      "false positive rate is\n",
      "0.15021428571428572\n",
      "----------------\n",
      "false positive rate is\n",
      "0.15026190476190476\n",
      "----------------\n",
      "false positive rate is\n",
      "0.15028571428571427\n",
      "----------------\n",
      "false positive rate is\n",
      "0.15033333333333335\n",
      "\n",
      "The optimal value of a is 1.\n"
     ]
    },
    {
     "data": {
      "text/plain": [
       "<matplotlib.legend.Legend at 0x28b30296eb8>"
      ]
     },
     "execution_count": 203,
     "metadata": {},
     "output_type": "execute_result"
    },
    {
     "data": {
      "image/png": "[encoded data removed]",
      "text/plain": [
       "<Figure size 432x288 with 1 Axes>"
      ]
     },
     "metadata": {},
     "output_type": "display_data"
    }
   ],
   "source": [
    "\n",
    "\n",
    "myList = list(range(0,30))\n",
    "neighbors = myList\n",
    "\n",
    "fp_scores = [0]*30\n",
    "f_scores = [0]*30\n",
    "precision_list = [0]*30\n",
    "recall_list = [0]*30\n",
    "\n",
    "for k in neighbors:\n",
    "    \n",
    "    bnb = BernoulliNB(alpha=k)\n",
    "    bnb.fit(X_tr,y_tr)\n",
    "    y_pred=bnb.predict(X_cv)\n",
    "    tn, fp, fn, tp = confusion_matrix(y_cv, y_pred).ravel()\n",
    "    count=0\n",
    "    for t in y_cv:\n",
    "        if(t==1):\n",
    "            ++count\n",
    "    # count denotes total positive labels\n",
    "    score=f1_score(y_cv, y_pred, average='macro')\n",
    "    precision = tp/tp+fp\n",
    "    recall = tp/tp+fn\n",
    "    f_scores[k]=score\n",
    "    fp_scores[k]=fp/(len(y_cv)-count)\n",
    "    precision_list[k]=precision\n",
    "    recall_list[k]=recall\n",
    "    \n",
    "    #print(confusion_matrix(y_cv, y_pred).ravel())\n",
    "    print(\"----------------\")\n",
    "    \n",
    "    print(\"false positive rate is\")\n",
    "    print(fp/(len(y_cv)-count))\n",
    "\n",
    "optimal_a = fp_scores.index(min(fp_scores))\n",
    "print('\\nThe optimal value of a is %d.' % optimal_a)\n",
    "\n",
    "plt.plot(range(0,30),fp_scores,label='false_postives')\n",
    "#plt.plot(range(0,30),f_scores,label='f_scores')\n",
    "#plt.plot(range(0,30),precision_list,label='precision')\n",
    "#plt.plot(range(0,30),recall_list,label='recall')\n",
    "plt.legend()\n",
    "\n"
   ]
  },
  {
   "cell_type": "code",
   "execution_count": 204,
   "metadata": {},
   "outputs": [
    {
     "data": {
      "text/plain": [
       "<matplotlib.legend.Legend at 0x28b3b087b70>"
      ]
     },
     "execution_count": 204,
     "metadata": {},
     "output_type": "execute_result"
    },
    {
     "data": {
      "image/png": "[encoded data removed]",
      "text/plain": [
       "<Figure size 432x288 with 1 Axes>"
      ]
     },
     "metadata": {},
     "output_type": "display_data"
    }
   ],
   "source": [
    "plt.plot(range(0,30),f_scores,label='f_scores')\n",
    "plt.plot(range(0,30),precision_list,label='precision')\n",
    "plt.plot(range(0,30),recall_list,label='recall')\n",
    "plt.legend()"
   ]
  },
  {
   "cell_type": "code",
   "execution_count": 205,
   "metadata": {},
   "outputs": [
    {
     "name": "stdout",
     "output_type": "stream",
     "text": [
      "[[ 3223  3112]\n",
      " [ 1879 33786]]\n"
     ]
    },
    {
     "data": {
      "text/plain": [
       "<matplotlib.axes._subplots.AxesSubplot at 0x28b308d68d0>"
      ]
     },
     "execution_count": 205,
     "metadata": {},
     "output_type": "execute_result"
    },
    {
     "data": {
      "image/png": "[encoded data removed]",
      "text/plain": [
       "<Figure size 720x504 with 2 Axes>"
      ]
     },
     "metadata": {},
     "output_type": "display_data"
    }
   ],
   "source": [
    "\n",
    "bnb = BernoulliNB(alpha=1)\n",
    "bnb.fit(X_tr,y_tr)\n",
    "y_pred=bnb.predict(X_cv)\n",
    "print(confusion_matrix(y_cv, y_pred))\n",
    "mane=confusion_matrix(y_cv, y_pred)\n",
    "df_cm = pd.DataFrame(mane, index = [\"AN\",\"AY\"],\n",
    "                  columns = [\"PN\",\"PY\"])\n",
    "plt.figure(figsize = (10,7))\n",
    "sns.heatmap(df_cm, annot=True,fmt=\".3f\")"
   ]
  },
  {
   "cell_type": "code",
   "execution_count": 206,
   "metadata": {},
   "outputs": [],
   "source": [
    "def important_features(vectorizer,classifier,n=20):\n",
    "    class_labels = classifier.classes_\n",
    "    feature_names =vectorizer.get_feature_names()\n",
    "    topn_class1 = sorted(zip(classifier.feature_count_[0], feature_names),reverse=True)[:n]\n",
    "    topn_class2 = sorted(zip(classifier.feature_count_[1], feature_names),reverse=True)[:n] \n",
    "    print(\"Important words in negative reviews\")\n",
    "    for coef, feat in topn_class1:\n",
    "        print(class_labels[0], coef, feat)\n",
    "    print(\"-----------------------------------------\")\n",
    "    print(\"Important words in positive reviews\")\n",
    "    for coef, feat in topn_class2:\n",
    "        \n",
    "        print(class_labels[1], coef, feat)"
   ]
  },
  {
   "cell_type": "code",
   "execution_count": 207,
   "metadata": {},
   "outputs": [
    {
     "name": "stdout",
     "output_type": "stream",
     "text": [
      "Important words in negative reviews\n",
      "0 5066.0 tast\n",
      "0 4969.0 like\n",
      "0 4528.0 product\n",
      "0 3648.0 one\n",
      "0 3325.0 would\n",
      "0 3133.0 tri\n",
      "0 2991.0 good\n",
      "0 2991.0 buy\n",
      "0 2774.0 use\n",
      "0 2713.0 flavor\n",
      "0 2678.0 get\n",
      "0 2500.0 dont\n",
      "0 2415.0 order\n",
      "0 2251.0 even\n",
      "0 2042.0 make\n",
      "0 2022.0 time\n",
      "0 1979.0 much\n",
      "0 1961.0 amazon\n",
      "0 1853.0 bought\n",
      "0 1843.0 look\n",
      "-----------------------------------------\n",
      "Important words in positive reviews\n",
      "1 23878.0 like\n",
      "1 23517.0 tast\n",
      "1 22932.0 love\n",
      "1 22728.0 good\n",
      "1 22719.0 great\n",
      "1 19435.0 use\n",
      "1 18426.0 one\n",
      "1 18343.0 flavor\n",
      "1 17777.0 product\n",
      "1 17062.0 tri\n",
      "1 16040.0 make\n",
      "1 14976.0 get\n",
      "1 12608.0 time\n",
      "1 12370.0 buy\n",
      "1 12012.0 amazon\n",
      "1 11951.0 best\n",
      "1 11706.0 find\n",
      "1 10941.0 would\n",
      "1 10914.0 price\n",
      "1 10640.0 also\n"
     ]
    }
   ],
   "source": [
    "important_features(count_vect,bnb,n=20)"
   ]
  },
  {
   "cell_type": "code",
   "execution_count": 223,
   "metadata": {},
   "outputs": [],
   "source": [
    "####\n",
    "## using TF-IDF\n",
    "tf_idf_vect = TfidfVectorizer(ngram_range=(1,2))\n",
    "final_tf_idf = tf_idf_vect.fit_transform(final['CleanedText'].values)\n"
   ]
  },
  {
   "cell_type": "code",
   "execution_count": 224,
   "metadata": {},
   "outputs": [
    {
     "data": {
      "text/plain": [
       "<200000x1946629 sparse matrix of type '<class 'numpy.float64'>'\n",
       "\twith 13141673 stored elements in Compressed Sparse Row format>"
      ]
     },
     "execution_count": 224,
     "metadata": {},
     "output_type": "execute_result"
    }
   ],
   "source": [
    "final_tf_idf"
   ]
  },
  {
   "cell_type": "code",
   "execution_count": 225,
   "metadata": {},
   "outputs": [],
   "source": [
    "sammy = hstack((final_tf_idf,np.array(final['summ_len'])[:,None]))\n",
    "\n",
    "\n",
    "sammy = hstack((sammy,np.array(final['text_len'])[:,None]))\n",
    "#sammy = hstack((sammy,np.array(final['sent_ratio'])[:,None]))\n",
    "sammy = hstack((sammy,np.array(final['HelpfulnessNumerator'])[:,None]))\n",
    "sammy = hstack((sammy,np.array(final['HelpfulnessDenominator'])[:,None]))\n"
   ]
  },
  {
   "cell_type": "code",
   "execution_count": 226,
   "metadata": {},
   "outputs": [
    {
     "data": {
      "text/plain": [
       "<200000x1946633 sparse matrix of type '<class 'numpy.float64'>'\n",
       "\twith 13759629 stored elements in COOrdinate format>"
      ]
     },
     "execution_count": 226,
     "metadata": {},
     "output_type": "execute_result"
    }
   ],
   "source": [
    "sammy"
   ]
  },
  {
   "cell_type": "code",
   "execution_count": 227,
   "metadata": {},
   "outputs": [],
   "source": [
    "X_1, X_test, y_1, y_test = cross_validation.train_test_split(sammy, y, test_size=0.3, random_state=0)\n",
    "X_tr, X_cv, y_tr, y_cv = cross_validation.train_test_split(X_1, y_1, test_size=0.3)"
   ]
  },
  {
   "cell_type": "code",
   "execution_count": 228,
   "metadata": {},
   "outputs": [
    {
     "name": "stderr",
     "output_type": "stream",
     "text": [
      "D:\\installed_files\\lib\\site-packages\\sklearn\\naive_bayes.py:472: UserWarning: alpha too small will result in numeric errors, setting alpha = 1.0e-10\n",
      "  'setting alpha = %.1e' % _ALPHA_MIN)\n"
     ]
    },
    {
     "name": "stdout",
     "output_type": "stream",
     "text": [
      "----------------\n",
      "false positive rate is\n",
      "0.1144047619047619\n",
      "----------------\n",
      "false positive rate is\n",
      "0.15047619047619049\n"
     ]
    },
    {
     "name": "stderr",
     "output_type": "stream",
     "text": [
      "D:\\installed_files\\lib\\site-packages\\sklearn\\metrics\\classification.py:1135: UndefinedMetricWarning: F-score is ill-defined and being set to 0.0 in labels with no predicted samples.\n",
      "  'precision', 'predicted', average, warn_for)\n"
     ]
    },
    {
     "name": "stdout",
     "output_type": "stream",
     "text": [
      "----------------\n",
      "false positive rate is\n",
      "0.15054761904761904\n"
     ]
    },
    {
     "name": "stderr",
     "output_type": "stream",
     "text": [
      "D:\\installed_files\\lib\\site-packages\\sklearn\\metrics\\classification.py:1135: UndefinedMetricWarning: F-score is ill-defined and being set to 0.0 in labels with no predicted samples.\n",
      "  'precision', 'predicted', average, warn_for)\n"
     ]
    },
    {
     "name": "stdout",
     "output_type": "stream",
     "text": [
      "----------------\n",
      "false positive rate is\n",
      "0.15054761904761904\n"
     ]
    },
    {
     "name": "stderr",
     "output_type": "stream",
     "text": [
      "D:\\installed_files\\lib\\site-packages\\sklearn\\metrics\\classification.py:1135: UndefinedMetricWarning: F-score is ill-defined and being set to 0.0 in labels with no predicted samples.\n",
      "  'precision', 'predicted', average, warn_for)\n"
     ]
    },
    {
     "name": "stdout",
     "output_type": "stream",
     "text": [
      "----------------\n",
      "false positive rate is\n",
      "0.15054761904761904\n"
     ]
    },
    {
     "name": "stderr",
     "output_type": "stream",
     "text": [
      "D:\\installed_files\\lib\\site-packages\\sklearn\\metrics\\classification.py:1135: UndefinedMetricWarning: F-score is ill-defined and being set to 0.0 in labels with no predicted samples.\n",
      "  'precision', 'predicted', average, warn_for)\n"
     ]
    },
    {
     "name": "stdout",
     "output_type": "stream",
     "text": [
      "----------------\n",
      "false positive rate is\n",
      "0.15054761904761904\n"
     ]
    },
    {
     "name": "stderr",
     "output_type": "stream",
     "text": [
      "D:\\installed_files\\lib\\site-packages\\sklearn\\metrics\\classification.py:1135: UndefinedMetricWarning: F-score is ill-defined and being set to 0.0 in labels with no predicted samples.\n",
      "  'precision', 'predicted', average, warn_for)\n"
     ]
    },
    {
     "name": "stdout",
     "output_type": "stream",
     "text": [
      "----------------\n",
      "false positive rate is\n",
      "0.15054761904761904\n"
     ]
    },
    {
     "name": "stderr",
     "output_type": "stream",
     "text": [
      "D:\\installed_files\\lib\\site-packages\\sklearn\\metrics\\classification.py:1135: UndefinedMetricWarning: F-score is ill-defined and being set to 0.0 in labels with no predicted samples.\n",
      "  'precision', 'predicted', average, warn_for)\n"
     ]
    },
    {
     "name": "stdout",
     "output_type": "stream",
     "text": [
      "----------------\n",
      "false positive rate is\n",
      "0.15054761904761904\n"
     ]
    },
    {
     "name": "stderr",
     "output_type": "stream",
     "text": [
      "D:\\installed_files\\lib\\site-packages\\sklearn\\metrics\\classification.py:1135: UndefinedMetricWarning: F-score is ill-defined and being set to 0.0 in labels with no predicted samples.\n",
      "  'precision', 'predicted', average, warn_for)\n"
     ]
    },
    {
     "name": "stdout",
     "output_type": "stream",
     "text": [
      "----------------\n",
      "false positive rate is\n",
      "0.15054761904761904\n"
     ]
    },
    {
     "name": "stderr",
     "output_type": "stream",
     "text": [
      "D:\\installed_files\\lib\\site-packages\\sklearn\\metrics\\classification.py:1135: UndefinedMetricWarning: F-score is ill-defined and being set to 0.0 in labels with no predicted samples.\n",
      "  'precision', 'predicted', average, warn_for)\n"
     ]
    },
    {
     "name": "stdout",
     "output_type": "stream",
     "text": [
      "----------------\n",
      "false positive rate is\n",
      "0.15054761904761904\n"
     ]
    },
    {
     "name": "stderr",
     "output_type": "stream",
     "text": [
      "D:\\installed_files\\lib\\site-packages\\sklearn\\metrics\\classification.py:1135: UndefinedMetricWarning: F-score is ill-defined and being set to 0.0 in labels with no predicted samples.\n",
      "  'precision', 'predicted', average, warn_for)\n"
     ]
    },
    {
     "name": "stdout",
     "output_type": "stream",
     "text": [
      "----------------\n",
      "false positive rate is\n",
      "0.15054761904761904\n"
     ]
    },
    {
     "name": "stderr",
     "output_type": "stream",
     "text": [
      "D:\\installed_files\\lib\\site-packages\\sklearn\\metrics\\classification.py:1135: UndefinedMetricWarning: F-score is ill-defined and being set to 0.0 in labels with no predicted samples.\n",
      "  'precision', 'predicted', average, warn_for)\n"
     ]
    },
    {
     "name": "stdout",
     "output_type": "stream",
     "text": [
      "----------------\n",
      "false positive rate is\n",
      "0.15054761904761904\n"
     ]
    },
    {
     "name": "stderr",
     "output_type": "stream",
     "text": [
      "D:\\installed_files\\lib\\site-packages\\sklearn\\metrics\\classification.py:1135: UndefinedMetricWarning: F-score is ill-defined and being set to 0.0 in labels with no predicted samples.\n",
      "  'precision', 'predicted', average, warn_for)\n"
     ]
    },
    {
     "name": "stdout",
     "output_type": "stream",
     "text": [
      "----------------\n",
      "false positive rate is\n",
      "0.15054761904761904\n"
     ]
    },
    {
     "name": "stderr",
     "output_type": "stream",
     "text": [
      "D:\\installed_files\\lib\\site-packages\\sklearn\\metrics\\classification.py:1135: UndefinedMetricWarning: F-score is ill-defined and being set to 0.0 in labels with no predicted samples.\n",
      "  'precision', 'predicted', average, warn_for)\n"
     ]
    },
    {
     "name": "stdout",
     "output_type": "stream",
     "text": [
      "----------------\n",
      "false positive rate is\n",
      "0.15054761904761904\n"
     ]
    },
    {
     "name": "stderr",
     "output_type": "stream",
     "text": [
      "D:\\installed_files\\lib\\site-packages\\sklearn\\metrics\\classification.py:1135: UndefinedMetricWarning: F-score is ill-defined and being set to 0.0 in labels with no predicted samples.\n",
      "  'precision', 'predicted', average, warn_for)\n"
     ]
    },
    {
     "name": "stdout",
     "output_type": "stream",
     "text": [
      "----------------\n",
      "false positive rate is\n",
      "0.15054761904761904\n"
     ]
    },
    {
     "name": "stderr",
     "output_type": "stream",
     "text": [
      "D:\\installed_files\\lib\\site-packages\\sklearn\\metrics\\classification.py:1135: UndefinedMetricWarning: F-score is ill-defined and being set to 0.0 in labels with no predicted samples.\n",
      "  'precision', 'predicted', average, warn_for)\n"
     ]
    },
    {
     "name": "stdout",
     "output_type": "stream",
     "text": [
      "----------------\n",
      "false positive rate is\n",
      "0.15054761904761904\n"
     ]
    },
    {
     "name": "stderr",
     "output_type": "stream",
     "text": [
      "D:\\installed_files\\lib\\site-packages\\sklearn\\metrics\\classification.py:1135: UndefinedMetricWarning: F-score is ill-defined and being set to 0.0 in labels with no predicted samples.\n",
      "  'precision', 'predicted', average, warn_for)\n"
     ]
    },
    {
     "name": "stdout",
     "output_type": "stream",
     "text": [
      "----------------\n",
      "false positive rate is\n",
      "0.15054761904761904\n"
     ]
    },
    {
     "name": "stderr",
     "output_type": "stream",
     "text": [
      "D:\\installed_files\\lib\\site-packages\\sklearn\\metrics\\classification.py:1135: UndefinedMetricWarning: F-score is ill-defined and being set to 0.0 in labels with no predicted samples.\n",
      "  'precision', 'predicted', average, warn_for)\n"
     ]
    },
    {
     "name": "stdout",
     "output_type": "stream",
     "text": [
      "----------------\n",
      "false positive rate is\n",
      "0.15054761904761904\n"
     ]
    },
    {
     "name": "stderr",
     "output_type": "stream",
     "text": [
      "D:\\installed_files\\lib\\site-packages\\sklearn\\metrics\\classification.py:1135: UndefinedMetricWarning: F-score is ill-defined and being set to 0.0 in labels with no predicted samples.\n",
      "  'precision', 'predicted', average, warn_for)\n"
     ]
    },
    {
     "name": "stdout",
     "output_type": "stream",
     "text": [
      "----------------\n",
      "false positive rate is\n",
      "0.15054761904761904\n"
     ]
    },
    {
     "name": "stderr",
     "output_type": "stream",
     "text": [
      "D:\\installed_files\\lib\\site-packages\\sklearn\\metrics\\classification.py:1135: UndefinedMetricWarning: F-score is ill-defined and being set to 0.0 in labels with no predicted samples.\n",
      "  'precision', 'predicted', average, warn_for)\n"
     ]
    },
    {
     "name": "stdout",
     "output_type": "stream",
     "text": [
      "----------------\n",
      "false positive rate is\n",
      "0.15054761904761904\n"
     ]
    },
    {
     "name": "stderr",
     "output_type": "stream",
     "text": [
      "D:\\installed_files\\lib\\site-packages\\sklearn\\metrics\\classification.py:1135: UndefinedMetricWarning: F-score is ill-defined and being set to 0.0 in labels with no predicted samples.\n",
      "  'precision', 'predicted', average, warn_for)\n"
     ]
    },
    {
     "name": "stdout",
     "output_type": "stream",
     "text": [
      "----------------\n",
      "false positive rate is\n",
      "0.15054761904761904\n"
     ]
    },
    {
     "name": "stderr",
     "output_type": "stream",
     "text": [
      "D:\\installed_files\\lib\\site-packages\\sklearn\\metrics\\classification.py:1135: UndefinedMetricWarning: F-score is ill-defined and being set to 0.0 in labels with no predicted samples.\n",
      "  'precision', 'predicted', average, warn_for)\n"
     ]
    },
    {
     "name": "stdout",
     "output_type": "stream",
     "text": [
      "----------------\n",
      "false positive rate is\n",
      "0.15054761904761904\n"
     ]
    },
    {
     "name": "stderr",
     "output_type": "stream",
     "text": [
      "D:\\installed_files\\lib\\site-packages\\sklearn\\metrics\\classification.py:1135: UndefinedMetricWarning: F-score is ill-defined and being set to 0.0 in labels with no predicted samples.\n",
      "  'precision', 'predicted', average, warn_for)\n"
     ]
    },
    {
     "name": "stdout",
     "output_type": "stream",
     "text": [
      "----------------\n",
      "false positive rate is\n",
      "0.15054761904761904\n"
     ]
    },
    {
     "name": "stderr",
     "output_type": "stream",
     "text": [
      "D:\\installed_files\\lib\\site-packages\\sklearn\\metrics\\classification.py:1135: UndefinedMetricWarning: F-score is ill-defined and being set to 0.0 in labels with no predicted samples.\n",
      "  'precision', 'predicted', average, warn_for)\n"
     ]
    },
    {
     "name": "stdout",
     "output_type": "stream",
     "text": [
      "----------------\n",
      "false positive rate is\n",
      "0.15054761904761904\n"
     ]
    },
    {
     "name": "stderr",
     "output_type": "stream",
     "text": [
      "D:\\installed_files\\lib\\site-packages\\sklearn\\metrics\\classification.py:1135: UndefinedMetricWarning: F-score is ill-defined and being set to 0.0 in labels with no predicted samples.\n",
      "  'precision', 'predicted', average, warn_for)\n"
     ]
    },
    {
     "name": "stdout",
     "output_type": "stream",
     "text": [
      "----------------\n",
      "false positive rate is\n",
      "0.15054761904761904\n"
     ]
    },
    {
     "name": "stderr",
     "output_type": "stream",
     "text": [
      "D:\\installed_files\\lib\\site-packages\\sklearn\\metrics\\classification.py:1135: UndefinedMetricWarning: F-score is ill-defined and being set to 0.0 in labels with no predicted samples.\n",
      "  'precision', 'predicted', average, warn_for)\n"
     ]
    },
    {
     "name": "stdout",
     "output_type": "stream",
     "text": [
      "----------------\n",
      "false positive rate is\n",
      "0.15054761904761904\n"
     ]
    },
    {
     "name": "stderr",
     "output_type": "stream",
     "text": [
      "D:\\installed_files\\lib\\site-packages\\sklearn\\metrics\\classification.py:1135: UndefinedMetricWarning: F-score is ill-defined and being set to 0.0 in labels with no predicted samples.\n",
      "  'precision', 'predicted', average, warn_for)\n"
     ]
    },
    {
     "name": "stdout",
     "output_type": "stream",
     "text": [
      "----------------\n",
      "false positive rate is\n",
      "0.15054761904761904\n"
     ]
    },
    {
     "name": "stderr",
     "output_type": "stream",
     "text": [
      "D:\\installed_files\\lib\\site-packages\\sklearn\\metrics\\classification.py:1135: UndefinedMetricWarning: F-score is ill-defined and being set to 0.0 in labels with no predicted samples.\n",
      "  'precision', 'predicted', average, warn_for)\n"
     ]
    },
    {
     "name": "stdout",
     "output_type": "stream",
     "text": [
      "----------------\n",
      "false positive rate is\n",
      "0.15054761904761904\n"
     ]
    },
    {
     "name": "stderr",
     "output_type": "stream",
     "text": [
      "D:\\installed_files\\lib\\site-packages\\sklearn\\metrics\\classification.py:1135: UndefinedMetricWarning: F-score is ill-defined and being set to 0.0 in labels with no predicted samples.\n",
      "  'precision', 'predicted', average, warn_for)\n"
     ]
    },
    {
     "name": "stdout",
     "output_type": "stream",
     "text": [
      "----------------\n",
      "false positive rate is\n",
      "0.15054761904761904\n"
     ]
    },
    {
     "name": "stderr",
     "output_type": "stream",
     "text": [
      "D:\\installed_files\\lib\\site-packages\\sklearn\\metrics\\classification.py:1135: UndefinedMetricWarning: F-score is ill-defined and being set to 0.0 in labels with no predicted samples.\n",
      "  'precision', 'predicted', average, warn_for)\n"
     ]
    },
    {
     "name": "stdout",
     "output_type": "stream",
     "text": [
      "----------------\n",
      "false positive rate is\n",
      "0.15054761904761904\n",
      "\n",
      "The optimal value of a is 0.\n"
     ]
    },
    {
     "data": {
      "text/plain": [
       "<matplotlib.legend.Legend at 0x28b035189e8>"
      ]
     },
     "execution_count": 228,
     "metadata": {},
     "output_type": "execute_result"
    },
    {
     "data": {
      "image/png": "[encoded data removed]",
      "text/plain": [
       "<Figure size 432x288 with 1 Axes>"
      ]
     },
     "metadata": {},
     "output_type": "display_data"
    }
   ],
   "source": [
    "from sklearn.naive_bayes import MultinomialNB\n",
    "\n",
    "myList = list(range(0,30))\n",
    "neighbors = myList\n",
    "\n",
    "fp_scores = [0]*30\n",
    "f_scores = [0]*30\n",
    "precision_list = [0]*30\n",
    "recall_list = [0]*30\n",
    "\n",
    "for k in neighbors:\n",
    "    \n",
    "    bnb = MultinomialNB(alpha=k)\n",
    "    bnb.fit(X_tr,y_tr)\n",
    "    y_pred=bnb.predict(X_cv)\n",
    "    tn, fp, fn, tp = confusion_matrix(y_cv, y_pred).ravel()\n",
    "    count=0\n",
    "    for t in y_cv:\n",
    "        if(t==1):\n",
    "            ++count\n",
    "    # count denotes total positive labels\n",
    "    score=f1_score(y_cv, y_pred, average='macro')\n",
    "    precision = tp/tp+fp\n",
    "    recall = tp/tp+fn\n",
    "    f_scores[k]=score\n",
    "    fp_scores[k]=fp/(len(y_cv)-count)\n",
    "    precision_list[k]=precision\n",
    "    recall_list[k]=recall\n",
    "    \n",
    "    #print(confusion_matrix(y_cv, y_pred).ravel())\n",
    "    print(\"----------------\")\n",
    "    \n",
    "    print(\"false positive rate is\")\n",
    "    print(fp/(len(y_cv)-count))\n",
    "\n",
    "optimal_a = fp_scores.index(min(fp_scores))\n",
    "print('\\nThe optimal value of a is %d.' % optimal_a)\n",
    "\n",
    "plt.plot(range(0,30),fp_scores,label='false_postives')\n",
    "#plt.plot(range(0,30),f_scores,label='f_scores')\n",
    "#plt.plot(range(0,30),precision_list,label='precision')\n",
    "#plt.plot(range(0,30),recall_list,label='recall')\n",
    "plt.legend()\n",
    "\n"
   ]
  },
  {
   "cell_type": "code",
   "execution_count": 229,
   "metadata": {},
   "outputs": [
    {
     "data": {
      "text/plain": [
       "<matplotlib.legend.Legend at 0x28b464aed68>"
      ]
     },
     "execution_count": 229,
     "metadata": {},
     "output_type": "execute_result"
    },
    {
     "data": {
      "image/png": "[encoded data removed]",
      "text/plain": [
       "<Figure size 432x288 with 1 Axes>"
      ]
     },
     "metadata": {},
     "output_type": "display_data"
    }
   ],
   "source": [
    "plt.plot(range(0,30),f_scores,label='f_scores')\n",
    "plt.plot(range(0,30),precision_list,label='precision')\n",
    "plt.plot(range(0,30),recall_list,label='recall')\n",
    "plt.legend()"
   ]
  },
  {
   "cell_type": "code",
   "execution_count": 232,
   "metadata": {},
   "outputs": [
    {
     "name": "stderr",
     "output_type": "stream",
     "text": [
      "D:\\installed_files\\lib\\site-packages\\sklearn\\naive_bayes.py:472: UserWarning: alpha too small will result in numeric errors, setting alpha = 1.0e-10\n",
      "  'setting alpha = %.1e' % _ALPHA_MIN)\n"
     ]
    },
    {
     "name": "stdout",
     "output_type": "stream",
     "text": [
      "[[ 1518  4805]\n",
      " [  672 35005]]\n"
     ]
    },
    {
     "data": {
      "text/plain": [
       "<matplotlib.axes._subplots.AxesSubplot at 0x28b37ab8c88>"
      ]
     },
     "execution_count": 232,
     "metadata": {},
     "output_type": "execute_result"
    },
    {
     "data": {
      "image/png": "[encoded data removed]",
      "text/plain": [
       "<Figure size 720x504 with 2 Axes>"
      ]
     },
     "metadata": {},
     "output_type": "display_data"
    }
   ],
   "source": [
    "# for a=0\n",
    "bnb = MultinomialNB(alpha=0)\n",
    "bnb.fit(X_tr,y_tr)\n",
    "y_pred=bnb.predict(X_cv)\n",
    "print(confusion_matrix(y_cv, y_pred))\n",
    "mane=confusion_matrix(y_cv, y_pred)\n",
    "df_cm = pd.DataFrame(mane, index = [\"AN\",\"AY\"],\n",
    "                  columns = [\"PN\",\"PY\"])\n",
    "plt.figure(figsize = (10,7))\n",
    "sns.heatmap(df_cm, annot=True,fmt=\".3f\")"
   ]
  },
  {
   "cell_type": "code",
   "execution_count": 231,
   "metadata": {},
   "outputs": [
    {
     "name": "stdout",
     "output_type": "stream",
     "text": [
      "Important words in negative reviews\n",
      "0 258.68547693113067 tast\n",
      "0 241.885159572019 product\n",
      "0 223.22179762894652 like\n",
      "0 164.64519287738153 would\n",
      "0 160.53690895237395 one\n",
      "0 146.2900147224849 tea\n",
      "0 145.37728874265497 flavor\n",
      "0 145.30532668286614 order\n",
      "0 144.13286981294218 buy\n",
      "0 139.10857843464933 tri\n",
      "0 127.60180853797587 box\n",
      "0 121.59126258270736 dont\n",
      "0 121.22963692073121 disappoint\n",
      "0 119.22822800164309 good\n",
      "0 116.86243167741583 bag\n",
      "0 116.46533870973879 use\n",
      "0 116.41013726329085 get\n",
      "0 113.73780106780131 food\n",
      "0 112.62138291524406 coffe\n",
      "0 104.28420244587721 purchas\n",
      "-----------------------------------------\n",
      "Important words in positive reviews\n",
      "1 1242.4495145940414 tea\n",
      "1 1180.8247762852604 great\n",
      "1 1153.3980932263416 love\n",
      "1 1098.8603275678079 good\n",
      "1 1071.917630802382 tast\n",
      "1 1045.2570232598537 like\n",
      "1 962.812957157238 flavor\n",
      "1 960.3276690927127 use\n",
      "1 934.5957247981327 product\n",
      "1 819.7795708047796 coffe\n",
      "1 818.9109590571638 one\n",
      "1 771.9367545651795 tri\n",
      "1 752.7682325797813 make\n",
      "1 685.5616675139044 get\n",
      "1 669.8009589949406 best\n",
      "1 655.587965426735 price\n",
      "1 648.624556921495 buy\n",
      "1 645.7350310444084 food\n",
      "1 640.4376685634548 find\n",
      "1 633.3437842143571 amazon\n"
     ]
    }
   ],
   "source": [
    "important_features(tf_idf_vect,bnb,n=20)"
   ]
  },
  {
   "cell_type": "code",
   "execution_count": null,
   "metadata": {},
   "outputs": [],
   "source": []
  },
  {
   "cell_type": "code",
   "execution_count": null,
   "metadata": {},
   "outputs": [],
   "source": [
    "\n",
    "\"\"\"\n",
    "Result\n",
    "After reading the documentation carefully, I concluded that\n",
    "Bernoulli Naive Bayes should be used for bag of words\n",
    "Multinomial for Tf-Idf\n",
    "\n",
    "Though I calculated all the accuracy measures but mainly took false positive rate as the deciding factor\n",
    "\n",
    "I added features like length of summary, length of text ,etc as a part of feature engineering\n",
    "I tried to add ratio of len(summary)/len(text) as one of the feature which I thought \".... is the most important....\" but\n",
    "when I concatenate it with sparse matrix and pass it into the classifier, it is throwing some error...\n",
    "..... I will raise this doubt on mail.....:)\n",
    " \n",
    "less False positive rate is observed in case of BOW representation\n",
    "\n",
    "\n",
    "\"\"\"\n"
   ]
  }
 ],
 "metadata": {
  "kernelspec": {
   "display_name": "Python 3",
   "language": "python",
   "name": "python3"
  },
  "language_info": {
   "codemirror_mode": {
    "name": "ipython",
    "version": 3
   },
   "file_extension": ".py",
   "mimetype": "text/x-python",
   "name": "python",
   "nbconvert_exporter": "python",
   "pygments_lexer": "ipython3",
   "version": "3.7.1"
  }
 },
 "nbformat": 4,
 "nbformat_minor": 2
}
