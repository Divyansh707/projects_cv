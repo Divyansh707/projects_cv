{
 "cells": [
  {
   "cell_type": "markdown",
   "metadata": {},
   "source": [
    "# Amazon Fine Food Reviews Analysis\n",
    "\n",
    "\n",
    "Data Source: https://www.kaggle.com/snap/amazon-fine-food-reviews <br>\n",
    "\n",
    "EDA: https://nycdatascience.com/blog/student-works/amazon-fine-foods-visualization/\n",
    "\n",
    "\n",
    "The Amazon Fine Food Reviews dataset consists of reviews of fine foods from Amazon.<br>\n",
    "\n",
    "Number of reviews: 568,454<br>\n",
    "Number of users: 256,059<br>\n",
    "Number of products: 74,258<br>\n",
    "Timespan: Oct 1999 - Oct 2012<br>\n",
    "Number of Attributes/Columns in data: 10 \n",
    "\n",
    "Attribute Information:\n",
    "\n",
    "1. Id\n",
    "2. ProductId - unique identifier for the product\n",
    "3. UserId - unqiue identifier for the user\n",
    "4. ProfileName\n",
    "5. HelpfulnessNumerator - number of users who found the review helpful\n",
    "6. HelpfulnessDenominator - number of users who indicated whether they found the review helpful or not\n",
    "7. Score - rating between 1 and 5\n",
    "8. Time - timestamp for the review\n",
    "9. Summary - brief summary of the review\n",
    "10. Text - text of the review\n",
    "\n",
    "\n",
    "#### Objective:\n",
    "Given a review, determine whether the review is positive (rating of 4 or 5) or negative (rating of 1 or 2).\n",
    "\n",
    "<br>\n",
    "[Q] How to determine if a review is positive or negative?<br>\n",
    "<br> \n",
    "[Ans] We could use Score/Rating. A rating of 4 or 5 can be cosnidered as a positive review. A rating of 1 or 2 can be considered as negative one. A review of rating 3 is considered nuetral and such reviews are ignored from our analysis. This is an approximate and proxy way of determining the polarity (positivity/negativity) of a review.\n",
    "\n",
    "\n"
   ]
  },
  {
   "cell_type": "markdown",
   "metadata": {},
   "source": [
    "# [1]. Reading Data"
   ]
  },
  {
   "cell_type": "markdown",
   "metadata": {},
   "source": [
    "## [1.1] Loading the data\n",
    "\n",
    "The dataset is available in two forms\n",
    "1. .csv file\n",
    "2. SQLite Database\n",
    "\n",
    "In order to load the data, We have used the SQLITE dataset as it is easier to query the data and visualise the data efficiently.\n",
    "<br> \n",
    "\n",
    "Here as we only want to get the global sentiment of the recommendations (positive or negative), we will purposefully ignore all Scores equal to 3. If the score is above 3, then the recommendation wil be set to \"positive\". Otherwise, it will be set to \"negative\"."
   ]
  },
  {
   "cell_type": "code",
   "execution_count": 1,
   "metadata": {},
   "outputs": [
    {
     "name": "stderr",
     "output_type": "stream",
     "text": [
      "D:\\installed_files\\lib\\site-packages\\gensim\\utils.py:1209: UserWarning: detected Windows; aliasing chunkize to chunkize_serial\n",
      "  warnings.warn(\"detected Windows; aliasing chunkize to chunkize_serial\")\n"
     ]
    }
   ],
   "source": [
    "%matplotlib inline\n",
    "import warnings\n",
    "warnings.filterwarnings(\"ignore\")\n",
    "\n",
    "\n",
    "import sqlite3\n",
    "import pandas as pd\n",
    "import numpy as np\n",
    "import nltk\n",
    "import string\n",
    "import matplotlib.pyplot as plt\n",
    "import seaborn as sns\n",
    "from sklearn.feature_extraction.text import TfidfTransformer\n",
    "from sklearn.feature_extraction.text import TfidfVectorizer\n",
    "\n",
    "from sklearn.feature_extraction.text import CountVectorizer\n",
    "from sklearn.metrics import confusion_matrix\n",
    "from sklearn import metrics\n",
    "from sklearn.metrics import roc_curve, auc\n",
    "from nltk.stem.porter import PorterStemmer\n",
    "\n",
    "import re\n",
    "# Tutorial about Python regular expressions: https://pymotw.com/2/re/\n",
    "import string\n",
    "from nltk.corpus import stopwords\n",
    "from nltk.stem import PorterStemmer\n",
    "from nltk.stem.wordnet import WordNetLemmatizer\n",
    "\n",
    "from gensim.models import Word2Vec\n",
    "from gensim.models import KeyedVectors\n",
    "import pickle\n",
    "\n",
    "from tqdm import tqdm\n",
    "import os"
   ]
  },
  {
   "cell_type": "code",
   "execution_count": 2,
   "metadata": {},
   "outputs": [
    {
     "name": "stdout",
     "output_type": "stream",
     "text": [
      "Number of data points in our data (50000, 10)\n"
     ]
    },
    {
     "data": {
      "text/html": [
       "<div>\n",
       "<style scoped>\n",
       "    .dataframe tbody tr th:only-of-type {\n",
       "        vertical-align: middle;\n",
       "    }\n",
       "\n",
       "    .dataframe tbody tr th {\n",
       "        vertical-align: top;\n",
       "    }\n",
       "\n",
       "    .dataframe thead th {\n",
       "        text-align: right;\n",
       "    }\n",
       "</style>\n",
       "<table border=\"1\" class=\"dataframe\">\n",
       "  <thead>\n",
       "    <tr style=\"text-align: right;\">\n",
       "      <th></th>\n",
       "      <th>Id</th>\n",
       "      <th>ProductId</th>\n",
       "      <th>UserId</th>\n",
       "      <th>ProfileName</th>\n",
       "      <th>HelpfulnessNumerator</th>\n",
       "      <th>HelpfulnessDenominator</th>\n",
       "      <th>Score</th>\n",
       "      <th>Time</th>\n",
       "      <th>Summary</th>\n",
       "      <th>Text</th>\n",
       "    </tr>\n",
       "  </thead>\n",
       "  <tbody>\n",
       "    <tr>\n",
       "      <th>0</th>\n",
       "      <td>1</td>\n",
       "      <td>B001E4KFG0</td>\n",
       "      <td>A3SGXH7AUHU8GW</td>\n",
       "      <td>delmartian</td>\n",
       "      <td>1</td>\n",
       "      <td>1</td>\n",
       "      <td>1</td>\n",
       "      <td>1303862400</td>\n",
       "      <td>Good Quality Dog Food</td>\n",
       "      <td>I have bought several of the Vitality canned d...</td>\n",
       "    </tr>\n",
       "    <tr>\n",
       "      <th>1</th>\n",
       "      <td>3</td>\n",
       "      <td>B000LQOCH0</td>\n",
       "      <td>ABXLMWJIXXAIN</td>\n",
       "      <td>Natalia Corres \"Natalia Corres\"</td>\n",
       "      <td>1</td>\n",
       "      <td>1</td>\n",
       "      <td>1</td>\n",
       "      <td>1219017600</td>\n",
       "      <td>\"Delight\" says it all</td>\n",
       "      <td>This is a confection that has been around a fe...</td>\n",
       "    </tr>\n",
       "    <tr>\n",
       "      <th>2</th>\n",
       "      <td>5</td>\n",
       "      <td>B006K2ZZ7K</td>\n",
       "      <td>A1UQRSCLF8GW1T</td>\n",
       "      <td>Michael D. Bigham \"M. Wassir\"</td>\n",
       "      <td>0</td>\n",
       "      <td>0</td>\n",
       "      <td>1</td>\n",
       "      <td>1350777600</td>\n",
       "      <td>Great taffy</td>\n",
       "      <td>Great taffy at a great price.  There was a wid...</td>\n",
       "    </tr>\n",
       "  </tbody>\n",
       "</table>\n",
       "</div>"
      ],
      "text/plain": [
       "   Id   ProductId          UserId                      ProfileName  \\\n",
       "0   1  B001E4KFG0  A3SGXH7AUHU8GW                       delmartian   \n",
       "1   3  B000LQOCH0   ABXLMWJIXXAIN  Natalia Corres \"Natalia Corres\"   \n",
       "2   5  B006K2ZZ7K  A1UQRSCLF8GW1T    Michael D. Bigham \"M. Wassir\"   \n",
       "\n",
       "   HelpfulnessNumerator  HelpfulnessDenominator  Score        Time  \\\n",
       "0                     1                       1      1  1303862400   \n",
       "1                     1                       1      1  1219017600   \n",
       "2                     0                       0      1  1350777600   \n",
       "\n",
       "                 Summary                                               Text  \n",
       "0  Good Quality Dog Food  I have bought several of the Vitality canned d...  \n",
       "1  \"Delight\" says it all  This is a confection that has been around a fe...  \n",
       "2            Great taffy  Great taffy at a great price.  There was a wid...  "
      ]
     },
     "execution_count": 2,
     "metadata": {},
     "output_type": "execute_result"
    }
   ],
   "source": [
    "# using SQLite Table to read data.\n",
    "con = sqlite3.connect('C:\\\\Users\\\\DIVYANSH SHARMA\\\\Desktop\\\\database.sqlite') \n",
    "\n",
    "# filtering only positive and negative reviews i.e. \n",
    "# not taking into consideration those reviews with Score=3\n",
    "# SELECT * FROM Reviews WHERE Score != 3 LIMIT 500000, will give top 500000 data points\n",
    "# you can change the number to any other number based on your computing power\n",
    "\n",
    "# filtered_data = pd.read_sql_query(\"\"\" SELECT * FROM Reviews WHERE Score != 3 LIMIT 500000\"\"\", con) \n",
    "# for tsne assignment you can take 5k data points\n",
    "\n",
    "filtered_data1 = pd.read_sql_query(\"\"\" SELECT * FROM Reviews WHERE Score != 3 AND score>3 LIMIT 25000\"\"\", con)\n",
    "filtered_data2 = pd.read_sql_query(\"\"\" SELECT * FROM Reviews WHERE Score != 3 AND score<3 LIMIT 25000\"\"\", con)\n",
    "frames=[filtered_data1,filtered_data2]\n",
    "filtered_data = pd.concat(frames)\n",
    "# Give reviews with Score>3 a positive rating(1), and reviews with a score<3 a negative rating(0).\n",
    "def partition(x):\n",
    "    if x < 3:\n",
    "        return 0\n",
    "    return 1\n",
    "\n",
    "#changing reviews with score less than 3 to be positive and vice-versa\n",
    "actualScore = filtered_data['Score']\n",
    "positiveNegative = actualScore.map(partition) \n",
    "filtered_data['Score'] = positiveNegative\n",
    "print(\"Number of data points in our data\", filtered_data.shape)\n",
    "filtered_data.head(3)"
   ]
  },
  {
   "cell_type": "code",
   "execution_count": 3,
   "metadata": {},
   "outputs": [],
   "source": [
    "display = pd.read_sql_query(\"\"\"\n",
    "SELECT UserId, ProductId, ProfileName, Time, Score, Text, COUNT(*)\n",
    "FROM Reviews\n",
    "GROUP BY UserId\n",
    "HAVING COUNT(*)>1\n",
    "\"\"\", con)"
   ]
  },
  {
   "cell_type": "code",
   "execution_count": 4,
   "metadata": {
    "scrolled": true
   },
   "outputs": [
    {
     "name": "stdout",
     "output_type": "stream",
     "text": [
      "(80668, 7)\n"
     ]
    },
    {
     "data": {
      "text/html": [
       "<div>\n",
       "<style scoped>\n",
       "    .dataframe tbody tr th:only-of-type {\n",
       "        vertical-align: middle;\n",
       "    }\n",
       "\n",
       "    .dataframe tbody tr th {\n",
       "        vertical-align: top;\n",
       "    }\n",
       "\n",
       "    .dataframe thead th {\n",
       "        text-align: right;\n",
       "    }\n",
       "</style>\n",
       "<table border=\"1\" class=\"dataframe\">\n",
       "  <thead>\n",
       "    <tr style=\"text-align: right;\">\n",
       "      <th></th>\n",
       "      <th>UserId</th>\n",
       "      <th>ProductId</th>\n",
       "      <th>ProfileName</th>\n",
       "      <th>Time</th>\n",
       "      <th>Score</th>\n",
       "      <th>Text</th>\n",
       "      <th>COUNT(*)</th>\n",
       "    </tr>\n",
       "  </thead>\n",
       "  <tbody>\n",
       "    <tr>\n",
       "      <th>0</th>\n",
       "      <td>#oc-R115TNMSPFT9I7</td>\n",
       "      <td>B007Y59HVM</td>\n",
       "      <td>Breyton</td>\n",
       "      <td>1331510400</td>\n",
       "      <td>2</td>\n",
       "      <td>Overall its just OK when considering the price...</td>\n",
       "      <td>2</td>\n",
       "    </tr>\n",
       "    <tr>\n",
       "      <th>1</th>\n",
       "      <td>#oc-R11D9D7SHXIJB9</td>\n",
       "      <td>B005HG9ET0</td>\n",
       "      <td>Louis E. Emory \"hoppy\"</td>\n",
       "      <td>1342396800</td>\n",
       "      <td>5</td>\n",
       "      <td>My wife has recurring extreme muscle spasms, u...</td>\n",
       "      <td>3</td>\n",
       "    </tr>\n",
       "    <tr>\n",
       "      <th>2</th>\n",
       "      <td>#oc-R11DNU2NBKQ23Z</td>\n",
       "      <td>B007Y59HVM</td>\n",
       "      <td>Kim Cieszykowski</td>\n",
       "      <td>1348531200</td>\n",
       "      <td>1</td>\n",
       "      <td>This coffee is horrible and unfortunately not ...</td>\n",
       "      <td>2</td>\n",
       "    </tr>\n",
       "    <tr>\n",
       "      <th>3</th>\n",
       "      <td>#oc-R11O5J5ZVQE25C</td>\n",
       "      <td>B005HG9ET0</td>\n",
       "      <td>Penguin Chick</td>\n",
       "      <td>1346889600</td>\n",
       "      <td>5</td>\n",
       "      <td>This will be the bottle that you grab from the...</td>\n",
       "      <td>3</td>\n",
       "    </tr>\n",
       "    <tr>\n",
       "      <th>4</th>\n",
       "      <td>#oc-R12KPBODL2B5ZD</td>\n",
       "      <td>B007OSBE1U</td>\n",
       "      <td>Christopher P. Presta</td>\n",
       "      <td>1348617600</td>\n",
       "      <td>1</td>\n",
       "      <td>I didnt like this coffee. Instead of telling y...</td>\n",
       "      <td>2</td>\n",
       "    </tr>\n",
       "  </tbody>\n",
       "</table>\n",
       "</div>"
      ],
      "text/plain": [
       "               UserId   ProductId             ProfileName        Time  Score  \\\n",
       "0  #oc-R115TNMSPFT9I7  B007Y59HVM                 Breyton  1331510400      2   \n",
       "1  #oc-R11D9D7SHXIJB9  B005HG9ET0  Louis E. Emory \"hoppy\"  1342396800      5   \n",
       "2  #oc-R11DNU2NBKQ23Z  B007Y59HVM        Kim Cieszykowski  1348531200      1   \n",
       "3  #oc-R11O5J5ZVQE25C  B005HG9ET0           Penguin Chick  1346889600      5   \n",
       "4  #oc-R12KPBODL2B5ZD  B007OSBE1U   Christopher P. Presta  1348617600      1   \n",
       "\n",
       "                                                Text  COUNT(*)  \n",
       "0  Overall its just OK when considering the price...         2  \n",
       "1  My wife has recurring extreme muscle spasms, u...         3  \n",
       "2  This coffee is horrible and unfortunately not ...         2  \n",
       "3  This will be the bottle that you grab from the...         3  \n",
       "4  I didnt like this coffee. Instead of telling y...         2  "
      ]
     },
     "execution_count": 4,
     "metadata": {},
     "output_type": "execute_result"
    }
   ],
   "source": [
    "print(display.shape)\n",
    "display.head()"
   ]
  },
  {
   "cell_type": "code",
   "execution_count": 5,
   "metadata": {},
   "outputs": [
    {
     "data": {
      "text/html": [
       "<div>\n",
       "<style scoped>\n",
       "    .dataframe tbody tr th:only-of-type {\n",
       "        vertical-align: middle;\n",
       "    }\n",
       "\n",
       "    .dataframe tbody tr th {\n",
       "        vertical-align: top;\n",
       "    }\n",
       "\n",
       "    .dataframe thead th {\n",
       "        text-align: right;\n",
       "    }\n",
       "</style>\n",
       "<table border=\"1\" class=\"dataframe\">\n",
       "  <thead>\n",
       "    <tr style=\"text-align: right;\">\n",
       "      <th></th>\n",
       "      <th>UserId</th>\n",
       "      <th>ProductId</th>\n",
       "      <th>ProfileName</th>\n",
       "      <th>Time</th>\n",
       "      <th>Score</th>\n",
       "      <th>Text</th>\n",
       "      <th>COUNT(*)</th>\n",
       "    </tr>\n",
       "  </thead>\n",
       "  <tbody>\n",
       "    <tr>\n",
       "      <th>80638</th>\n",
       "      <td>AZY10LLTJ71NX</td>\n",
       "      <td>B006P7E5ZI</td>\n",
       "      <td>undertheshrine \"undertheshrine\"</td>\n",
       "      <td>1334707200</td>\n",
       "      <td>5</td>\n",
       "      <td>I was recommended to try green tea extract to ...</td>\n",
       "      <td>5</td>\n",
       "    </tr>\n",
       "  </tbody>\n",
       "</table>\n",
       "</div>"
      ],
      "text/plain": [
       "              UserId   ProductId                      ProfileName        Time  \\\n",
       "80638  AZY10LLTJ71NX  B006P7E5ZI  undertheshrine \"undertheshrine\"  1334707200   \n",
       "\n",
       "       Score                                               Text  COUNT(*)  \n",
       "80638      5  I was recommended to try green tea extract to ...         5  "
      ]
     },
     "execution_count": 5,
     "metadata": {},
     "output_type": "execute_result"
    }
   ],
   "source": [
    "display[display['UserId']=='AZY10LLTJ71NX']"
   ]
  },
  {
   "cell_type": "code",
   "execution_count": 6,
   "metadata": {},
   "outputs": [
    {
     "data": {
      "text/plain": [
       "393063"
      ]
     },
     "execution_count": 6,
     "metadata": {},
     "output_type": "execute_result"
    }
   ],
   "source": [
    "display['COUNT(*)'].sum()"
   ]
  },
  {
   "cell_type": "markdown",
   "metadata": {},
   "source": [
    "#  [2] Exploratory Data Analysis"
   ]
  },
  {
   "cell_type": "markdown",
   "metadata": {},
   "source": [
    "## [2.1] Data Cleaning: Deduplication\n",
    "\n",
    "It is observed (as shown in the table below) that the reviews data had many duplicate entries. Hence it was necessary to remove duplicates in order to get unbiased results for the analysis of the data.  Following is an example:"
   ]
  },
  {
   "cell_type": "code",
   "execution_count": 7,
   "metadata": {
    "scrolled": false
   },
   "outputs": [
    {
     "data": {
      "text/html": [
       "<div>\n",
       "<style scoped>\n",
       "    .dataframe tbody tr th:only-of-type {\n",
       "        vertical-align: middle;\n",
       "    }\n",
       "\n",
       "    .dataframe tbody tr th {\n",
       "        vertical-align: top;\n",
       "    }\n",
       "\n",
       "    .dataframe thead th {\n",
       "        text-align: right;\n",
       "    }\n",
       "</style>\n",
       "<table border=\"1\" class=\"dataframe\">\n",
       "  <thead>\n",
       "    <tr style=\"text-align: right;\">\n",
       "      <th></th>\n",
       "      <th>Id</th>\n",
       "      <th>ProductId</th>\n",
       "      <th>UserId</th>\n",
       "      <th>ProfileName</th>\n",
       "      <th>HelpfulnessNumerator</th>\n",
       "      <th>HelpfulnessDenominator</th>\n",
       "      <th>Score</th>\n",
       "      <th>Time</th>\n",
       "      <th>Summary</th>\n",
       "      <th>Text</th>\n",
       "    </tr>\n",
       "  </thead>\n",
       "  <tbody>\n",
       "    <tr>\n",
       "      <th>0</th>\n",
       "      <td>78445</td>\n",
       "      <td>B000HDL1RQ</td>\n",
       "      <td>AR5J8UI46CURR</td>\n",
       "      <td>Geetha Krishnan</td>\n",
       "      <td>2</td>\n",
       "      <td>2</td>\n",
       "      <td>5</td>\n",
       "      <td>1199577600</td>\n",
       "      <td>LOACKER QUADRATINI VANILLA WAFERS</td>\n",
       "      <td>DELICIOUS WAFERS. I FIND THAT EUROPEAN WAFERS ...</td>\n",
       "    </tr>\n",
       "    <tr>\n",
       "      <th>1</th>\n",
       "      <td>138317</td>\n",
       "      <td>B000HDOPYC</td>\n",
       "      <td>AR5J8UI46CURR</td>\n",
       "      <td>Geetha Krishnan</td>\n",
       "      <td>2</td>\n",
       "      <td>2</td>\n",
       "      <td>5</td>\n",
       "      <td>1199577600</td>\n",
       "      <td>LOACKER QUADRATINI VANILLA WAFERS</td>\n",
       "      <td>DELICIOUS WAFERS. I FIND THAT EUROPEAN WAFERS ...</td>\n",
       "    </tr>\n",
       "    <tr>\n",
       "      <th>2</th>\n",
       "      <td>138277</td>\n",
       "      <td>B000HDOPYM</td>\n",
       "      <td>AR5J8UI46CURR</td>\n",
       "      <td>Geetha Krishnan</td>\n",
       "      <td>2</td>\n",
       "      <td>2</td>\n",
       "      <td>5</td>\n",
       "      <td>1199577600</td>\n",
       "      <td>LOACKER QUADRATINI VANILLA WAFERS</td>\n",
       "      <td>DELICIOUS WAFERS. I FIND THAT EUROPEAN WAFERS ...</td>\n",
       "    </tr>\n",
       "    <tr>\n",
       "      <th>3</th>\n",
       "      <td>73791</td>\n",
       "      <td>B000HDOPZG</td>\n",
       "      <td>AR5J8UI46CURR</td>\n",
       "      <td>Geetha Krishnan</td>\n",
       "      <td>2</td>\n",
       "      <td>2</td>\n",
       "      <td>5</td>\n",
       "      <td>1199577600</td>\n",
       "      <td>LOACKER QUADRATINI VANILLA WAFERS</td>\n",
       "      <td>DELICIOUS WAFERS. I FIND THAT EUROPEAN WAFERS ...</td>\n",
       "    </tr>\n",
       "    <tr>\n",
       "      <th>4</th>\n",
       "      <td>155049</td>\n",
       "      <td>B000PAQ75C</td>\n",
       "      <td>AR5J8UI46CURR</td>\n",
       "      <td>Geetha Krishnan</td>\n",
       "      <td>2</td>\n",
       "      <td>2</td>\n",
       "      <td>5</td>\n",
       "      <td>1199577600</td>\n",
       "      <td>LOACKER QUADRATINI VANILLA WAFERS</td>\n",
       "      <td>DELICIOUS WAFERS. I FIND THAT EUROPEAN WAFERS ...</td>\n",
       "    </tr>\n",
       "  </tbody>\n",
       "</table>\n",
       "</div>"
      ],
      "text/plain": [
       "       Id   ProductId         UserId      ProfileName  HelpfulnessNumerator  \\\n",
       "0   78445  B000HDL1RQ  AR5J8UI46CURR  Geetha Krishnan                     2   \n",
       "1  138317  B000HDOPYC  AR5J8UI46CURR  Geetha Krishnan                     2   \n",
       "2  138277  B000HDOPYM  AR5J8UI46CURR  Geetha Krishnan                     2   \n",
       "3   73791  B000HDOPZG  AR5J8UI46CURR  Geetha Krishnan                     2   \n",
       "4  155049  B000PAQ75C  AR5J8UI46CURR  Geetha Krishnan                     2   \n",
       "\n",
       "   HelpfulnessDenominator  Score        Time  \\\n",
       "0                       2      5  1199577600   \n",
       "1                       2      5  1199577600   \n",
       "2                       2      5  1199577600   \n",
       "3                       2      5  1199577600   \n",
       "4                       2      5  1199577600   \n",
       "\n",
       "                             Summary  \\\n",
       "0  LOACKER QUADRATINI VANILLA WAFERS   \n",
       "1  LOACKER QUADRATINI VANILLA WAFERS   \n",
       "2  LOACKER QUADRATINI VANILLA WAFERS   \n",
       "3  LOACKER QUADRATINI VANILLA WAFERS   \n",
       "4  LOACKER QUADRATINI VANILLA WAFERS   \n",
       "\n",
       "                                                Text  \n",
       "0  DELICIOUS WAFERS. I FIND THAT EUROPEAN WAFERS ...  \n",
       "1  DELICIOUS WAFERS. I FIND THAT EUROPEAN WAFERS ...  \n",
       "2  DELICIOUS WAFERS. I FIND THAT EUROPEAN WAFERS ...  \n",
       "3  DELICIOUS WAFERS. I FIND THAT EUROPEAN WAFERS ...  \n",
       "4  DELICIOUS WAFERS. I FIND THAT EUROPEAN WAFERS ...  "
      ]
     },
     "execution_count": 7,
     "metadata": {},
     "output_type": "execute_result"
    }
   ],
   "source": [
    "display= pd.read_sql_query(\"\"\"\n",
    "SELECT *\n",
    "FROM Reviews\n",
    "WHERE Score != 3 AND UserId=\"AR5J8UI46CURR\"\n",
    "ORDER BY ProductID\n",
    "\"\"\", con)\n",
    "display.head()"
   ]
  },
  {
   "cell_type": "markdown",
   "metadata": {},
   "source": [
    "As it can be seen above that same user has multiple reviews with same values for HelpfulnessNumerator, HelpfulnessDenominator, Score, Time, Summary and Text and on doing analysis it was found that <br>\n",
    "<br> \n",
    "ProductId=B000HDOPZG was Loacker Quadratini Vanilla Wafer Cookies, 8.82-Ounce Packages (Pack of 8)<br>\n",
    "<br> \n",
    "ProductId=B000HDL1RQ was Loacker Quadratini Lemon Wafer Cookies, 8.82-Ounce Packages (Pack of 8) and so on<br>\n",
    "\n",
    "It was inferred after analysis that reviews with same parameters other than ProductId belonged to the same product just having different flavour or quantity. Hence in order to reduce redundancy it was decided to eliminate the rows having same parameters.<br>\n",
    "\n",
    "The method used for the same was that we first sort the data according to ProductId and then just keep the first similar product review and delelte the others. for eg. in the above just the review for ProductId=B000HDL1RQ remains. This method ensures that there is only one representative for each product and deduplication without sorting would lead to possibility of different representatives still existing for the same product."
   ]
  },
  {
   "cell_type": "code",
   "execution_count": 8,
   "metadata": {},
   "outputs": [],
   "source": [
    "#Sorting data according to ProductId in ascending order\n",
    "sorted_data=filtered_data.sort_values('ProductId', axis=0, ascending=True, inplace=False, kind='quicksort', na_position='last')"
   ]
  },
  {
   "cell_type": "code",
   "execution_count": 9,
   "metadata": {},
   "outputs": [
    {
     "data": {
      "text/plain": [
       "(44368, 10)"
      ]
     },
     "execution_count": 9,
     "metadata": {},
     "output_type": "execute_result"
    }
   ],
   "source": [
    "#Deduplication of entries\n",
    "final=sorted_data.drop_duplicates(subset={\"UserId\",\"ProfileName\",\"Time\",\"Text\"}, keep='first', inplace=False)\n",
    "final.shape"
   ]
  },
  {
   "cell_type": "code",
   "execution_count": 10,
   "metadata": {},
   "outputs": [
    {
     "data": {
      "text/plain": [
       "88.736"
      ]
     },
     "execution_count": 10,
     "metadata": {},
     "output_type": "execute_result"
    }
   ],
   "source": [
    "#Checking to see how much % of data still remains\n",
    "(final['Id'].size*1.0)/(filtered_data['Id'].size*1.0)*100"
   ]
  },
  {
   "cell_type": "markdown",
   "metadata": {},
   "source": [
    "<b>Observation:-</b> It was also seen that in two rows given below the value of HelpfulnessNumerator is greater than HelpfulnessDenominator which is not practically possible hence these two rows too are removed from calcualtions"
   ]
  },
  {
   "cell_type": "code",
   "execution_count": 11,
   "metadata": {},
   "outputs": [
    {
     "data": {
      "text/html": [
       "<div>\n",
       "<style scoped>\n",
       "    .dataframe tbody tr th:only-of-type {\n",
       "        vertical-align: middle;\n",
       "    }\n",
       "\n",
       "    .dataframe tbody tr th {\n",
       "        vertical-align: top;\n",
       "    }\n",
       "\n",
       "    .dataframe thead th {\n",
       "        text-align: right;\n",
       "    }\n",
       "</style>\n",
       "<table border=\"1\" class=\"dataframe\">\n",
       "  <thead>\n",
       "    <tr style=\"text-align: right;\">\n",
       "      <th></th>\n",
       "      <th>Id</th>\n",
       "      <th>ProductId</th>\n",
       "      <th>UserId</th>\n",
       "      <th>ProfileName</th>\n",
       "      <th>HelpfulnessNumerator</th>\n",
       "      <th>HelpfulnessDenominator</th>\n",
       "      <th>Score</th>\n",
       "      <th>Time</th>\n",
       "      <th>Summary</th>\n",
       "      <th>Text</th>\n",
       "    </tr>\n",
       "  </thead>\n",
       "  <tbody>\n",
       "    <tr>\n",
       "      <th>0</th>\n",
       "      <td>64422</td>\n",
       "      <td>B000MIDROQ</td>\n",
       "      <td>A161DK06JJMCYF</td>\n",
       "      <td>J. E. Stephens \"Jeanne\"</td>\n",
       "      <td>3</td>\n",
       "      <td>1</td>\n",
       "      <td>5</td>\n",
       "      <td>1224892800</td>\n",
       "      <td>Bought This for My Son at College</td>\n",
       "      <td>My son loves spaghetti so I didn't hesitate or...</td>\n",
       "    </tr>\n",
       "    <tr>\n",
       "      <th>1</th>\n",
       "      <td>44737</td>\n",
       "      <td>B001EQ55RW</td>\n",
       "      <td>A2V0I904FH7ABY</td>\n",
       "      <td>Ram</td>\n",
       "      <td>3</td>\n",
       "      <td>2</td>\n",
       "      <td>4</td>\n",
       "      <td>1212883200</td>\n",
       "      <td>Pure cocoa taste with crunchy almonds inside</td>\n",
       "      <td>It was almost a 'love at first bite' - the per...</td>\n",
       "    </tr>\n",
       "  </tbody>\n",
       "</table>\n",
       "</div>"
      ],
      "text/plain": [
       "      Id   ProductId          UserId              ProfileName  \\\n",
       "0  64422  B000MIDROQ  A161DK06JJMCYF  J. E. Stephens \"Jeanne\"   \n",
       "1  44737  B001EQ55RW  A2V0I904FH7ABY                      Ram   \n",
       "\n",
       "   HelpfulnessNumerator  HelpfulnessDenominator  Score        Time  \\\n",
       "0                     3                       1      5  1224892800   \n",
       "1                     3                       2      4  1212883200   \n",
       "\n",
       "                                        Summary  \\\n",
       "0             Bought This for My Son at College   \n",
       "1  Pure cocoa taste with crunchy almonds inside   \n",
       "\n",
       "                                                Text  \n",
       "0  My son loves spaghetti so I didn't hesitate or...  \n",
       "1  It was almost a 'love at first bite' - the per...  "
      ]
     },
     "execution_count": 11,
     "metadata": {},
     "output_type": "execute_result"
    }
   ],
   "source": [
    "display= pd.read_sql_query(\"\"\"\n",
    "SELECT *\n",
    "FROM Reviews\n",
    "WHERE Score != 3 AND Id=44737 OR Id=64422\n",
    "ORDER BY ProductID\n",
    "\"\"\", con)\n",
    "\n",
    "display.head()"
   ]
  },
  {
   "cell_type": "code",
   "execution_count": 12,
   "metadata": {},
   "outputs": [],
   "source": [
    "final=final[final.HelpfulnessNumerator<=final.HelpfulnessDenominator]"
   ]
  },
  {
   "cell_type": "code",
   "execution_count": 13,
   "metadata": {},
   "outputs": [
    {
     "name": "stdout",
     "output_type": "stream",
     "text": [
      "(44368, 10)\n"
     ]
    },
    {
     "data": {
      "text/plain": [
       "1    23446\n",
       "0    20922\n",
       "Name: Score, dtype: int64"
      ]
     },
     "execution_count": 13,
     "metadata": {},
     "output_type": "execute_result"
    }
   ],
   "source": [
    "#Before starting the next phase of preprocessing lets see the number of entries left\n",
    "print(final.shape)\n",
    "\n",
    "#How many positive and negative reviews are present in our dataset?\n",
    "final['Score'].value_counts()"
   ]
  },
  {
   "cell_type": "markdown",
   "metadata": {},
   "source": [
    "#  [3] Preprocessing"
   ]
  },
  {
   "cell_type": "markdown",
   "metadata": {},
   "source": [
    "## [3.1].  Preprocessing Review Text\n",
    "\n",
    "Now that we have finished deduplication our data requires some preprocessing before we go on further with analysis and making the prediction model.\n",
    "\n",
    "Hence in the Preprocessing phase we do the following in the order below:-\n",
    "\n",
    "1. Begin by removing the html tags\n",
    "2. Remove any punctuations or limited set of special characters like , or . or # etc.\n",
    "3. Check if the word is made up of english letters and is not alpha-numeric\n",
    "4. Check to see if the length of the word is greater than 2 (as it was researched that there is no adjective in 2-letters)\n",
    "5. Convert the word to lowercase\n",
    "6. Remove Stopwords\n",
    "7. Finally Snowball Stemming the word (it was obsereved to be better than Porter Stemming)<br>\n",
    "\n",
    "After which we collect the words used to describe positive and negative reviews"
   ]
  },
  {
   "cell_type": "code",
   "execution_count": 14,
   "metadata": {},
   "outputs": [
    {
     "name": "stdout",
     "output_type": "stream",
     "text": [
      "I give five stars to the Maurice Sendak story. One star for this printed edition of the book.<br />My children had an older copy this book, so I was very familiar with the previous softcover version. I ordered this for my granddaughters, but I'm embarrassed to give it as a gift, it looks so puny. The book is about the size of a postcard and I think it's overpriced. I've learned my lesson: I will not be buying any more softcover children books, next time I'll get a used copy.\n",
      "==================================================\n",
      "Info provided doesn't disclose that this is spiced apple syrup.  I wish someone in the US would make just plain apple syrup.  I have to get it from Canada\n",
      "==================================================\n",
      "My dog loves these treats!  We started using them for training purposes.  The treats of healthy too!\n",
      "==================================================\n",
      "Great snack and good on salads.  It's dried peas, what else can I say?\n",
      "==================================================\n"
     ]
    }
   ],
   "source": [
    "# printing some random reviews\n",
    "sent_0 = final['Text'].values[0]\n",
    "print(sent_0)\n",
    "print(\"=\"*50)\n",
    "\n",
    "sent_1000 = final['Text'].values[1000]\n",
    "print(sent_1000)\n",
    "print(\"=\"*50)\n",
    "\n",
    "sent_1500 = final['Text'].values[1500]\n",
    "print(sent_1500)\n",
    "print(\"=\"*50)\n",
    "\n",
    "sent_4900 = final['Text'].values[4900]\n",
    "print(sent_4900)\n",
    "print(\"=\"*50)"
   ]
  },
  {
   "cell_type": "code",
   "execution_count": 15,
   "metadata": {},
   "outputs": [
    {
     "name": "stdout",
     "output_type": "stream",
     "text": [
      "I give five stars to the Maurice Sendak story. One star for this printed edition of the book.<br />My children had an older copy this book, so I was very familiar with the previous softcover version. I ordered this for my granddaughters, but I'm embarrassed to give it as a gift, it looks so puny. The book is about the size of a postcard and I think it's overpriced. I've learned my lesson: I will not be buying any more softcover children books, next time I'll get a used copy.\n"
     ]
    }
   ],
   "source": [
    "# remove urls from text python: https://stackoverflow.com/a/40823105/4084039\n",
    "sent_0 = re.sub(r\"http\\S+\", \"\", sent_0)\n",
    "sent_1000 = re.sub(r\"http\\S+\", \"\", sent_1000)\n",
    "sent_150 = re.sub(r\"http\\S+\", \"\", sent_1500)\n",
    "sent_4900 = re.sub(r\"http\\S+\", \"\", sent_4900)\n",
    "\n",
    "print(sent_0)"
   ]
  },
  {
   "cell_type": "code",
   "execution_count": 16,
   "metadata": {},
   "outputs": [
    {
     "name": "stdout",
     "output_type": "stream",
     "text": [
      "I give five stars to the Maurice Sendak story. One star for this printed edition of the book.My children had an older copy this book, so I was very familiar with the previous softcover version. I ordered this for my granddaughters, but I'm embarrassed to give it as a gift, it looks so puny. The book is about the size of a postcard and I think it's overpriced. I've learned my lesson: I will not be buying any more softcover children books, next time I'll get a used copy.\n",
      "==================================================\n",
      "Info provided doesn't disclose that this is spiced apple syrup.  I wish someone in the US would make just plain apple syrup.  I have to get it from Canada\n",
      "==================================================\n",
      "My dog loves these treats!  We started using them for training purposes.  The treats of healthy too!\n",
      "==================================================\n",
      "Great snack and good on salads.  It's dried peas, what else can I say?\n"
     ]
    }
   ],
   "source": [
    "# https://stackoverflow.com/questions/16206380/python-beautifulsoup-how-to-remove-all-tags-from-an-element\n",
    "from bs4 import BeautifulSoup\n",
    "\n",
    "soup = BeautifulSoup(sent_0, 'lxml')\n",
    "text = soup.get_text()\n",
    "print(text)\n",
    "print(\"=\"*50)\n",
    "\n",
    "soup = BeautifulSoup(sent_1000, 'lxml')\n",
    "text = soup.get_text()\n",
    "print(text)\n",
    "print(\"=\"*50)\n",
    "\n",
    "soup = BeautifulSoup(sent_1500, 'lxml')\n",
    "text = soup.get_text()\n",
    "print(text)\n",
    "print(\"=\"*50)\n",
    "\n",
    "soup = BeautifulSoup(sent_4900, 'lxml')\n",
    "text = soup.get_text()\n",
    "print(text)"
   ]
  },
  {
   "cell_type": "code",
   "execution_count": 17,
   "metadata": {},
   "outputs": [],
   "source": [
    "# https://stackoverflow.com/a/47091490/4084039\n",
    "import re\n",
    "\n",
    "def decontracted(phrase):\n",
    "    # specific\n",
    "    phrase = re.sub(r\"won't\", \"will not\", phrase)\n",
    "    phrase = re.sub(r\"can\\'t\", \"can not\", phrase)\n",
    "\n",
    "    # general\n",
    "    phrase = re.sub(r\"n\\'t\", \" not\", phrase)\n",
    "    phrase = re.sub(r\"\\'re\", \" are\", phrase)\n",
    "    phrase = re.sub(r\"\\'s\", \" is\", phrase)\n",
    "    phrase = re.sub(r\"\\'d\", \" would\", phrase)\n",
    "    phrase = re.sub(r\"\\'ll\", \" will\", phrase)\n",
    "    phrase = re.sub(r\"\\'t\", \" not\", phrase)\n",
    "    phrase = re.sub(r\"\\'ve\", \" have\", phrase)\n",
    "    phrase = re.sub(r\"\\'m\", \" am\", phrase)\n",
    "    return phrase"
   ]
  },
  {
   "cell_type": "code",
   "execution_count": 18,
   "metadata": {},
   "outputs": [
    {
     "name": "stdout",
     "output_type": "stream",
     "text": [
      "My dog loves these treats!  We started using them for training purposes.  The treats of healthy too!\n",
      "==================================================\n"
     ]
    }
   ],
   "source": [
    "sent_1500 = decontracted(sent_1500)\n",
    "print(sent_1500)\n",
    "print(\"=\"*50)"
   ]
  },
  {
   "cell_type": "code",
   "execution_count": 19,
   "metadata": {},
   "outputs": [
    {
     "name": "stdout",
     "output_type": "stream",
     "text": [
      "I give five stars to the Maurice Sendak story. One star for this printed edition of the book.<br />My children had an older copy this book, so I was very familiar with the previous softcover version. I ordered this for my granddaughters, but I'm embarrassed to give it as a gift, it looks so puny. The book is about the size of a postcard and I think it's overpriced. I've learned my lesson: I will not be buying any more softcover children books, next time I'll get a used copy.\n"
     ]
    }
   ],
   "source": [
    "#remove words with numbers python: https://stackoverflow.com/a/18082370/4084039\n",
    "sent_0 = re.sub(\"\\S*\\d\\S*\", \"\", sent_0).strip()\n",
    "print(sent_0)"
   ]
  },
  {
   "cell_type": "code",
   "execution_count": 20,
   "metadata": {},
   "outputs": [
    {
     "name": "stdout",
     "output_type": "stream",
     "text": [
      "My dog loves these treats We started using them for training purposes The treats of healthy too \n"
     ]
    }
   ],
   "source": [
    "#remove spacial character: https://stackoverflow.com/a/5843547/4084039\n",
    "sent_1500 = re.sub('[^A-Za-z0-9]+', ' ', sent_1500)\n",
    "print(sent_1500)"
   ]
  },
  {
   "cell_type": "code",
   "execution_count": 21,
   "metadata": {},
   "outputs": [],
   "source": [
    "# https://gist.github.com/sebleier/554280\n",
    "# we are removing the words from the stop words list: 'no', 'nor', 'not'\n",
    "# <br /><br /> ==> after the above steps, we are getting \"br br\"\n",
    "# we are including them into stop words list\n",
    "# instead of <br /> if we have <br/> these tags would have revmoved in the 1st step\n",
    "\n",
    "stopwords= set(['br', 'the', 'i', 'me', 'my', 'myself', 'we', 'our', 'ours', 'ourselves', 'you', \"you're\", \"you've\",\\\n",
    "            \"you'll\", \"you'd\", 'your', 'yours', 'yourself', 'yourselves', 'he', 'him', 'his', 'himself', \\\n",
    "            'she', \"she's\", 'her', 'hers', 'herself', 'it', \"it's\", 'its', 'itself', 'they', 'them', 'their',\\\n",
    "            'theirs', 'themselves', 'what', 'which', 'who', 'whom', 'this', 'that', \"that'll\", 'these', 'those', \\\n",
    "            'am', 'is', 'are', 'was', 'were', 'be', 'been', 'being', 'have', 'has', 'had', 'having', 'do', 'does', \\\n",
    "            'did', 'doing', 'a', 'an', 'the', 'and', 'but', 'if', 'or', 'because', 'as', 'until', 'while', 'of', \\\n",
    "            'at', 'by', 'for', 'with', 'about', 'against', 'between', 'into', 'through', 'during', 'before', 'after',\\\n",
    "            'above', 'below', 'to', 'from', 'up', 'down', 'in', 'out', 'on', 'off', 'over', 'under', 'again', 'further',\\\n",
    "            'then', 'once', 'here', 'there', 'when', 'where', 'why', 'how', 'all', 'any', 'both', 'each', 'few', 'more',\\\n",
    "            'most', 'other', 'some', 'such', 'only', 'own', 'same', 'so', 'than', 'too', 'very', \\\n",
    "            's', 't', 'can', 'will', 'just', 'don', \"don't\", 'should', \"should've\", 'now', 'd', 'll', 'm', 'o', 're', \\\n",
    "            've', 'y', 'ain', 'aren', \"aren't\", 'couldn', \"couldn't\", 'didn', \"didn't\", 'doesn', \"doesn't\", 'hadn',\\\n",
    "            \"hadn't\", 'hasn', \"hasn't\", 'haven', \"haven't\", 'isn', \"isn't\", 'ma', 'mightn', \"mightn't\", 'mustn',\\\n",
    "            \"mustn't\", 'needn', \"needn't\", 'shan', \"shan't\", 'shouldn', \"shouldn't\", 'wasn', \"wasn't\", 'weren', \"weren't\", \\\n",
    "            'won', \"won't\", 'wouldn', \"wouldn't\"])"
   ]
  },
  {
   "cell_type": "code",
   "execution_count": 22,
   "metadata": {},
   "outputs": [
    {
     "name": "stderr",
     "output_type": "stream",
     "text": [
      "100%|██████████| 44368/44368 [00:13<00:00, 3301.42it/s]\n"
     ]
    }
   ],
   "source": [
    "# Combining all the above stundents \n",
    "from tqdm import tqdm\n",
    "preprocessed_reviews = []\n",
    "# tqdm is for printing the status bar\n",
    "for sentance in tqdm(final['Text'].values):\n",
    "    sentance = re.sub(r\"http\\S+\", \"\", sentance)\n",
    "    sentance = BeautifulSoup(sentance, 'lxml').get_text()\n",
    "    sentance = decontracted(sentance)\n",
    "    sentance = re.sub(\"\\S*\\d\\S*\", \"\", sentance).strip()\n",
    "    sentance = re.sub('[^A-Za-z]+', ' ', sentance)\n",
    "    # https://gist.github.com/sebleier/554280\n",
    "    sentance = ' '.join(e.lower() for e in sentance.split() if e.lower() not in stopwords)\n",
    "    preprocessed_reviews.append(sentance.strip())"
   ]
  },
  {
   "cell_type": "code",
   "execution_count": 23,
   "metadata": {},
   "outputs": [
    {
     "data": {
      "text/plain": [
       "'dog loves treats started using training purposes treats healthy'"
      ]
     },
     "execution_count": 23,
     "metadata": {},
     "output_type": "execute_result"
    }
   ],
   "source": [
    "preprocessed_reviews[1500]"
   ]
  },
  {
   "cell_type": "markdown",
   "metadata": {},
   "source": [
    "<h2><font color='red'>[3.2] Preprocessing Review Summary</font></h2>"
   ]
  },
  {
   "cell_type": "code",
   "execution_count": 124,
   "metadata": {},
   "outputs": [],
   "source": [
    "## Similartly you can do preprocessing for review summary also."
   ]
  },
  {
   "cell_type": "markdown",
   "metadata": {},
   "source": [
    "# [4] Featurization"
   ]
  },
  {
   "cell_type": "markdown",
   "metadata": {},
   "source": [
    "## [4.1] BAG OF WORDS"
   ]
  },
  {
   "cell_type": "code",
   "execution_count": 25,
   "metadata": {},
   "outputs": [
    {
     "name": "stdout",
     "output_type": "stream",
     "text": [
      "some feature names  ['aa', 'aahhhs', 'aback', 'abandon', 'abates', 'abbott', 'abby', 'abdominal', 'abiding', 'ability']\n",
      "==================================================\n",
      "the type of count vectorizer  <class 'scipy.sparse.csr.csr_matrix'>\n",
      "the shape of out text BOW vectorizer  (4986, 12997)\n",
      "the number of unique words  12997\n"
     ]
    }
   ],
   "source": [
    "\n",
    "#BoW\n",
    "count_vect = CountVectorizer() #in scikit-learn\n",
    "count_vect.fit(preprocessed_reviews)\n",
    "print(\"some feature names \", count_vect.get_feature_names()[:10])\n",
    "print('='*50)\n",
    "\n",
    "final_counts = count_vect.transform(preprocessed_reviews)\n",
    "print(\"the type of count vectorizer \",type(final_counts))\n",
    "print(\"the shape of out text BOW vectorizer \",final_counts.get_shape())\n",
    "print(\"the number of unique words \", final_counts.get_shape()[1])"
   ]
  },
  {
   "cell_type": "markdown",
   "metadata": {},
   "source": [
    "## [4.2] Bi-Grams and n-Grams."
   ]
  },
  {
   "cell_type": "code",
   "execution_count": 26,
   "metadata": {},
   "outputs": [
    {
     "name": "stdout",
     "output_type": "stream",
     "text": [
      "the type of count vectorizer  <class 'scipy.sparse.csr.csr_matrix'>\n",
      "the shape of out text BOW vectorizer  (4986, 3144)\n",
      "the number of unique words including both unigrams and bigrams  3144\n"
     ]
    }
   ],
   "source": [
    "#bi-gram, tri-gram and n-gram\n",
    "\n",
    "#removing stop words like \"not\" should be avoided before building n-grams\n",
    "# count_vect = CountVectorizer(ngram_range=(1,2))\n",
    "# please do read the CountVectorizer documentation http://scikit-learn.org/stable/modules/generated/sklearn.feature_extraction.text.CountVectorizer.html\n",
    "\n",
    "# you can choose these numebrs min_df=10, max_features=5000, of your choice\n",
    "count_vect = CountVectorizer(ngram_range=(1,2), min_df=10, max_features=5000)\n",
    "final_bigram_counts = count_vect.fit_transform(preprocessed_reviews)\n",
    "print(\"the type of count vectorizer \",type(final_bigram_counts))\n",
    "print(\"the shape of out text BOW vectorizer \",final_bigram_counts.get_shape())\n",
    "print(\"the number of unique words including both unigrams and bigrams \", final_bigram_counts.get_shape()[1])"
   ]
  },
  {
   "cell_type": "markdown",
   "metadata": {},
   "source": [
    "## [4.3] TF-IDF"
   ]
  },
  {
   "cell_type": "code",
   "execution_count": 27,
   "metadata": {},
   "outputs": [
    {
     "name": "stdout",
     "output_type": "stream",
     "text": [
      "some sample features(unique words in the corpus) ['ability', 'able', 'able find', 'able get', 'absolute', 'absolutely', 'absolutely delicious', 'absolutely love', 'absolutely no', 'according']\n",
      "==================================================\n",
      "the type of count vectorizer  <class 'scipy.sparse.csr.csr_matrix'>\n",
      "the shape of out text TFIDF vectorizer  (4986, 3144)\n",
      "the number of unique words including both unigrams and bigrams  3144\n"
     ]
    }
   ],
   "source": [
    "tf_idf_vect = TfidfVectorizer(ngram_range=(1,2), min_df=10)\n",
    "tf_idf_vect.fit(preprocessed_reviews)\n",
    "print(\"some sample features(unique words in the corpus)\",tf_idf_vect.get_feature_names()[0:10])\n",
    "print('='*50)\n",
    "\n",
    "final_tf_idf = tf_idf_vect.transform(preprocessed_reviews)\n",
    "print(\"the type of count vectorizer \",type(final_tf_idf))\n",
    "print(\"the shape of out text TFIDF vectorizer \",final_tf_idf.get_shape())\n",
    "print(\"the number of unique words including both unigrams and bigrams \", final_tf_idf.get_shape()[1])"
   ]
  },
  {
   "cell_type": "markdown",
   "metadata": {},
   "source": [
    "## [4.4] Word2Vec"
   ]
  },
  {
   "cell_type": "code",
   "execution_count": 28,
   "metadata": {},
   "outputs": [],
   "source": [
    "# Train your own Word2Vec model using your own text corpus\n",
    "i=0\n",
    "list_of_sentance=[]\n",
    "for sentance in preprocessed_reviews:\n",
    "    list_of_sentance.append(sentance.split())"
   ]
  },
  {
   "cell_type": "code",
   "execution_count": 42,
   "metadata": {
    "scrolled": true
   },
   "outputs": [
    {
     "name": "stdout",
     "output_type": "stream",
     "text": [
      "[('snack', 0.9951335191726685), ('calorie', 0.9946465492248535), ('wonderful', 0.9946032166481018), ('excellent', 0.9944332838058472), ('especially', 0.9941144585609436), ('baked', 0.9940600395202637), ('salted', 0.994047224521637), ('alternative', 0.9937226176261902), ('tasty', 0.9936816692352295), ('healthy', 0.9936649799346924)]\n",
      "==================================================\n",
      "[('varieties', 0.9994194507598877), ('become', 0.9992934465408325), ('popcorn', 0.9992750883102417), ('de', 0.9992610216140747), ('miss', 0.9992451071739197), ('melitta', 0.999218761920929), ('choice', 0.9992102384567261), ('american', 0.9991837739944458), ('beef', 0.9991780519485474), ('finish', 0.9991567134857178)]\n"
     ]
    }
   ],
   "source": [
    "# Using Google News Word2Vectors\n",
    "\n",
    "# in this project we are using a pretrained model by google\n",
    "# its 3.3G file, once you load this into your memory \n",
    "# it occupies ~9Gb, so please do this step only if you have >12G of ram\n",
    "# we will provide a pickle file wich contains a dict , \n",
    "# and it contains all our courpus words as keys and  model[word] as values\n",
    "# To use this code-snippet, download \"GoogleNews-vectors-negative300.bin\" \n",
    "# from https://drive.google.com/file/d/0B7XkCwpI5KDYNlNUTTlSS21pQmM/edit\n",
    "# it's 1.9GB in size.\n",
    "\n",
    "\n",
    "# http://kavita-ganesan.com/gensim-word2vec-tutorial-starter-code/#.W17SRFAzZPY\n",
    "# you can comment this whole cell\n",
    "# or change these varible according to your need\n",
    "\n",
    "is_your_ram_gt_16g=False\n",
    "want_to_use_google_w2v = False\n",
    "want_to_train_w2v = True\n",
    "\n",
    "if want_to_train_w2v:\n",
    "    # min_count = 5 considers only words that occured atleast 5 times\n",
    "    w2v_model=Word2Vec(list_of_sentance,min_count=5,size=50, workers=4)\n",
    "    print(w2v_model.wv.most_similar('great'))\n",
    "    print('='*50)\n",
    "    print(w2v_model.wv.most_similar('worst'))\n",
    "    \n",
    "elif want_to_use_google_w2v and is_your_ram_gt_16g:\n",
    "    if os.path.isfile('GoogleNews-vectors-negative300.bin'):\n",
    "        w2v_model=KeyedVectors.load_word2vec_format('GoogleNews-vectors-negative300.bin', binary=True)\n",
    "        print(w2v_model.wv.most_similar('great'))\n",
    "        print(w2v_model.wv.most_similar('worst'))\n",
    "    else:\n",
    "        print(\"you don't have gogole's word2vec file, keep want_to_train_w2v = True, to train your own w2v \")"
   ]
  },
  {
   "cell_type": "code",
   "execution_count": 36,
   "metadata": {},
   "outputs": [
    {
     "name": "stdout",
     "output_type": "stream",
     "text": [
      "number of words that occured minimum 5 times  3817\n",
      "sample words  ['product', 'available', 'course', 'total', 'pretty', 'stinky', 'right', 'nearby', 'used', 'ca', 'not', 'beat', 'great', 'received', 'shipment', 'could', 'hardly', 'wait', 'try', 'love', 'call', 'instead', 'removed', 'easily', 'daughter', 'designed', 'printed', 'use', 'car', 'windows', 'beautifully', 'shop', 'program', 'going', 'lot', 'fun', 'everywhere', 'like', 'tv', 'computer', 'really', 'good', 'idea', 'final', 'outstanding', 'window', 'everybody', 'asks', 'bought', 'made']\n"
     ]
    }
   ],
   "source": [
    "w2v_words = list(w2v_model.wv.vocab)\n",
    "print(\"number of words that occured minimum 5 times \",len(w2v_words))\n",
    "print(\"sample words \", w2v_words[0:50])"
   ]
  },
  {
   "cell_type": "markdown",
   "metadata": {},
   "source": [
    "## [4.4.1] Converting text into vectors using Avg W2V, TFIDF-W2V"
   ]
  },
  {
   "cell_type": "markdown",
   "metadata": {},
   "source": [
    "#### [4.4.1.1] Avg W2v"
   ]
  },
  {
   "cell_type": "code",
   "execution_count": 38,
   "metadata": {},
   "outputs": [
    {
     "name": "stderr",
     "output_type": "stream",
     "text": [
      "100%|████████████████████████████████████████████████████████████████████████████| 4986/4986 [00:03<00:00, 1330.47it/s]\n"
     ]
    },
    {
     "name": "stdout",
     "output_type": "stream",
     "text": [
      "4986\n",
      "50\n"
     ]
    }
   ],
   "source": [
    "# average Word2Vec\n",
    "# compute average word2vec for each review.\n",
    "sent_vectors = []; # the avg-w2v for each sentence/review is stored in this list\n",
    "for sent in tqdm(list_of_sentance): # for each review/sentence\n",
    "    sent_vec = np.zeros(50) # as word vectors are of zero length 50, you might need to change this to 300 if you use google's w2v\n",
    "    cnt_words =0; # num of words with a valid vector in the sentence/review\n",
    "    for word in sent: # for each word in a review/sentence\n",
    "        if word in w2v_words:\n",
    "            vec = w2v_model.wv[word]\n",
    "            sent_vec += vec\n",
    "            cnt_words += 1\n",
    "    if cnt_words != 0:\n",
    "        sent_vec /= cnt_words\n",
    "    sent_vectors.append(sent_vec)\n",
    "print(len(sent_vectors))\n",
    "print(len(sent_vectors[0]))"
   ]
  },
  {
   "cell_type": "markdown",
   "metadata": {},
   "source": [
    "#### [4.4.1.2] TFIDF weighted W2v"
   ]
  },
  {
   "cell_type": "code",
   "execution_count": 39,
   "metadata": {},
   "outputs": [],
   "source": [
    "# S = [\"abc def pqr\", \"def def def abc\", \"pqr pqr def\"]\n",
    "model = TfidfVectorizer()\n",
    "tf_idf_matrix = model.fit_transform(preprocessed_reviews)\n",
    "# we are converting a dictionary with word as a key, and the idf as a value\n",
    "dictionary = dict(zip(model.get_feature_names(), list(model.idf_)))"
   ]
  },
  {
   "cell_type": "code",
   "execution_count": 41,
   "metadata": {
    "scrolled": true
   },
   "outputs": [
    {
     "name": "stderr",
     "output_type": "stream",
     "text": [
      "100%|█████████████████████████████████████████████████████████████████████████████| 4986/4986 [00:20<00:00, 245.63it/s]\n"
     ]
    }
   ],
   "source": [
    "# TF-IDF weighted Word2Vec\n",
    "tfidf_feat = model.get_feature_names() # tfidf words/col-names\n",
    "# final_tf_idf is the sparse matrix with row= sentence, col=word and cell_val = tfidf\n",
    "\n",
    "tfidf_sent_vectors = []; # the tfidf-w2v for each sentence/review is stored in this list\n",
    "row=0;\n",
    "for sent in tqdm(list_of_sentance): # for each review/sentence \n",
    "    sent_vec = np.zeros(50) # as word vectors are of zero length\n",
    "    weight_sum =0; # num of words with a valid vector in the sentence/review\n",
    "    for word in sent: # for each word in a review/sentence\n",
    "        if word in w2v_words and word in tfidf_feat:\n",
    "            vec = w2v_model.wv[word]\n",
    "#             tf_idf = tf_idf_matrix[row, tfidf_feat.index(word)]\n",
    "            # to reduce the computation we are \n",
    "            # dictionary[word] = idf value of word in whole courpus\n",
    "            # sent.count(word) = tf valeus of word in this review\n",
    "            tf_idf = dictionary[word]*(sent.count(word)/len(sent))\n",
    "            sent_vec += (vec * tf_idf)\n",
    "            weight_sum += tf_idf\n",
    "    if weight_sum != 0:\n",
    "        sent_vec /= weight_sum\n",
    "    tfidf_sent_vectors.append(sent_vec)\n",
    "    row += 1"
   ]
  },
  {
   "cell_type": "markdown",
   "metadata": {},
   "source": [
    "# [5] Assignment 3: KNN"
   ]
  },
  {
   "cell_type": "markdown",
   "metadata": {},
   "source": [
    "<ol>\n",
    "    <li><strong>Apply Knn(brute force version) on these feature sets</strong>\n",
    "        <ul>\n",
    "            <li><font color='red'>SET 1:</font>Review text, preprocessed one converted into vectors using (BOW)</li>\n",
    "            <li><font color='red'>SET 2:</font>Review text, preprocessed one converted into vectors using (TFIDF)</li>\n",
    "            <li><font color='red'>SET 3:</font>Review text, preprocessed one converted into vectors using (AVG W2v)</li>\n",
    "            <li><font color='red'>SET 4:</font>Review text, preprocessed one converted into vectors using (TFIDF W2v)</li>\n",
    "        </ul>\n",
    "    </li>\n",
    "    <br>\n",
    "    <li><strong>Apply Knn(kd tree version) on these feature sets</strong>\n",
    "        <br><font color='red'>NOTE: </font>sklearn implementation of kd-tree accepts only dense matrices, you need to convert the sparse matrices of CountVectorizer/TfidfVectorizer into dense matices. You can convert sparse matrices to dense using .toarray() attribute. For more information please visit this <a href='https://docs.scipy.org/doc/scipy-0.18.1/reference/generated/scipy.sparse.csr_matrix.toarray.html'>link</a>\n",
    "        <ul>\n",
    "            <li><font color='red'>SET 5:</font>Review text, preprocessed one converted into vectors using (BOW) but with restriction on maximum features generated.\n",
    "            <pre>\n",
    "            count_vect = CountVectorizer(min_df=10, max_features=500) \n",
    "            count_vect.fit(preprocessed_reviews)\n",
    "            </pre>\n",
    "            </li>\n",
    "            <li><font color='red'>SET 6:</font>Review text, preprocessed one converted into vectors using (TFIDF) but with restriction on maximum features generated.\n",
    "            <pre>\n",
    "                tf_idf_vect = TfidfVectorizer(min_df=10, max_features=500)\n",
    "                tf_idf_vect.fit(preprocessed_reviews)\n",
    "            </pre>\n",
    "            </li>\n",
    "            <li><font color='red'>SET 3:</font>Review text, preprocessed one converted into vectors using (AVG W2v)</li>\n",
    "            <li><font color='red'>SET 4:</font>Review text, preprocessed one converted into vectors using (TFIDF W2v)</li>\n",
    "        </ul>\n",
    "    </li>\n",
    "    <br>\n",
    "    <li><strong>The hyper paramter tuning(find best K)</strong>\n",
    "        <ul>\n",
    "    <li>Find the best hyper parameter which will give the maximum <a href='https://www.appliedaicourse.com/course/applied-ai-course-online/lessons/receiver-operating-characteristic-curve-roc-curve-and-auc-1/'>AUC</a> value</li>\n",
    "    <li>Find the best hyper paramter using k-fold cross validation or simple cross validation data</li>\n",
    "    <li>Use gridsearch cv or randomsearch cv or you can also write your own for loops to do this task of hyperparameter tuning</li>\n",
    "        </ul>\n",
    "    </li>\n",
    "    <br>\n",
    "    <li>\n",
    "    <strong>Representation of results</strong>\n",
    "        <ul>\n",
    "    <li>You need to plot the performance of model both on train data and cross validation data for each hyper parameter, like shown in the figure\n",
    "    <img src='train_cv_auc.JPG' width=300px></li>\n",
    "    <li>Once after you found the best hyper parameter, you need to train your model with it, and find the AUC on test data and plot the ROC curve on both train and test.\n",
    "    <img src='train_test_auc.JPG' width=300px></li>\n",
    "    <li>Along with plotting ROC curve, you need to print the <a href='https://www.appliedaicourse.com/course/applied-ai-course-online/lessons/confusion-matrix-tpr-fpr-fnr-tnr-1/'>confusion matrix</a> with predicted and original labels of test data points\n",
    "    <img src='confusion_matrix.png' width=300px></li>\n",
    "        </ul>\n",
    "    </li>\n",
    "    <br>\n",
    "    <li><strong>Conclusion</strong>\n",
    "        <ul>\n",
    "    <li>You need to summarize the results at the end of the notebook, summarize it in the table format. To print out a table please refer to this prettytable library<a href='http://zetcode.com/python/prettytable/'> link</a> \n",
    "        <img src='summary.JPG' width=400px>\n",
    "    </li>\n",
    "        </ul>\n",
    "</ol>"
   ]
  },
  {
   "cell_type": "markdown",
   "metadata": {},
   "source": [
    "<h4><font color='red'>Note: Data Leakage</font></h4>\n",
    "\n",
    "1. There will be an issue of data-leakage if you vectorize the entire data and then split it into train/cv/test.\n",
    "2. To avoid the issue of data-leakag, make sure to split your data first and then vectorize it. \n",
    "3. While vectorizing your data, apply the method fit_transform() on you train data, and apply the method transform() on cv/test data.\n",
    "4. For more details please go through this <a href='https://soundcloud.com/applied-ai-course/leakage-bow-and-tfidf'>link.</a>"
   ]
  },
  {
   "cell_type": "markdown",
   "metadata": {},
   "source": [
    "## [5.1] Applying KNN brute force"
   ]
  },
  {
   "cell_type": "markdown",
   "metadata": {},
   "source": [
    "### [5.1.1] Applying KNN brute force on BOW,<font color='red'> SET 1</font>"
   ]
  },
  {
   "cell_type": "code",
   "execution_count": 24,
   "metadata": {},
   "outputs": [
    {
     "name": "stderr",
     "output_type": "stream",
     "text": [
      "D:\\installed_files\\lib\\site-packages\\sklearn\\utils\\validation.py:595: DataConversionWarning: Data with input dtype int64 was converted to float64 by StandardScaler.\n",
      "  warnings.warn(msg, DataConversionWarning)\n",
      "D:\\installed_files\\lib\\site-packages\\sklearn\\utils\\validation.py:595: DataConversionWarning: Data with input dtype int64 was converted to float64 by StandardScaler.\n",
      "  warnings.warn(msg, DataConversionWarning)\n",
      "D:\\installed_files\\lib\\site-packages\\sklearn\\utils\\validation.py:595: DataConversionWarning: Data with input dtype int64 was converted to float64 by StandardScaler.\n",
      "  warnings.warn(msg, DataConversionWarning)\n",
      "D:\\installed_files\\lib\\site-packages\\sklearn\\utils\\validation.py:595: DataConversionWarning: Data with input dtype int64 was converted to float64 by StandardScaler.\n",
      "  warnings.warn(msg, DataConversionWarning)\n",
      "D:\\installed_files\\lib\\site-packages\\sklearn\\utils\\validation.py:595: DataConversionWarning: Data with input dtype int64 was converted to float64 by StandardScaler.\n",
      "  warnings.warn(msg, DataConversionWarning)\n",
      "D:\\installed_files\\lib\\site-packages\\sklearn\\utils\\validation.py:595: DataConversionWarning: Data with input dtype int64 was converted to float64 by StandardScaler.\n",
      "  warnings.warn(msg, DataConversionWarning)\n",
      "D:\\installed_files\\lib\\site-packages\\sklearn\\utils\\validation.py:595: DataConversionWarning: Data with input dtype int64 was converted to float64 by StandardScaler.\n",
      "  warnings.warn(msg, DataConversionWarning)\n",
      "D:\\installed_files\\lib\\site-packages\\sklearn\\utils\\validation.py:595: DataConversionWarning: Data with input dtype int64 was converted to float64 by StandardScaler.\n",
      "  warnings.warn(msg, DataConversionWarning)\n"
     ]
    }
   ],
   "source": [
    "# Please write all the code with proper documentation\n",
    "from sklearn.model_selection import train_test_split\n",
    "from sklearn.model_selection import cross_validate\n",
    "y=final['Score']\n",
    "X_1_u, X_test_u, y_1_u, y_test_u =train_test_split(preprocessed_reviews, y, test_size=0.25, random_state=0)\n",
    "X_tr_u, X_cv_u, y_tr_u, y_cv_u =train_test_split(X_1_u, y_1_u, test_size=0.25)\n",
    "\n",
    "count_vect1 = CountVectorizer(ngram_range=(1,2))\n",
    "#count_vect2 = CountVectorizer(ngram_range=(1,2)\n",
    "count_vect3 = CountVectorizer(ngram_range=(1,2))\n",
    "#count_vect4 = CountVectorizer(ngram_range=(1,2))\n",
    "X_tr=count_vect1.fit_transform(X_tr_u)\n",
    "X_cv=count_vect1.transform(X_cv_u)\n",
    "y_tr=y_tr_u\n",
    "y_cv=y_cv_u\n",
    "y_1=y_1_u \n",
    "y_test=y_test_u\n",
    "X_1=count_vect3.fit_transform(X_1_u)\n",
    "X_test=count_vect3.transform(X_test_u)\n",
    "from sklearn.preprocessing import StandardScaler\n",
    "scaler = StandardScaler(with_mean=False)\n",
    "X_tr=scaler.fit_transform(X_tr)\n",
    "X_cv=scaler.fit_transform(X_cv)\n",
    "X_1=scaler.fit_transform(X_1)\n",
    "X_test=scaler.fit_transform(X_test)\n"
   ]
  },
  {
   "cell_type": "code",
   "execution_count": null,
   "metadata": {},
   "outputs": [],
   "source": []
  },
  {
   "cell_type": "code",
   "execution_count": 25,
   "metadata": {},
   "outputs": [],
   "source": [
    "from sklearn.neighbors import KNeighborsClassifier\n",
    "from sklearn.model_selection import cross_val_score\n",
    "from sklearn.model_selection import train_test_split\n",
    "from sklearn.model_selection import cross_validate"
   ]
  },
  {
   "cell_type": "code",
   "execution_count": 26,
   "metadata": {},
   "outputs": [],
   "source": [
    "# scores = cross_val_score(clf,X_1 , y_1, cv=5,scoring='roc_auc')    \n",
    "# AUC_array.append(scores)"
   ]
  },
  {
   "cell_type": "code",
   "execution_count": 27,
   "metadata": {},
   "outputs": [
    {
     "name": "stderr",
     "output_type": "stream",
     "text": [
      "100%|██████████| 19/19 [13:42<00:00, 43.54s/it]\n"
     ]
    }
   ],
   "source": [
    "alpha = [x for x in range(1, 20)]\n",
    "AUC_cv_array=[]\n",
    "AUC_train_array=[]\n",
    "for i in tqdm(alpha):\n",
    "    clf = neigh = KNeighborsClassifier(n_neighbors=i,n_jobs=-1)\n",
    "    clf.fit(X_tr, y_tr)\n",
    "    predict_y = clf.predict_proba(X_cv)[:,1]\n",
    "    false_positive_rate, true_positive_rate, thresholds = roc_curve(y_cv,predict_y)\n",
    "    kiti = auc(false_positive_rate, true_positive_rate)\n",
    "    #calculating AUC score for train data\n",
    "    tpredict_y = clf.predict_proba(X_tr)[:,1]\n",
    "    tfalse_positive_rate, ttrue_positive_rate, tthresholds = roc_curve(y_tr,tpredict_y)\n",
    "    piti = auc(tfalse_positive_rate, ttrue_positive_rate)\n",
    "    \n",
    "    #plt.plot(false_positive_rate, true_positive_rate, color='darkorange', label='ROC curve (area = %0.2f)' % kiti)\n",
    "    AUC_cv_array.append(kiti)\n",
    "    AUC_train_array.append(piti)\n",
    "    #print('For values of alpha = ', i, \"The AUC is:\",kiti)\n"
   ]
  },
  {
   "cell_type": "code",
   "execution_count": 28,
   "metadata": {},
   "outputs": [
    {
     "data": {
      "text/plain": [
       "{0.5202087180263708: 0.9988069876438006,\n",
       " 0.5512338081091804: 0.925463712755664,\n",
       " 0.5571560615255329: 0.9437223934467202,\n",
       " 0.5207554526795969: 0.7889970344837853,\n",
       " 0.5139890678577068: 0.7597033149680101,\n",
       " 0.5085702729394928: 0.7353009377342137,\n",
       " 0.5044070952256284: 0.7162566204973867,\n",
       " 0.5032261750418153: 0.7026820929623886,\n",
       " 0.5041166551224938: 0.6911019077898666,\n",
       " 0.5041532934748253: 0.6795023200863984,\n",
       " 0.5027551809065023: 0.6718031438093939,\n",
       " 0.5010626571478063: 0.665499773556577,\n",
       " 0.4997698508563983: 0.660937681365005,\n",
       " 0.4982170687880427: 0.6582855316541609,\n",
       " 0.4973556327176776: 0.6552163999304719,\n",
       " 0.49696979956270504: 0.6541184377408198,\n",
       " 0.49470283049822816: 0.6496462236410285,\n",
       " 0.49507611269864416: 0.6490681951431222,\n",
       " 0.4964686019755493: 0.6470622486428057}"
      ]
     },
     "execution_count": 28,
     "metadata": {},
     "output_type": "execute_result"
    }
   ],
   "source": [
    "#comparison \n",
    "dict(zip(AUC_cv_array,AUC_train_array))"
   ]
  },
  {
   "cell_type": "code",
   "execution_count": 29,
   "metadata": {},
   "outputs": [
    {
     "name": "stderr",
     "output_type": "stream",
     "text": [
      "No handles with labels found to put in legend.\n"
     ]
    },
    {
     "data": {
      "text/plain": [
       "<matplotlib.legend.Legend at 0x2840ba76c50>"
      ]
     },
     "execution_count": 29,
     "metadata": {},
     "output_type": "execute_result"
    },
    {
     "data": {
      "image/png": "[encoded data removed]",
      "text/plain": [
       "<Figure size 432x288 with 1 Axes>"
      ]
     },
     "metadata": {},
     "output_type": "display_data"
    }
   ],
   "source": [
    "%matplotlib inline\n",
    "plt.plot(range(1, 20),AUC_cv_array,color='darkorange')\n",
    "plt.plot(range(1, 20),AUC_train_array,color='green')\n",
    "plt.xlabel('K values')\n",
    "plt.ylabel('AUC scores')\n",
    "plt.legend()\n"
   ]
  },
  {
   "cell_type": "code",
   "execution_count": 30,
   "metadata": {},
   "outputs": [
    {
     "data": {
      "text/plain": [
       "'\\nimport seaborn as sn\\npredict_y = clf.predict(X_test)\\nfalse_positive_rate, true_positive_rate, thresholds = roc_curve(y_test,predict_y)\\nkiti = auc(false_positive_rate, true_positive_rate)\\nprint(kiti)\\nplt.plot(false_positive_rate, true_positive_rate, color=\\'darkorange\\', label=\\'ROC curve (area = %0.2f)\\' % kiti)\\nmane=confusion_matrix(y_test,predict_y)\\ndf_cm = pd.DataFrame(mane, index = [\"AN\",\"AY\"],columns = [\"PN\",\"PY\"])\\nplt.figure(figsize = (10,7))\\nsn.heatmap(df_cm, annot=True,fmt=\".3f\")\\n'"
      ]
     },
     "execution_count": 30,
     "metadata": {},
     "output_type": "execute_result"
    }
   ],
   "source": [
    "#confusion matrix\n",
    "\"\"\"\n",
    "import seaborn as sn\n",
    "predict_y = clf.predict(X_test)\n",
    "false_positive_rate, true_positive_rate, thresholds = roc_curve(y_test,predict_y)\n",
    "kiti = auc(false_positive_rate, true_positive_rate)\n",
    "print(kiti)\n",
    "plt.plot(false_positive_rate, true_positive_rate, color='darkorange', label='ROC curve (area = %0.2f)' % kiti)\n",
    "mane=confusion_matrix(y_test,predict_y)\n",
    "df_cm = pd.DataFrame(mane, index = [\"AN\",\"AY\"],columns = [\"PN\",\"PY\"])\n",
    "plt.figure(figsize = (10,7))\n",
    "sn.heatmap(df_cm, annot=True,fmt=\".3f\")\n",
    "\"\"\""
   ]
  },
  {
   "cell_type": "code",
   "execution_count": 31,
   "metadata": {},
   "outputs": [
    {
     "name": "stdout",
     "output_type": "stream",
     "text": [
      "best K is 3\n"
     ]
    },
    {
     "name": "stderr",
     "output_type": "stream",
     "text": [
      "D:\\installed_files\\lib\\site-packages\\sklearn\\neighbors\\base.py:217: UserWarning: cannot use tree with sparse input: using brute force\n",
      "  warnings.warn(\"cannot use tree with sparse input: \"\n"
     ]
    },
    {
     "name": "stdout",
     "output_type": "stream",
     "text": [
      "confusion matrix\n"
     ]
    },
    {
     "data": {
      "text/plain": [
       "<matplotlib.axes._subplots.AxesSubplot at 0x28406d43198>"
      ]
     },
     "execution_count": 31,
     "metadata": {},
     "output_type": "execute_result"
    },
    {
     "data": {
      "image/png": "[encoded data removed]",
      "text/plain": [
       "<Figure size 432x288 with 1 Axes>"
      ]
     },
     "metadata": {},
     "output_type": "display_data"
    },
    {
     "data": {
      "image/png": "[encoded data removed]",
      "text/plain": [
       "<Figure size 720x504 with 2 Axes>"
      ]
     },
     "metadata": {},
     "output_type": "display_data"
    }
   ],
   "source": [
    "k=[0]*20\n",
    "sam=0\n",
    "for i in range(0,19):\n",
    "    if(AUC_cv_array[i]==max(AUC_cv_array)):\n",
    "        k[sam]=i+1\n",
    "        sam=sam+1\n",
    "        print(\"best K is\",i+1)\n",
    "#sam[0] is the best k\n",
    "kbest=k[0]\n",
    "clf = neigh = KNeighborsClassifier(n_neighbors=kbest,algorithm='kd_tree',n_jobs=-1)\n",
    "clf.fit(X_1, y_1)\n",
    "predict_y = clf.predict_proba(X_test)[:,1]\n",
    "false_positive_rate, true_positive_rate, thresholds = roc_curve(y_test,predict_y)\n",
    "plt.plot(false_positive_rate,true_positive_rate,color='orange',label='test')\n",
    "tpredict_y = clf.predict_proba(X_1)[:,1]\n",
    "tfalse_positive_rate, ttrue_positive_rate, tthresholds = roc_curve(y_1,tpredict_y)\n",
    "plt.plot(tfalse_positive_rate,ttrue_positive_rate,color='green',label='train')\n",
    "plt.legend()\n",
    "print(\"confusion matrix\")\n",
    "import seaborn as sn\n",
    "p_y=clf.predict(X_test)\n",
    "mane=confusion_matrix(y_test,p_y)\n",
    "df_cm = pd.DataFrame(mane, index = [\"AN\",\"AP\"],columns = [\"PN\",\"PP\"])\n",
    "plt.figure(figsize = (10,7))\n",
    "sn.heatmap(df_cm, annot=True,fmt=\".3f\")"
   ]
  },
  {
   "cell_type": "code",
   "execution_count": null,
   "metadata": {},
   "outputs": [],
   "source": []
  },
  {
   "cell_type": "code",
   "execution_count": null,
   "metadata": {},
   "outputs": [],
   "source": []
  },
  {
   "cell_type": "markdown",
   "metadata": {},
   "source": [
    "### [5.1.2] Applying KNN brute force on TFIDF,<font color='red'> SET 2</font>"
   ]
  },
  {
   "cell_type": "code",
   "execution_count": 32,
   "metadata": {},
   "outputs": [],
   "source": [
    "# Please write all the code with proper documentation\n",
    "from sklearn.feature_extraction.text import TfidfTransformer\n",
    "from sklearn.feature_extraction.text import TfidfVectorizer\n",
    "from sklearn.model_selection import train_test_split\n",
    "from sklearn.model_selection import cross_validate\n",
    "y=final['Score']\n",
    "X_1_u, X_test_u, y_1_u, y_test_u =train_test_split(preprocessed_reviews, y, test_size=0.25, random_state=0)\n",
    "X_tr_u, X_cv_u, y_tr_u, y_cv_u =train_test_split(X_1_u, y_1_u, test_size=0.25)\n",
    "\n",
    "count_vect1 = TfidfVectorizer(ngram_range=(1,2),min_df=10)\n",
    "#count_vect2 = CountVectorizer(ngram_range=(1,2))\n",
    "count_vect3 = TfidfVectorizer(ngram_range=(1,2),min_df=10)\n",
    "#count_vect4 = CountVectorizer(ngram_range=(1,2))\n",
    "X_tr=count_vect1.fit_transform(X_tr_u)\n",
    "X_cv=count_vect1.transform(X_cv_u)\n",
    "y_tr=y_tr_u\n",
    "y_cv=y_cv_u\n",
    "y_1=y_1_u \n",
    "y_test=y_test_u\n",
    "X_1=count_vect3.fit_transform(X_1_u)\n",
    "X_test=count_vect3.transform(X_test_u)\n",
    "from sklearn.preprocessing import StandardScaler\n",
    "scaler = StandardScaler(with_mean=False)\n",
    "X_tr=scaler.fit_transform(X_tr)\n",
    "X_cv=scaler.fit_transform(X_cv)\n",
    "X_1=scaler.fit_transform(X_1)\n",
    "X_test=scaler.fit_transform(X_test)\n"
   ]
  },
  {
   "cell_type": "code",
   "execution_count": 33,
   "metadata": {},
   "outputs": [
    {
     "name": "stderr",
     "output_type": "stream",
     "text": [
      "100%|██████████| 19/19 [13:17<00:00, 42.83s/it]\n"
     ]
    }
   ],
   "source": [
    "alpha = [x for x in range(1, 20)]\n",
    "AUC_cv_array=[]\n",
    "AUC_train_array=[]\n",
    "for i in tqdm(alpha):\n",
    "    clf = neigh = KNeighborsClassifier(n_neighbors=i,n_jobs=-1)\n",
    "    clf.fit(X_tr, y_tr)\n",
    "    predict_y = clf.predict_proba(X_cv)[:,1]\n",
    "    false_positive_rate, true_positive_rate, thresholds = roc_curve(y_cv,predict_y)\n",
    "    kiti = auc(false_positive_rate, true_positive_rate)\n",
    "    #calculating AUC score for train data\n",
    "    tpredict_y = clf.predict_proba(X_tr)[:,1]\n",
    "    tfalse_positive_rate, ttrue_positive_rate, tthresholds = roc_curve(y_tr,tpredict_y)\n",
    "    piti = auc(tfalse_positive_rate, ttrue_positive_rate)\n",
    "    \n",
    "    #plt.plot(false_positive_rate, true_positive_rate, color='darkorange', label='ROC curve (area = %0.2f)' % kiti)\n",
    "    AUC_cv_array.append(kiti)\n",
    "    AUC_train_array.append(piti)\n",
    "    #print('For values of alpha = ', i, \"The AUC is:\",kiti)\n"
   ]
  },
  {
   "cell_type": "code",
   "execution_count": 34,
   "metadata": {},
   "outputs": [
    {
     "data": {
      "text/plain": [
       "{0.5272787763803997: 0.9986339834560218,\n",
       " 0.5272080741692897: 0.9876352117370739,\n",
       " 0.5230901347544671: 0.9896619109053654,\n",
       " 0.509745469718092: 0.7877863696751026,\n",
       " 0.5087063852107228: 0.7617884670168592,\n",
       " 0.5063106367239126: 0.7441196350640805,\n",
       " 0.5066853642475753: 0.7289402303983648,\n",
       " 0.5045089493442458: 0.7177208080963215,\n",
       " 0.5041451928533415: 0.7091319146534716,\n",
       " 0.5033594579357833: 0.7002344627858414,\n",
       " 0.5021988213511854: 0.691038995249865,\n",
       " 0.5016399662301163: 0.6843274855232783,\n",
       " 0.4992252651390964: 0.6784927156736161,\n",
       " 0.49820913853361065: 0.674860389810769,\n",
       " 0.4979862930586914: 0.6727161580739605,\n",
       " 0.4983145243006634: 0.6710575083688163,\n",
       " 0.5012616107194303: 0.667761049665563,\n",
       " 0.50194634247826: 0.6649376395795886,\n",
       " 0.5024380943513462: 0.6629175018518273}"
      ]
     },
     "execution_count": 34,
     "metadata": {},
     "output_type": "execute_result"
    }
   ],
   "source": [
    "dict(zip(AUC_cv_array,AUC_train_array))"
   ]
  },
  {
   "cell_type": "code",
   "execution_count": 35,
   "metadata": {},
   "outputs": [
    {
     "name": "stderr",
     "output_type": "stream",
     "text": [
      "No handles with labels found to put in legend.\n"
     ]
    },
    {
     "data": {
      "text/plain": [
       "<matplotlib.legend.Legend at 0x284069f4cc0>"
      ]
     },
     "execution_count": 35,
     "metadata": {},
     "output_type": "execute_result"
    },
    {
     "data": {
      "image/png": "[encoded data removed]",
      "text/plain": [
       "<Figure size 432x288 with 1 Axes>"
      ]
     },
     "metadata": {},
     "output_type": "display_data"
    }
   ],
   "source": [
    "%matplotlib inline\n",
    "plt.plot(range(1, 20),AUC_cv_array,color='darkorange')\n",
    "plt.plot(range(1, 20),AUC_train_array,color='green')\n",
    "plt.xlabel('K values')\n",
    "plt.ylabel('AUC scores')\n",
    "plt.legend()"
   ]
  },
  {
   "cell_type": "code",
   "execution_count": 36,
   "metadata": {},
   "outputs": [
    {
     "name": "stdout",
     "output_type": "stream",
     "text": [
      "best K is 1\n"
     ]
    },
    {
     "name": "stderr",
     "output_type": "stream",
     "text": [
      "D:\\installed_files\\lib\\site-packages\\sklearn\\neighbors\\base.py:217: UserWarning: cannot use tree with sparse input: using brute force\n",
      "  warnings.warn(\"cannot use tree with sparse input: \"\n"
     ]
    },
    {
     "name": "stdout",
     "output_type": "stream",
     "text": [
      "confusion matrix\n"
     ]
    },
    {
     "data": {
      "text/plain": [
       "<matplotlib.axes._subplots.AxesSubplot at 0x28405e16588>"
      ]
     },
     "execution_count": 36,
     "metadata": {},
     "output_type": "execute_result"
    },
    {
     "data": {
      "image/png": "[encoded data removed]",
      "text/plain": [
       "<Figure size 432x288 with 1 Axes>"
      ]
     },
     "metadata": {},
     "output_type": "display_data"
    },
    {
     "data": {
      "image/png": "[encoded data removed]",
      "text/plain": [
       "<Figure size 720x504 with 2 Axes>"
      ]
     },
     "metadata": {},
     "output_type": "display_data"
    }
   ],
   "source": [
    "k=[0]*20\n",
    "sam=0\n",
    "for i in range(0,19):\n",
    "    if(AUC_cv_array[i]==max(AUC_cv_array)):\n",
    "        k[sam]=i+1\n",
    "        sam=sam+1\n",
    "        print(\"best K is\",i+1)\n",
    "#sam[0] is the best k\n",
    "kbest=k[0]\n",
    "clf = neigh = KNeighborsClassifier(n_neighbors=kbest,algorithm='kd_tree',n_jobs=-1)\n",
    "clf.fit(X_1, y_1)\n",
    "predict_y = clf.predict_proba(X_test)[:,1]\n",
    "false_positive_rate, true_positive_rate, thresholds = roc_curve(y_test,predict_y)\n",
    "plt.plot(false_positive_rate,true_positive_rate,color='orange',label='test')\n",
    "tpredict_y = clf.predict_proba(X_1)[:,1]\n",
    "tfalse_positive_rate, ttrue_positive_rate, tthresholds = roc_curve(y_1,tpredict_y)\n",
    "plt.plot(tfalse_positive_rate,ttrue_positive_rate,color='green',label='train')\n",
    "plt.legend()\n",
    "print(\"confusion matrix\")\n",
    "import seaborn as sn\n",
    "p_y=clf.predict(X_test)\n",
    "mane=confusion_matrix(y_test,p_y)\n",
    "df_cm = pd.DataFrame(mane, index = [\"AN\",\"AP\"],columns = [\"PN\",\"PP\"])\n",
    "plt.figure(figsize = (10,7))\n",
    "sn.heatmap(df_cm, annot=True,fmt=\".3f\")"
   ]
  },
  {
   "cell_type": "markdown",
   "metadata": {},
   "source": [
    "### [5.1.3] Applying KNN brute force on AVG W2V,<font color='red'> SET 3</font>"
   ]
  },
  {
   "cell_type": "code",
   "execution_count": 37,
   "metadata": {},
   "outputs": [],
   "source": [
    "# Please write all the code with proper documentation\n",
    "# Please write all the code with proper documentation\n",
    "y=final['Score']\n",
    "X_1_u, X_test_u, y_1_u, y_test_u = train_test_split(preprocessed_reviews, y, test_size=0.25, random_state=0)\n",
    "X_tr_u, X_cv_u, y_tr_u, y_cv_u = train_test_split(X_1_u, y_1_u, test_size=0.25)\n",
    "\n",
    "\n",
    "def convert_to_avgwordtovec(preprocessed_reviews):\n",
    "    \n",
    "    i=0\n",
    "    list_of_sentance=[]\n",
    "    for sentance in preprocessed_reviews:\n",
    "        list_of_sentance.append(sentance.split())\n",
    "        is_your_ram_gt_16g=False\n",
    "    want_to_use_google_w2v = False\n",
    "    want_to_train_w2v = True\n",
    "\n",
    "    if want_to_train_w2v:\n",
    "        # min_count = 5 considers only words that occured atleast 5 times\n",
    "        w2v_model=Word2Vec(list_of_sentance,min_count=5,size=50, workers=4)\n",
    "        #print(w2v_model.wv.most_similar('great'))\n",
    "        #print('='*50)\n",
    "        #print(w2v_model.wv.most_similar('worst'))\n",
    "\n",
    "    elif want_to_use_google_w2v and is_your_ram_gt_16g:\n",
    "        if os.path.isfile('GoogleNews-vectors-negative300.bin'):\n",
    "            w2v_model=KeyedVectors.load_word2vec_format('GoogleNews-vectors-negative300.bin', binary=True)\n",
    "            #print(w2v_model.wv.most_similar('great'))\n",
    "            #print(w2v_model.wv.most_similar('worst'))\n",
    "        else:\n",
    "            print(\"you don't have gogole's word2vec file, keep want_to_train_w2v = True, to train your own w2v \")\n",
    "    w2v_words = list(w2v_model.wv.vocab)\n",
    "    print(\"number of words that occured minimum 5 times \",len(w2v_words))\n",
    "    print(\"sample words \", w2v_words[0:50])\n",
    "    sent_vectors = []; # the avg-w2v for each sentence/review is stored in this list\n",
    "    for sent in tqdm(list_of_sentance): # for each review/sentence\n",
    "        sent_vec = np.zeros(50) # as word vectors are of zero length 50, you might need to change this to 300 if you use google's w2v\n",
    "        cnt_words =0; # num of words with a valid vector in the sentence/review\n",
    "        for word in sent: # for each word in a review/sentence\n",
    "            if word in w2v_words:\n",
    "                vec = w2v_model.wv[word]\n",
    "                sent_vec += vec\n",
    "                cnt_words += 1\n",
    "        if cnt_words != 0:\n",
    "            sent_vec /= cnt_words\n",
    "        sent_vectors.append(sent_vec)\n",
    "    print(len(sent_vectors))\n",
    "    print(len(sent_vectors[0]))\n",
    "    return sent_vectors\n"
   ]
  },
  {
   "cell_type": "code",
   "execution_count": 38,
   "metadata": {},
   "outputs": [
    {
     "name": "stdout",
     "output_type": "stream",
     "text": [
      "number of words that occured minimum 5 times  9909\n",
      "sample words  ['bought', 'kuerig', 'love', 'dunkin', 'original', 'green', 'mountain', 'nantucket', 'blend', 'rodeo', 'drive', 'become', 'favorite', 'delicious', 'smooth', 'addicted', 'coffee', 'loves', 'taste', 'folgers', 'happy', 'classic', 'roast', 'mellow', 'ever', 'nice', 'italian', 'restaurant', 'grated', 'real', 'cheese', 'right', 'onto', 'dish', 'remember', 'wonderful', 'aroma', 'texture', 'well', 'buy', 'enjoy', 'fantastic', 'culinary', 'experience', 'every', 'time', 'serve', 'pasta', 'salad', 'many']\n"
     ]
    },
    {
     "name": "stderr",
     "output_type": "stream",
     "text": [
      "100%|██████████| 24957/24957 [00:27<00:00, 895.53it/s] \n"
     ]
    },
    {
     "name": "stdout",
     "output_type": "stream",
     "text": [
      "24957\n",
      "50\n",
      "number of words that occured minimum 5 times  5548\n",
      "sample words  ['favorite', 'canned', 'lentils', 'tried', 'larger', 'expected', 'beans', 'much', 'smaller', 'bean', 'originally', 'found', 'local', 'whole', 'foods', 'often', 'sold', 'low', 'supply', 'needless', 'say', 'happy', 'find', 'amazon', 'also', 'although', 'well', 'make', 'great', 'substitute', 'using', 'dried', 'awesome', 'anyone', 'following', 'slow', 'carb', 'diet', 'described', 'book', 'four', 'hour', 'body', 'product', 'imported', 'italy', 'oat', 'bran', 'tastes', 'terrible']\n"
     ]
    },
    {
     "name": "stderr",
     "output_type": "stream",
     "text": [
      "100%|██████████| 8319/8319 [00:07<00:00, 1152.42it/s]\n"
     ]
    },
    {
     "name": "stdout",
     "output_type": "stream",
     "text": [
      "8319\n",
      "50\n",
      "number of words that occured minimum 5 times  11352\n",
      "sample words  ['totally', 'disgusting', 'second', 'time', 'tried', 'really', 'wanted', 'like', 'read', 'many', 'good', 'reviews', 'hungry', 'girl', 'strongly', 'recommends', 'not', 'picky', 'eater', 'cannot', 'swallow', 'fishy', 'smell', 'go', 'away', 'texture', 'makes', 'inedible', 'yuck', 'angel', 'hair', 'laughing', 'hard', 'reviewers', 'remark', 'husband', 'spitting', 'movie', 'big', 'spit', 'lol', 'great', 'coffe', 'price', 'buying', 'amounts', 'easy', 'feel', 'safe', 'coffee']\n"
     ]
    },
    {
     "name": "stderr",
     "output_type": "stream",
     "text": [
      "100%|██████████| 33276/33276 [00:42<00:00, 778.12it/s] \n"
     ]
    },
    {
     "name": "stdout",
     "output_type": "stream",
     "text": [
      "33276\n",
      "50\n",
      "number of words that occured minimum 5 times  6659\n",
      "sample words  ['not', 'tried', 'nor', 'many', 'corn', 'soy', 'byproducts', 'ingredients', 'list', 'automatic', 'no', 'genetically', 'modified', 'ready', 'come', 'pesticide', 'grown', 'unless', 'says', 'organic', 'non', 'gmo', 'guaranteed', 'gm', 'eat', 'products', 'feed', 'pets', 'seeds', 'grow', 'easy', 'one', 'seed', 'pack', 'grew', 'little', 'pots', 'would', 'using', 'every', 'days', 'separate', 'cats', 'never', 'without', 'great', 'buy', 'love', 'salt', 'soups']\n"
     ]
    },
    {
     "name": "stderr",
     "output_type": "stream",
     "text": [
      "100%|██████████| 11092/11092 [00:09<00:00, 1139.39it/s]\n"
     ]
    },
    {
     "name": "stdout",
     "output_type": "stream",
     "text": [
      "11092\n",
      "50\n"
     ]
    }
   ],
   "source": [
    "X_tr=convert_to_avgwordtovec(X_tr_u)\n",
    "X_cv=convert_to_avgwordtovec(X_cv_u)\n",
    "y_tr=y_tr_u\n",
    "y_cv=y_cv_u\n",
    "y_1=y_1_u \n",
    "y_test=y_test_u\n",
    "X_1=convert_to_avgwordtovec(X_1_u)\n",
    "X_test=convert_to_avgwordtovec(X_test_u)\n",
    "from sklearn.preprocessing import StandardScaler\n",
    "scaler = StandardScaler(with_mean=False)\n",
    "X_tr=scaler.fit_transform(X_tr)\n",
    "X_cv=scaler.fit_transform(X_cv)\n",
    "X_1=scaler.fit_transform(X_1)\n",
    "X_test=scaler.fit_transform(X_test)"
   ]
  },
  {
   "cell_type": "code",
   "execution_count": 39,
   "metadata": {},
   "outputs": [
    {
     "name": "stderr",
     "output_type": "stream",
     "text": [
      "100%|██████████| 19/19 [05:07<00:00, 17.31s/it]\n"
     ]
    }
   ],
   "source": [
    "alpha = [x for x in range(1, 20)]\n",
    "AUC_cv_array=[]\n",
    "AUC_train_array=[]\n",
    "for i in tqdm(alpha):\n",
    "    clf = neigh = KNeighborsClassifier(n_neighbors=i,n_jobs=-1)\n",
    "    clf.fit(X_tr, y_tr)\n",
    "    predict_y = clf.predict_proba(X_cv)[:,1]\n",
    "    false_positive_rate, true_positive_rate, thresholds = roc_curve(y_cv,predict_y)\n",
    "    kiti = auc(false_positive_rate, true_positive_rate)\n",
    "    #calculating AUC score for train data\n",
    "    tpredict_y = clf.predict_proba(X_tr)[:,1]\n",
    "    tfalse_positive_rate, ttrue_positive_rate, tthresholds = roc_curve(y_tr,tpredict_y)\n",
    "    piti = auc(tfalse_positive_rate, ttrue_positive_rate)\n",
    "    \n",
    "    #plt.plot(false_positive_rate, true_positive_rate, color='darkorange', label='ROC curve (area = %0.2f)' % kiti)\n",
    "    AUC_cv_array.append(kiti)\n",
    "    AUC_train_array.append(piti)\n",
    "    #print('For values of alpha = ', i, \"The AUC is:\",kiti)\n"
   ]
  },
  {
   "cell_type": "code",
   "execution_count": 40,
   "metadata": {},
   "outputs": [
    {
     "data": {
      "text/plain": [
       "{0.546156975641251: 0.998892580287929,\n",
       " 0.5925832602420894: 0.9661799424464501,\n",
       " 0.6133633019029388: 0.9518964780078061,\n",
       " 0.6332664225705142: 0.9431544751958775,\n",
       " 0.6490036612103726: 0.9380810539405057,\n",
       " 0.6600534744972244: 0.9341643157343734,\n",
       " 0.6699811477930464: 0.9313248005675878,\n",
       " 0.6750644776090328: 0.9289413128390633,\n",
       " 0.6824216853024215: 0.927081679863299,\n",
       " 0.6866776945158608: 0.9247903127707623,\n",
       " 0.6907935992942424: 0.9230456694723181,\n",
       " 0.6910122642546478: 0.9220762953753906,\n",
       " 0.6957923098580182: 0.9212387670858677,\n",
       " 0.6967764326308998: 0.9207571638295071,\n",
       " 0.6997769518840844: 0.9198257941673369,\n",
       " 0.7029030520213304: 0.9188938831498131,\n",
       " 0.7044079644022837: 0.9181559706900416,\n",
       " 0.7065042838967505: 0.9177899564687138,\n",
       " 0.7070299436776112: 0.9174799693041203}"
      ]
     },
     "execution_count": 40,
     "metadata": {},
     "output_type": "execute_result"
    }
   ],
   "source": [
    "dict(zip(AUC_cv_array,AUC_train_array))"
   ]
  },
  {
   "cell_type": "code",
   "execution_count": 41,
   "metadata": {},
   "outputs": [
    {
     "data": {
      "text/plain": [
       "<matplotlib.legend.Legend at 0x28405658908>"
      ]
     },
     "execution_count": 41,
     "metadata": {},
     "output_type": "execute_result"
    },
    {
     "data": {
      "image/png": "[encoded data removed]",
      "text/plain": [
       "<Figure size 432x288 with 1 Axes>"
      ]
     },
     "metadata": {},
     "output_type": "display_data"
    }
   ],
   "source": [
    "%matplotlib inline\n",
    "plt.plot(range(1, 20),AUC_cv_array,color='darkorange',label='Validation')\n",
    "plt.plot(range(1, 20),AUC_train_array,color='green',label='train')\n",
    "plt.xlabel('K values')\n",
    "plt.ylabel('AUC scores')\n",
    "plt.legend()"
   ]
  },
  {
   "cell_type": "code",
   "execution_count": 42,
   "metadata": {},
   "outputs": [
    {
     "name": "stdout",
     "output_type": "stream",
     "text": [
      "best K is 19\n",
      "confusion matrix\n"
     ]
    },
    {
     "data": {
      "text/plain": [
       "<matplotlib.axes._subplots.AxesSubplot at 0x2840365c128>"
      ]
     },
     "execution_count": 42,
     "metadata": {},
     "output_type": "execute_result"
    },
    {
     "data": {
      "image/png": "[encoded data removed]",
      "text/plain": [
       "<Figure size 432x288 with 1 Axes>"
      ]
     },
     "metadata": {},
     "output_type": "display_data"
    },
    {
     "data": {
      "image/png": "[encoded data removed]",
      "text/plain": [
       "<Figure size 720x504 with 2 Axes>"
      ]
     },
     "metadata": {},
     "output_type": "display_data"
    }
   ],
   "source": [
    "k=[0]*20\n",
    "sam=0\n",
    "for i in range(0,19):\n",
    "    if(AUC_cv_array[i]==max(AUC_cv_array)):\n",
    "        k[sam]=i+1\n",
    "        sam=sam+1\n",
    "        print(\"best K is\",i+1)\n",
    "#sam[0] is the best k\n",
    "kbest=k[0]\n",
    "clf = neigh = KNeighborsClassifier(n_neighbors=kbest,algorithm='kd_tree',n_jobs=-1)\n",
    "clf.fit(X_1, y_1)\n",
    "predict_y = clf.predict_proba(X_test)[:,1]\n",
    "false_positive_rate, true_positive_rate, thresholds = roc_curve(y_test,predict_y)\n",
    "plt.plot(false_positive_rate,true_positive_rate,color='orange',label='test')\n",
    "tpredict_y = clf.predict_proba(X_1)[:,1]\n",
    "tfalse_positive_rate, ttrue_positive_rate, tthresholds = roc_curve(y_1,tpredict_y)\n",
    "plt.plot(tfalse_positive_rate,ttrue_positive_rate,color='green',label='train')\n",
    "plt.legend()\n",
    "print(\"confusion matrix\")\n",
    "import seaborn as sn\n",
    "p_y=clf.predict(X_test)\n",
    "mane=confusion_matrix(y_test,p_y)\n",
    "df_cm = pd.DataFrame(mane, index = [\"AN\",\"AP\"],columns = [\"PN\",\"PP\"])\n",
    "plt.figure(figsize = (10,7))\n",
    "sn.heatmap(df_cm, annot=True,fmt=\".3f\")"
   ]
  },
  {
   "cell_type": "code",
   "execution_count": null,
   "metadata": {},
   "outputs": [],
   "source": []
  },
  {
   "cell_type": "code",
   "execution_count": null,
   "metadata": {},
   "outputs": [],
   "source": []
  },
  {
   "cell_type": "markdown",
   "metadata": {},
   "source": [
    "### [5.1.4] Applying KNN brute force on TFIDF W2V,<font color='red'> SET 4</font>"
   ]
  },
  {
   "cell_type": "code",
   "execution_count": 43,
   "metadata": {},
   "outputs": [],
   "source": [
    "# Please write all the code with proper documentation\n",
    "# S = [\"abc def pqr\", \"def def def abc\", \"pqr pqr def\"]\n",
    "def TfidfW2Vtransform(preprocessed_reviews):\n",
    "    i=0\n",
    "    list_of_sentance=[]\n",
    "    for sentance in preprocessed_reviews:\n",
    "        list_of_sentance.append(sentance.split())\n",
    "        is_your_ram_gt_16g=False\n",
    "    want_to_use_google_w2v = False\n",
    "    want_to_train_w2v = True \n",
    "    if want_to_train_w2v:\n",
    "        # min_count = 5 considers only words that occured atleast 5 times\n",
    "        w2v_model=Word2Vec(list_of_sentance,min_count=5,size=50, workers=4)\n",
    "        #print(w2v_model.wv.most_similar('great'))\n",
    "        #print('='*50)\n",
    "        #print(w2v_model.wv.most_similar('worst'))\n",
    "    \n",
    "    \n",
    "    \n",
    "    w2v_words = list(w2v_model.wv.vocab)\n",
    "    model = TfidfVectorizer()\n",
    "    tf_idf_matrix = model.fit_transform(preprocessed_reviews)\n",
    "    # we are converting a dictionary with word as a key, and the idf as a value\n",
    "    dictionary = dict(zip(model.get_feature_names(), list(model.idf_)))\n",
    "    # TF-IDF weighted Word2Vec\n",
    "    tfidf_feat = model.get_feature_names() # tfidf words/col-names\n",
    "    # final_tf_idf is the sparse matrix with row= sentence, col=word and cell_val = tfidf\n",
    "\n",
    "    tfidf_sent_vectors = []; # the tfidf-w2v for each sentence/review is stored in this list\n",
    "    row=0;\n",
    "    for sent in tqdm(list_of_sentance): # for each review/sentence \n",
    "        sent_vec = np.zeros(50) # as word vectors are of zero length\n",
    "        weight_sum =0; # num of words with a valid vector in the sentence/review\n",
    "        for word in sent: # for each word in a review/sentence\n",
    "            if word in w2v_words and word in tfidf_feat:\n",
    "                vec = w2v_model.wv[word]\n",
    "    #             tf_idf = tf_idf_matrix[row, tfidf_feat.index(word)]\n",
    "                # to reduce the computation we are \n",
    "                # dictionary[word] = idf value of word in whole courpus\n",
    "                # sent.count(word) = tf valeus of word in this review\n",
    "                tf_idf = dictionary[word]*(sent.count(word)/len(sent))\n",
    "                sent_vec += (vec * tf_idf)\n",
    "                weight_sum += tf_idf\n",
    "        if weight_sum != 0:\n",
    "            sent_vec /= weight_sum\n",
    "        tfidf_sent_vectors.append(sent_vec)\n",
    "        row += 1\n",
    "    return tfidf_sent_vectors"
   ]
  },
  {
   "cell_type": "code",
   "execution_count": 44,
   "metadata": {},
   "outputs": [
    {
     "name": "stderr",
     "output_type": "stream",
     "text": [
      "100%|██████████| 24957/24957 [03:31<00:00, 117.80it/s]\n",
      "100%|██████████| 8319/8319 [00:42<00:00, 194.56it/s]\n",
      "100%|██████████| 33276/33276 [05:35<00:00, 99.32it/s] \n",
      "100%|██████████| 11092/11092 [01:07<00:00, 164.43it/s]\n"
     ]
    }
   ],
   "source": [
    "y=final['Score']\n",
    "X_1_u, X_test_u, y_1_u, y_test_u = train_test_split(preprocessed_reviews, y, test_size=0.25, random_state=0)\n",
    "X_tr_u, X_cv_u, y_tr_u, y_cv_u = train_test_split(X_1_u, y_1_u, test_size=0.25)\n",
    "\n",
    "X_tr=TfidfW2Vtransform(X_tr_u)\n",
    "X_cv=TfidfW2Vtransform(X_cv_u)\n",
    "y_tr=y_tr_u\n",
    "y_cv=y_cv_u\n",
    "y_1=y_1_u \n",
    "y_test=y_test_u\n",
    "X_1=TfidfW2Vtransform(X_1_u)\n",
    "X_test=TfidfW2Vtransform(X_test_u)\n",
    "from sklearn.preprocessing import StandardScaler\n",
    "scaler = StandardScaler(with_mean=False)\n",
    "X_tr=scaler.fit_transform(X_tr)\n",
    "X_cv=scaler.fit_transform(X_cv)\n",
    "X_1=scaler.fit_transform(X_1)\n",
    "X_test=scaler.fit_transform(X_test)"
   ]
  },
  {
   "cell_type": "code",
   "execution_count": 45,
   "metadata": {},
   "outputs": [
    {
     "name": "stderr",
     "output_type": "stream",
     "text": [
      "100%|██████████| 19/19 [04:38<00:00, 16.05s/it]\n"
     ]
    }
   ],
   "source": [
    "alpha = [x for x in range(1, 20)]\n",
    "AUC_cv_array=[]\n",
    "AUC_train_array=[]\n",
    "for i in tqdm(alpha):\n",
    "    clf = neigh = KNeighborsClassifier(n_neighbors=i,n_jobs=-1)\n",
    "    clf.fit(X_tr, y_tr)\n",
    "    predict_y = clf.predict_proba(X_cv)[:,1]\n",
    "    false_positive_rate, true_positive_rate, thresholds = roc_curve(y_cv,predict_y)\n",
    "    kiti = auc(false_positive_rate, true_positive_rate)\n",
    "    #calculating AUC score for train data\n",
    "    tpredict_y = clf.predict_proba(X_tr)[:,1]\n",
    "    tfalse_positive_rate, ttrue_positive_rate, tthresholds = roc_curve(y_tr,tpredict_y)\n",
    "    piti = auc(tfalse_positive_rate, ttrue_positive_rate)\n",
    "    \n",
    "    #plt.plot(false_positive_rate, true_positive_rate, color='darkorange', label='ROC curve (area = %0.2f)' % kiti)\n",
    "    AUC_cv_array.append(kiti)\n",
    "    AUC_train_array.append(piti)\n",
    "    #print('For values of alpha = ', i, \"The AUC is:\",kiti)\n"
   ]
  },
  {
   "cell_type": "code",
   "execution_count": 46,
   "metadata": {},
   "outputs": [
    {
     "data": {
      "text/plain": [
       "{0.5614600585507217: 0.9987693091156001,\n",
       " 0.5869850906386765: 0.9602272884665992,\n",
       " 0.6018811871991845: 0.9441484823760684,\n",
       " 0.6146469686388496: 0.9337921191332613,\n",
       " 0.6211931146301918: 0.9273788112120345,\n",
       " 0.6301807606949691: 0.9225332148837982,\n",
       " 0.6324870588740684: 0.9192528982395878,\n",
       " 0.640548580670367: 0.9158304518164749,\n",
       " 0.6452159195731589: 0.9128586944932885,\n",
       " 0.650434515319495: 0.9114355349249507,\n",
       " 0.652673444757342: 0.90941716966382,\n",
       " 0.6571362683000029: 0.9076333757118971,\n",
       " 0.660193694564466: 0.9059662135370683,\n",
       " 0.6623092646096707: 0.9047523978461339,\n",
       " 0.6658492728181497: 0.9040740885092462,\n",
       " 0.66840350886359: 0.9027869708947203,\n",
       " 0.671326255697027: 0.9018291756279558,\n",
       " 0.672862791266039: 0.9008732936776487,\n",
       " 0.6745648606271069: 0.9005783820364709}"
      ]
     },
     "execution_count": 46,
     "metadata": {},
     "output_type": "execute_result"
    }
   ],
   "source": [
    "dict(zip(AUC_cv_array,AUC_train_array))"
   ]
  },
  {
   "cell_type": "code",
   "execution_count": 47,
   "metadata": {},
   "outputs": [
    {
     "data": {
      "text/plain": [
       "<matplotlib.legend.Legend at 0x2840b4a6c18>"
      ]
     },
     "execution_count": 47,
     "metadata": {},
     "output_type": "execute_result"
    },
    {
     "data": {
      "image/png": "[encoded data removed]",
      "text/plain": [
       "<Figure size 432x288 with 1 Axes>"
      ]
     },
     "metadata": {},
     "output_type": "display_data"
    }
   ],
   "source": [
    "%matplotlib inline\n",
    "plt.plot(range(1, 20),AUC_cv_array,color='darkorange',label='Validation')\n",
    "plt.plot(range(1, 20),AUC_train_array,color='green',label='train')\n",
    "plt.xlabel('K values')\n",
    "plt.ylabel('AUC scores')\n",
    "plt.legend()"
   ]
  },
  {
   "cell_type": "code",
   "execution_count": 48,
   "metadata": {},
   "outputs": [
    {
     "name": "stdout",
     "output_type": "stream",
     "text": [
      "best K is 19\n",
      "confusion matrix\n"
     ]
    },
    {
     "data": {
      "text/plain": [
       "<matplotlib.axes._subplots.AxesSubplot at 0x284085dd588>"
      ]
     },
     "execution_count": 48,
     "metadata": {},
     "output_type": "execute_result"
    },
    {
     "data": {
      "image/png": "[encoded data removed]",
      "text/plain": [
       "<Figure size 432x288 with 1 Axes>"
      ]
     },
     "metadata": {},
     "output_type": "display_data"
    },
    {
     "data": {
      "image/png": "[encoded data removed]",
      "text/plain": [
       "<Figure size 720x504 with 2 Axes>"
      ]
     },
     "metadata": {},
     "output_type": "display_data"
    }
   ],
   "source": [
    "k=[0]*20\n",
    "sam=0\n",
    "for i in range(0,19):\n",
    "    if(AUC_cv_array[i]==max(AUC_cv_array)):\n",
    "        k[sam]=i+1\n",
    "        sam=sam+1\n",
    "        print(\"best K is\",i+1)\n",
    "#sam[0] is the best k\n",
    "kbest=k[0]\n",
    "clf = neigh = KNeighborsClassifier(n_neighbors=kbest,algorithm='kd_tree',n_jobs=-1)\n",
    "clf.fit(X_1, y_1)\n",
    "predict_y = clf.predict_proba(X_test)[:,1]\n",
    "false_positive_rate, true_positive_rate, thresholds = roc_curve(y_test,predict_y)\n",
    "plt.plot(false_positive_rate,true_positive_rate,color='orange',label='test')\n",
    "tpredict_y = clf.predict_proba(X_1)[:,1]\n",
    "tfalse_positive_rate, ttrue_positive_rate, tthresholds = roc_curve(y_1,tpredict_y)\n",
    "plt.plot(tfalse_positive_rate,ttrue_positive_rate,color='green',label='train')\n",
    "plt.legend()\n",
    "print(\"confusion matrix\")\n",
    "import seaborn as sn\n",
    "p_y=clf.predict(X_test)\n",
    "mane=confusion_matrix(y_test,p_y)\n",
    "df_cm = pd.DataFrame(mane, index = [\"AN\",\"AP\"],columns = [\"PN\",\"PP\"])\n",
    "plt.figure(figsize = (10,7))\n",
    "sn.heatmap(df_cm, annot=True,fmt=\".3f\")"
   ]
  },
  {
   "cell_type": "code",
   "execution_count": null,
   "metadata": {},
   "outputs": [],
   "source": []
  },
  {
   "cell_type": "markdown",
   "metadata": {},
   "source": [
    "## [5.2] Applying KNN kd-tree"
   ]
  },
  {
   "cell_type": "markdown",
   "metadata": {},
   "source": [
    "### [5.2.1] Applying KNN kd-tree on BOW,<font color='red'> SET 5</font>"
   ]
  },
  {
   "cell_type": "code",
   "execution_count": 49,
   "metadata": {},
   "outputs": [
    {
     "name": "stderr",
     "output_type": "stream",
     "text": [
      "D:\\installed_files\\lib\\site-packages\\sklearn\\utils\\validation.py:595: DataConversionWarning: Data with input dtype int64 was converted to float64 by StandardScaler.\n",
      "  warnings.warn(msg, DataConversionWarning)\n",
      "D:\\installed_files\\lib\\site-packages\\sklearn\\utils\\validation.py:595: DataConversionWarning: Data with input dtype int64 was converted to float64 by StandardScaler.\n",
      "  warnings.warn(msg, DataConversionWarning)\n",
      "D:\\installed_files\\lib\\site-packages\\sklearn\\utils\\validation.py:595: DataConversionWarning: Data with input dtype int64 was converted to float64 by StandardScaler.\n",
      "  warnings.warn(msg, DataConversionWarning)\n",
      "D:\\installed_files\\lib\\site-packages\\sklearn\\utils\\validation.py:595: DataConversionWarning: Data with input dtype int64 was converted to float64 by StandardScaler.\n",
      "  warnings.warn(msg, DataConversionWarning)\n",
      "D:\\installed_files\\lib\\site-packages\\sklearn\\utils\\validation.py:595: DataConversionWarning: Data with input dtype int64 was converted to float64 by StandardScaler.\n",
      "  warnings.warn(msg, DataConversionWarning)\n",
      "D:\\installed_files\\lib\\site-packages\\sklearn\\utils\\validation.py:595: DataConversionWarning: Data with input dtype int64 was converted to float64 by StandardScaler.\n",
      "  warnings.warn(msg, DataConversionWarning)\n",
      "D:\\installed_files\\lib\\site-packages\\sklearn\\utils\\validation.py:595: DataConversionWarning: Data with input dtype int64 was converted to float64 by StandardScaler.\n",
      "  warnings.warn(msg, DataConversionWarning)\n",
      "D:\\installed_files\\lib\\site-packages\\sklearn\\utils\\validation.py:595: DataConversionWarning: Data with input dtype int64 was converted to float64 by StandardScaler.\n",
      "  warnings.warn(msg, DataConversionWarning)\n"
     ]
    }
   ],
   "source": [
    "# Please write all the code with proper documentation\n",
    "# Please write all the code with proper documentation\n",
    "from sklearn.model_selection import train_test_split\n",
    "from sklearn.model_selection import cross_validate\n",
    "y=final['Score'][0:20000]\n",
    "X_1_u, X_test_u, y_1_u, y_test_u =train_test_split(preprocessed_reviews[0:20000], y, test_size=0.25, random_state=0)\n",
    "X_tr_u, X_cv_u, y_tr_u, y_cv_u =train_test_split(X_1_u, y_1_u, test_size=0.25)\n",
    "\n",
    "count_vect1 = CountVectorizer(ngram_range=(1,2),max_features=500)\n",
    "#count_vect2 = CountVectorizer(ngram_range=(1,2))\n",
    "count_vect3 = CountVectorizer(ngram_range=(1,2),max_features=500)\n",
    "#count_vect4 = CountVectorizer(ngram_range=(1,2))\n",
    "X_tr=count_vect1.fit_transform(X_tr_u)\n",
    "X_cv=count_vect1.transform(X_cv_u)\n",
    "y_tr=y_tr_u\n",
    "y_cv=y_cv_u\n",
    "y_1=y_1_u \n",
    "y_test=y_test_u\n",
    "X_1=count_vect3.fit_transform(X_1_u)\n",
    "X_test=count_vect3.transform(X_test_u)\n",
    "from sklearn.preprocessing import StandardScaler\n",
    "scaler = StandardScaler(with_mean=False)\n",
    "X_tr=scaler.fit_transform(X_tr)\n",
    "X_cv=scaler.fit_transform(X_cv)\n",
    "X_1=scaler.fit_transform(X_1)\n",
    "X_test=scaler.fit_transform(X_test)\n"
   ]
  },
  {
   "cell_type": "code",
   "execution_count": 50,
   "metadata": {},
   "outputs": [
    {
     "name": "stderr",
     "output_type": "stream",
     "text": [
      "100%|██████████| 19/19 [09:53<00:00, 33.70s/it]\n"
     ]
    }
   ],
   "source": [
    "alpha = [x for x in range(1, 20)]\n",
    "AUC_cv_array=[]\n",
    "AUC_train_array=[]\n",
    "for i in tqdm(alpha):\n",
    "    clf = neigh = KNeighborsClassifier(n_neighbors=i,algorithm='kd_tree',n_jobs=-1)\n",
    "    clf.fit(X_tr.toarray(), y_tr)\n",
    "    predict_y = clf.predict_proba(X_cv.toarray())[:,1]\n",
    "    false_positive_rate, true_positive_rate, thresholds = roc_curve(y_cv,predict_y)\n",
    "    kiti = auc(false_positive_rate, true_positive_rate)\n",
    "    #calculating AUC score for train data\n",
    "    tpredict_y = clf.predict_proba(X_tr.toarray())[:,1]\n",
    "    tfalse_positive_rate, ttrue_positive_rate, tthresholds = roc_curve(y_tr,tpredict_y)\n",
    "    piti = auc(tfalse_positive_rate, ttrue_positive_rate)\n",
    "    \n",
    "    #plt.plot(false_positive_rate, true_positive_rate, color='darkorange', label='ROC curve (area = %0.2f)' % kiti)\n",
    "    AUC_cv_array.append(kiti)\n",
    "    AUC_train_array.append(piti)\n",
    "    #print('For values of alpha = ', i, \"The AUC is:\",kiti)\n"
   ]
  },
  {
   "cell_type": "code",
   "execution_count": 51,
   "metadata": {},
   "outputs": [
    {
     "data": {
      "text/plain": [
       "{0.6488320790335048: 0.9982908130909822,\n",
       " 0.7007054146300065: 0.9410664196785862,\n",
       " 0.7281828383799691: 0.9153815100910447,\n",
       " 0.739646578754814: 0.8956526447101684,\n",
       " 0.7469884475201105: 0.8841782636618934,\n",
       " 0.7569287067599154: 0.8791459630500656,\n",
       " 0.7601218956939402: 0.8705502384981033,\n",
       " 0.7600707163615594: 0.8645434831297322,\n",
       " 0.7604430209167208: 0.8601501622137777,\n",
       " 0.7636605809614031: 0.8576414923203798,\n",
       " 0.768419111997009: 0.8562591724389457,\n",
       " 0.7660393447210454: 0.8596246433820537,\n",
       " 0.7716653439365824: 0.8584819190488499,\n",
       " 0.771291462427202: 0.8542556924430459,\n",
       " 0.7667744921060539: 0.8503274594254325,\n",
       " 0.7659685251406643: 0.8457232575808422,\n",
       " 0.7619031371640513: 0.8420148152825685,\n",
       " 0.7595283874696938: 0.8369952043726522,\n",
       " 0.7572918363087116: 0.8332803298725334}"
      ]
     },
     "execution_count": 51,
     "metadata": {},
     "output_type": "execute_result"
    }
   ],
   "source": [
    "dict(zip(AUC_cv_array,AUC_train_array))"
   ]
  },
  {
   "cell_type": "code",
   "execution_count": 52,
   "metadata": {},
   "outputs": [
    {
     "name": "stderr",
     "output_type": "stream",
     "text": [
      "No handles with labels found to put in legend.\n"
     ]
    },
    {
     "data": {
      "text/plain": [
       "<matplotlib.legend.Legend at 0x28404eb3048>"
      ]
     },
     "execution_count": 52,
     "metadata": {},
     "output_type": "execute_result"
    },
    {
     "data": {
      "image/png": "[encoded data removed]",
      "text/plain": [
       "<Figure size 432x288 with 1 Axes>"
      ]
     },
     "metadata": {},
     "output_type": "display_data"
    }
   ],
   "source": [
    "%matplotlib inline\n",
    "plt.plot(range(1, 20),AUC_cv_array,color='darkorange')\n",
    "plt.plot(range(1, 20),AUC_train_array,color='green')\n",
    "plt.xlabel('K values')\n",
    "plt.ylabel('AUC scores')\n",
    "plt.legend()"
   ]
  },
  {
   "cell_type": "code",
   "execution_count": 53,
   "metadata": {},
   "outputs": [
    {
     "name": "stdout",
     "output_type": "stream",
     "text": [
      "best K is 13\n"
     ]
    },
    {
     "name": "stderr",
     "output_type": "stream",
     "text": [
      "D:\\installed_files\\lib\\site-packages\\sklearn\\neighbors\\base.py:217: UserWarning: cannot use tree with sparse input: using brute force\n",
      "  warnings.warn(\"cannot use tree with sparse input: \"\n"
     ]
    },
    {
     "name": "stdout",
     "output_type": "stream",
     "text": [
      "confusion matrix\n"
     ]
    },
    {
     "data": {
      "text/plain": [
       "<matplotlib.axes._subplots.AxesSubplot at 0x28406c77a20>"
      ]
     },
     "execution_count": 53,
     "metadata": {},
     "output_type": "execute_result"
    },
    {
     "data": {
      "image/png": "[encoded data removed]",
      "text/plain": [
       "<Figure size 432x288 with 1 Axes>"
      ]
     },
     "metadata": {},
     "output_type": "display_data"
    },
    {
     "data": {
      "image/png": "[encoded data removed]",
      "text/plain": [
       "<Figure size 720x504 with 2 Axes>"
      ]
     },
     "metadata": {},
     "output_type": "display_data"
    }
   ],
   "source": [
    "k=[0]*20\n",
    "sam=0\n",
    "for i in range(0,19):\n",
    "    if(AUC_cv_array[i]==max(AUC_cv_array)):\n",
    "        k[sam]=i+1\n",
    "        sam=sam+1\n",
    "        print(\"best K is\",i+1)\n",
    "#sam[0] is the best k\n",
    "kbest=k[0]\n",
    "clf = neigh = KNeighborsClassifier(n_neighbors=kbest,algorithm='kd_tree',n_jobs=-1)\n",
    "clf.fit(X_1, y_1)\n",
    "predict_y = clf.predict_proba(X_test)[:,1]\n",
    "false_positive_rate, true_positive_rate, thresholds = roc_curve(y_test,predict_y)\n",
    "plt.plot(false_positive_rate,true_positive_rate,color='orange',label='test')\n",
    "tpredict_y = clf.predict_proba(X_1)[:,1]\n",
    "tfalse_positive_rate, ttrue_positive_rate, tthresholds = roc_curve(y_1,tpredict_y)\n",
    "plt.plot(tfalse_positive_rate,ttrue_positive_rate,color='green',label='train')\n",
    "plt.legend()\n",
    "print(\"confusion matrix\")\n",
    "import seaborn as sn\n",
    "p_y=clf.predict(X_test)\n",
    "mane=confusion_matrix(y_test,p_y)\n",
    "df_cm = pd.DataFrame(mane, index = [\"AN\",\"AP\"],columns = [\"PN\",\"PP\"])\n",
    "plt.figure(figsize = (10,7))\n",
    "sn.heatmap(df_cm, annot=True,fmt=\".3f\")"
   ]
  },
  {
   "cell_type": "code",
   "execution_count": null,
   "metadata": {},
   "outputs": [],
   "source": []
  },
  {
   "cell_type": "code",
   "execution_count": null,
   "metadata": {},
   "outputs": [],
   "source": []
  },
  {
   "cell_type": "markdown",
   "metadata": {},
   "source": [
    "### [5.2.2] Applying KNN kd-tree on TFIDF,<font color='red'> SET 6</font>"
   ]
  },
  {
   "cell_type": "code",
   "execution_count": 54,
   "metadata": {},
   "outputs": [],
   "source": [
    "# Please write all the code with proper documentation"
   ]
  },
  {
   "cell_type": "code",
   "execution_count": 55,
   "metadata": {},
   "outputs": [],
   "source": [
    "# Please write all the code with proper documentation\n",
    "from sklearn.feature_extraction.text import TfidfTransformer\n",
    "from sklearn.feature_extraction.text import TfidfVectorizer\n",
    "from sklearn.model_selection import train_test_split\n",
    "from sklearn.model_selection import cross_validate\n",
    "y=final['Score'][0:20000]\n",
    "X_1_u, X_test_u, y_1_u, y_test_u =train_test_split(preprocessed_reviews[0:20000], y, test_size=0.25, random_state=0)\n",
    "X_tr_u, X_cv_u, y_tr_u, y_cv_u =train_test_split(X_1_u, y_1_u, test_size=0.25)\n",
    "\n",
    "count_vect1 = TfidfVectorizer(ngram_range=(1,2),min_df=10,max_features=500)\n",
    "#count_vect2 = CountVectorizer(ngram_range=(1,2))\n",
    "count_vect3 = TfidfVectorizer(ngram_range=(1,2),min_df=10,max_features=500)\n",
    "#count_vect4 = CountVectorizer(ngram_range=(1,2))\n",
    "X_tr=count_vect1.fit_transform(X_tr_u)\n",
    "X_cv=count_vect1.transform(X_cv_u)\n",
    "y_tr=y_tr_u\n",
    "y_cv=y_cv_u\n",
    "y_1=y_1_u \n",
    "y_test=y_test_u\n",
    "X_1=count_vect3.fit_transform(X_1_u)\n",
    "X_test=count_vect3.transform(X_test_u)\n",
    "from sklearn.preprocessing import StandardScaler\n",
    "scaler = StandardScaler(with_mean=False)\n",
    "X_tr=scaler.fit_transform(X_tr)\n",
    "X_cv=scaler.fit_transform(X_cv)\n",
    "X_1=scaler.fit_transform(X_1)\n",
    "X_test=scaler.fit_transform(X_test)\n"
   ]
  },
  {
   "cell_type": "code",
   "execution_count": 56,
   "metadata": {},
   "outputs": [
    {
     "name": "stderr",
     "output_type": "stream",
     "text": [
      "100%|██████████| 19/19 [13:37<00:00, 40.62s/it]\n"
     ]
    }
   ],
   "source": [
    "alpha = [x for x in range(1, 20)]\n",
    "AUC_cv_array=[]\n",
    "AUC_train_array=[]\n",
    "for i in tqdm(alpha):\n",
    "    clf = neigh = KNeighborsClassifier(n_neighbors=i,algorithm='kd_tree',n_jobs=-1)\n",
    "    clf.fit(X_tr.toarray(), y_tr)\n",
    "    predict_y = clf.predict_proba(X_cv.toarray())[:,1]\n",
    "    false_positive_rate, true_positive_rate, thresholds = roc_curve(y_cv,predict_y)\n",
    "    kiti = auc(false_positive_rate, true_positive_rate)\n",
    "    #calculating AUC score for train data\n",
    "    tpredict_y = clf.predict_proba(X_tr.toarray())[:,1]\n",
    "    tfalse_positive_rate, ttrue_positive_rate, tthresholds = roc_curve(y_tr,tpredict_y)\n",
    "    piti = auc(tfalse_positive_rate, ttrue_positive_rate)\n",
    "    \n",
    "    #plt.plot(false_positive_rate, true_positive_rate, color='darkorange', label='ROC curve (area = %0.2f)' % kiti)\n",
    "    AUC_cv_array.append(kiti)\n",
    "    AUC_train_array.append(piti)\n",
    "    #print('For values of alpha = ', i, \"The AUC is:\",kiti)\n"
   ]
  },
  {
   "cell_type": "code",
   "execution_count": 57,
   "metadata": {},
   "outputs": [
    {
     "data": {
      "text/plain": [
       "{0.5895697244796795: 0.998025666337611,\n",
       " 0.6094710627587544: 0.9092972715869261,\n",
       " 0.6142542807317329: 0.8981350843265443,\n",
       " 0.6140583103844872: 0.8842265678939957,\n",
       " 0.6228201688741996: 0.8673034897963493,\n",
       " 0.6213010775371737: 0.8835105601910915,\n",
       " 0.6148725935826206: 0.8586549164801891,\n",
       " 0.6114941390164829: 0.8794632620735797,\n",
       " 0.614363042133482: 0.8421738716611863,\n",
       " 0.6082474256233298: 0.866435742412316,\n",
       " 0.5981053535444941: 0.8417993418633303,\n",
       " 0.584721991869443: 0.8307293913336473,\n",
       " 0.5853804122713689: 0.8002275045445557,\n",
       " 0.595712602706018: 0.8047395014591187,\n",
       " 0.5999147607491806: 0.8260893064052341,\n",
       " 0.600607579442211: 0.8218438082702643,\n",
       " 0.6045733741240924: 0.8429299933552652,\n",
       " 0.6058402589035194: 0.8601760352081869,\n",
       " 0.6054012168145698: 0.8875735094455247}"
      ]
     },
     "execution_count": 57,
     "metadata": {},
     "output_type": "execute_result"
    }
   ],
   "source": [
    "dict(zip(AUC_cv_array,AUC_train_array))"
   ]
  },
  {
   "cell_type": "code",
   "execution_count": 58,
   "metadata": {},
   "outputs": [
    {
     "name": "stderr",
     "output_type": "stream",
     "text": [
      "No handles with labels found to put in legend.\n"
     ]
    },
    {
     "data": {
      "text/plain": [
       "<matplotlib.legend.Legend at 0x28411110eb8>"
      ]
     },
     "execution_count": 58,
     "metadata": {},
     "output_type": "execute_result"
    },
    {
     "data": {
      "image/png": "[encoded data removed]",
      "text/plain": [
       "<Figure size 432x288 with 1 Axes>"
      ]
     },
     "metadata": {},
     "output_type": "display_data"
    }
   ],
   "source": [
    "%matplotlib inline\n",
    "plt.plot(range(1, 20),AUC_cv_array,color='darkorange')\n",
    "plt.plot(range(1, 20),AUC_train_array,color='green')\n",
    "plt.xlabel('K values')\n",
    "plt.ylabel('AUC scores')\n",
    "plt.legend()"
   ]
  },
  {
   "cell_type": "code",
   "execution_count": 59,
   "metadata": {},
   "outputs": [
    {
     "name": "stdout",
     "output_type": "stream",
     "text": [
      "best K is 5\n"
     ]
    },
    {
     "name": "stderr",
     "output_type": "stream",
     "text": [
      "D:\\installed_files\\lib\\site-packages\\sklearn\\neighbors\\base.py:217: UserWarning: cannot use tree with sparse input: using brute force\n",
      "  warnings.warn(\"cannot use tree with sparse input: \"\n"
     ]
    },
    {
     "name": "stdout",
     "output_type": "stream",
     "text": [
      "confusion matrix\n"
     ]
    },
    {
     "data": {
      "text/plain": [
       "<matplotlib.axes._subplots.AxesSubplot at 0x284054bf320>"
      ]
     },
     "execution_count": 59,
     "metadata": {},
     "output_type": "execute_result"
    },
    {
     "data": {
      "image/png": "[encoded data removed]",
      "text/plain": [
       "<Figure size 432x288 with 1 Axes>"
      ]
     },
     "metadata": {},
     "output_type": "display_data"
    },
    {
     "data": {
      "image/png": "[encoded data removed]",
      "text/plain": [
       "<Figure size 720x504 with 2 Axes>"
      ]
     },
     "metadata": {},
     "output_type": "display_data"
    }
   ],
   "source": [
    "k=[0]*20\n",
    "sam=0\n",
    "for i in range(0,19):\n",
    "    if(AUC_cv_array[i]==max(AUC_cv_array)):\n",
    "        k[sam]=i+1\n",
    "        sam=sam+1\n",
    "        print(\"best K is\",i+1)\n",
    "#sam[0] is the best k\n",
    "kbest=k[0]\n",
    "clf = neigh = KNeighborsClassifier(n_neighbors=kbest,algorithm='kd_tree',n_jobs=-1)\n",
    "clf.fit(X_1, y_1)\n",
    "predict_y = clf.predict_proba(X_test)[:,1]\n",
    "false_positive_rate, true_positive_rate, thresholds = roc_curve(y_test,predict_y)\n",
    "plt.plot(false_positive_rate,true_positive_rate,color='orange',label='test')\n",
    "tpredict_y = clf.predict_proba(X_1)[:,1]\n",
    "tfalse_positive_rate, ttrue_positive_rate, tthresholds = roc_curve(y_1,tpredict_y)\n",
    "plt.plot(tfalse_positive_rate,ttrue_positive_rate,color='green',label='train')\n",
    "plt.legend()\n",
    "print(\"confusion matrix\")\n",
    "import seaborn as sn\n",
    "p_y=clf.predict(X_test)\n",
    "mane=confusion_matrix(y_test,p_y)\n",
    "df_cm = pd.DataFrame(mane, index = [\"AN\",\"AP\"],columns = [\"PN\",\"PP\"])\n",
    "plt.figure(figsize = (10,7))\n",
    "sn.heatmap(df_cm, annot=True,fmt=\".3f\")"
   ]
  },
  {
   "cell_type": "code",
   "execution_count": null,
   "metadata": {},
   "outputs": [],
   "source": []
  },
  {
   "cell_type": "code",
   "execution_count": null,
   "metadata": {},
   "outputs": [],
   "source": []
  },
  {
   "cell_type": "markdown",
   "metadata": {},
   "source": [
    "### [5.2.3] Applying KNN kd-tree on AVG W2V,<font color='red'> SET 3</font>"
   ]
  },
  {
   "cell_type": "code",
   "execution_count": 60,
   "metadata": {},
   "outputs": [],
   "source": [
    "# Please write all the code with proper documentation\n",
    "# Please write all the code with proper documentation\n",
    "# Please write all the code with proper documentation\n",
    "y=final['Score'][0:20000]\n",
    "X_1_u, X_test_u, y_1_u, y_test_u = train_test_split(preprocessed_reviews[0:20000], y, test_size=0.25, random_state=0)\n",
    "X_tr_u, X_cv_u, y_tr_u, y_cv_u = train_test_split(X_1_u, y_1_u, test_size=0.25)\n",
    "\n",
    "\n",
    "def convert_to_avgwordtovec(preprocessed_reviews):\n",
    "    \n",
    "    i=0\n",
    "    list_of_sentance=[]\n",
    "    for sentance in preprocessed_reviews:\n",
    "        list_of_sentance.append(sentance.split())\n",
    "        is_your_ram_gt_16g=False\n",
    "    want_to_use_google_w2v = False\n",
    "    want_to_train_w2v = True\n",
    "\n",
    "    if want_to_train_w2v:\n",
    "        # min_count = 5 considers only words that occured atleast 5 times\n",
    "        w2v_model=Word2Vec(list_of_sentance,min_count=5,size=50, workers=4)\n",
    "        #print(w2v_model.wv.most_similar('great'))\n",
    "        #print('='*50)\n",
    "        #print(w2v_model.wv.most_similar('worst'))\n",
    "\n",
    "    elif want_to_use_google_w2v and is_your_ram_gt_16g:\n",
    "        if os.path.isfile('GoogleNews-vectors-negative300.bin'):\n",
    "            w2v_model=KeyedVectors.load_word2vec_format('GoogleNews-vectors-negative300.bin', binary=True)\n",
    "            #print(w2v_model.wv.most_similar('great'))\n",
    "            #print(w2v_model.wv.most_similar('worst'))\n",
    "        else:\n",
    "            print(\"you don't have gogole's word2vec file, keep want_to_train_w2v = True, to train your own w2v \")\n",
    "    w2v_words = list(w2v_model.wv.vocab)\n",
    "    print(\"number of words that occured minimum 5 times \",len(w2v_words))\n",
    "    print(\"sample words \", w2v_words[0:50])\n",
    "    sent_vectors = []; # the avg-w2v for each sentence/review is stored in this list\n",
    "    for sent in tqdm(list_of_sentance): # for each review/sentence\n",
    "        sent_vec = np.zeros(50) # as word vectors are of zero length 50, you might need to change this to 300 if you use google's w2v\n",
    "        cnt_words =0; # num of words with a valid vector in the sentence/review\n",
    "        for word in sent: # for each word in a review/sentence\n",
    "            if word in w2v_words:\n",
    "                vec = w2v_model.wv[word]\n",
    "                sent_vec += vec\n",
    "                cnt_words += 1\n",
    "        if cnt_words != 0:\n",
    "            sent_vec /= cnt_words\n",
    "        sent_vectors.append(sent_vec)\n",
    "    print(len(sent_vectors))\n",
    "    print(len(sent_vectors[0]))\n",
    "    return sent_vectors\n"
   ]
  },
  {
   "cell_type": "code",
   "execution_count": 61,
   "metadata": {},
   "outputs": [
    {
     "name": "stdout",
     "output_type": "stream",
     "text": [
      "number of words that occured minimum 5 times  6728\n",
      "sample words  ['disappointed', 'made', 'cat', 'sick', 'total', 'waste', 'money', 'back', 'eating', 'tuna', 'girl', 'ca', 'not', 'afford', 'received', 'old', 'country', 'licorice', 'gift', 'basket', 'valentine', 'day', 'fell', 'love', 'ordered', 'lb', 'tubs', 'shown', 'past', 'week', 'soft', 'fact', 'bit', 'tough', 'side', 'considering', 'making', 'order', 'wait', 'bags', 'think', 'airtight', 'first', 'time', 'bought', 'tea', 'amazon', 'used', 'get', 'directly']\n"
     ]
    },
    {
     "name": "stderr",
     "output_type": "stream",
     "text": [
      "100%|██████████| 11250/11250 [00:09<00:00, 1179.43it/s]\n"
     ]
    },
    {
     "name": "stdout",
     "output_type": "stream",
     "text": [
      "11250\n",
      "50\n",
      "number of words that occured minimum 5 times  3551\n",
      "sample words  ['bought', 'super', 'discount', 'amazon', 'got', 'like', 'teabags', 'something', 'made', 'no', 'pros', 'great', 'taste', 'full', 'flavor', 'minutes', 'not', 'extremely', 'strong', 'tea', 'need', 'use', 'standard', 'size', 'cup', 'oz', 'order', 'really', 'enjoy', 'heaven', 'drinking', 'warm', 'liquid', 'cinnamon', 'local', 'grocery', 'stores', 'stopped', 'selling', 'variety', 'bigelow', 'four', 'years', 'ago', 'searched', 'high', 'low', 'replacement', 'avail', 'add']\n"
     ]
    },
    {
     "name": "stderr",
     "output_type": "stream",
     "text": [
      "100%|██████████| 3750/3750 [00:02<00:00, 1569.29it/s]\n"
     ]
    },
    {
     "name": "stdout",
     "output_type": "stream",
     "text": [
      "3750\n",
      "50\n",
      "number of words that occured minimum 5 times  7737\n",
      "sample words  ['tuna', 'comes', 'tiny', 'oz', 'grossly', 'overpriced', 'get', 'better', 'italian', 'trader', 'joes', 'bigger', 'without', 'olive', 'oil', 'nice', 'item', 'chunks', 'meat', 'good', 'gravy', 'cat', 'not', 'fond', 'varieties', 'little', 'treat', 'nonetheless', 'think', 'bit', 'pricy', 'per', 'big', 'earl', 'gray', 'fan', 'loved', 'deal', 'taste', 'tea', 'definitely', 'keep', 'subscribe', 'save', 'order', 'recommend', 'chips', 'points', 'serving', 'weight']\n"
     ]
    },
    {
     "name": "stderr",
     "output_type": "stream",
     "text": [
      "100%|██████████| 15000/15000 [00:13<00:00, 1102.89it/s]\n"
     ]
    },
    {
     "name": "stdout",
     "output_type": "stream",
     "text": [
      "15000\n",
      "50\n",
      "number of words that occured minimum 5 times  4264\n",
      "sample words  ['far', 'best', 'tasting', 'thing', 'come', 'goat', 'years', 'man', 'chowder', 'dairy', 'coat', 'not', 'hold', 'candle', 'stuff', 'drink', 'bake', 'good', 'since', 'mid', 'may', 'using', 'whole', 'grains', 'pastas', 'rice', 'etc', 'orzo', 'wheat', 'able', 'found', 'anywhere', 'happy', 'find', 'could', 'also', 'grain', 'hint', 'grams', 'fiber', 'per', 'serving', 'delivers', 'high', 'wanted', 'use', 'dishes', 'like', 'stuffed', 'peppers']\n"
     ]
    },
    {
     "name": "stderr",
     "output_type": "stream",
     "text": [
      "100%|██████████| 5000/5000 [00:03<00:00, 1351.67it/s]\n"
     ]
    },
    {
     "name": "stdout",
     "output_type": "stream",
     "text": [
      "5000\n",
      "50\n"
     ]
    }
   ],
   "source": [
    "X_tr=convert_to_avgwordtovec(X_tr_u)\n",
    "X_cv=convert_to_avgwordtovec(X_cv_u)\n",
    "y_tr=y_tr_u\n",
    "y_cv=y_cv_u\n",
    "y_1=y_1_u \n",
    "y_test=y_test_u\n",
    "X_1=convert_to_avgwordtovec(X_1_u)\n",
    "X_test=convert_to_avgwordtovec(X_test_u)\n",
    "from sklearn.preprocessing import StandardScaler\n",
    "scaler = StandardScaler(with_mean=False)\n",
    "X_tr=scaler.fit_transform(X_tr)\n",
    "X_cv=scaler.fit_transform(X_cv)\n",
    "X_1=scaler.fit_transform(X_1)\n",
    "X_test=scaler.fit_transform(X_test)"
   ]
  },
  {
   "cell_type": "code",
   "execution_count": null,
   "metadata": {},
   "outputs": [],
   "source": []
  },
  {
   "cell_type": "code",
   "execution_count": 62,
   "metadata": {},
   "outputs": [
    {
     "name": "stderr",
     "output_type": "stream",
     "text": [
      "100%|██████████| 19/19 [00:48<00:00,  2.87s/it]\n"
     ]
    }
   ],
   "source": [
    "alpha = [x for x in range(1, 20)]\n",
    "AUC_cv_array=[]\n",
    "AUC_train_array=[]\n",
    "for i in tqdm(alpha):\n",
    "    clf = neigh = KNeighborsClassifier(n_neighbors=i,algorithm='kd_tree',n_jobs=-1)\n",
    "    clf.fit(X_tr, y_tr)\n",
    "    predict_y = clf.predict_proba(X_cv)[:,1]\n",
    "    false_positive_rate, true_positive_rate, thresholds = roc_curve(y_cv,predict_y)\n",
    "    kiti = auc(false_positive_rate, true_positive_rate)\n",
    "    #calculating AUC score for train data\n",
    "    tpredict_y = clf.predict_proba(X_tr)[:,1]\n",
    "    tfalse_positive_rate, ttrue_positive_rate, tthresholds = roc_curve(y_tr,tpredict_y)\n",
    "    piti = auc(tfalse_positive_rate, ttrue_positive_rate)\n",
    "    \n",
    "    #plt.plot(false_positive_rate, true_positive_rate, color='darkorange', label='ROC curve (area = %0.2f)' % kiti)\n",
    "    AUC_cv_array.append(kiti)\n",
    "    AUC_train_array.append(piti)\n",
    "    #print('For values of alpha = ', i, \"The AUC is:\",kiti)\n"
   ]
  },
  {
   "cell_type": "code",
   "execution_count": 63,
   "metadata": {},
   "outputs": [
    {
     "data": {
      "text/plain": [
       "{0.5191864293010111: 0.9984520123839009,\n",
       " 0.5422945632100358: 0.9511368368112576,\n",
       " 0.5395813480800727: 0.9273359068224463,\n",
       " 0.5204960899964354: 0.9151755058320599,\n",
       " 0.5290384225166889: 0.9053376748421724,\n",
       " 0.5494593119044419: 0.9004456350159787,\n",
       " 0.567739481118654: 0.8949827079449789,\n",
       " 0.5877215813760484: 0.8907305460563221,\n",
       " 0.5943385214618542: 0.8873961974022722,\n",
       " 0.5899911557234798: 0.8844427053692415,\n",
       " 0.585629092332934: 0.8805442937745548,\n",
       " 0.575682206508577: 0.8781915154905661,\n",
       " 0.5713382654658542: 0.8754209752576501,\n",
       " 0.5699221538139265: 0.8740761896496081,\n",
       " 0.5608788168589776: 0.8723038749067187,\n",
       " 0.5555204524251268: 0.8711282652307016,\n",
       " 0.5562844449467331: 0.8698353379713575,\n",
       " 0.5574287213813166: 0.8684546332984812,\n",
       " 0.5558445142511574: 0.86741931159092}"
      ]
     },
     "execution_count": 63,
     "metadata": {},
     "output_type": "execute_result"
    }
   ],
   "source": [
    "dict(zip(AUC_cv_array,AUC_train_array))"
   ]
  },
  {
   "cell_type": "code",
   "execution_count": 64,
   "metadata": {},
   "outputs": [
    {
     "name": "stderr",
     "output_type": "stream",
     "text": [
      "No handles with labels found to put in legend.\n"
     ]
    },
    {
     "data": {
      "text/plain": [
       "<matplotlib.legend.Legend at 0x284073f7c18>"
      ]
     },
     "execution_count": 64,
     "metadata": {},
     "output_type": "execute_result"
    },
    {
     "data": {
      "image/png": "[encoded data removed]",
      "text/plain": [
       "<Figure size 432x288 with 1 Axes>"
      ]
     },
     "metadata": {},
     "output_type": "display_data"
    }
   ],
   "source": [
    "%matplotlib inline\n",
    "plt.plot(range(1, 20),AUC_cv_array,color='darkorange')\n",
    "plt.plot(range(1, 20),AUC_train_array,color='green')\n",
    "plt.xlabel('K values')\n",
    "plt.ylabel('AUC scores')\n",
    "plt.legend()"
   ]
  },
  {
   "cell_type": "code",
   "execution_count": 65,
   "metadata": {},
   "outputs": [
    {
     "name": "stdout",
     "output_type": "stream",
     "text": [
      "best K is 9\n",
      "confusion matrix\n"
     ]
    },
    {
     "data": {
      "text/plain": [
       "<matplotlib.axes._subplots.AxesSubplot at 0x284058e0f98>"
      ]
     },
     "execution_count": 65,
     "metadata": {},
     "output_type": "execute_result"
    },
    {
     "data": {
      "image/png": "[encoded data removed]",
      "text/plain": [
       "<Figure size 432x288 with 1 Axes>"
      ]
     },
     "metadata": {},
     "output_type": "display_data"
    },
    {
     "data": {
      "image/png": "[encoded data removed]",
      "text/plain": [
       "<Figure size 720x504 with 2 Axes>"
      ]
     },
     "metadata": {},
     "output_type": "display_data"
    }
   ],
   "source": [
    "k=[0]*20\n",
    "sam=0\n",
    "for i in range(0,19):\n",
    "    if(AUC_cv_array[i]==max(AUC_cv_array)):\n",
    "        k[sam]=i+1\n",
    "        sam=sam+1\n",
    "        print(\"best K is\",i+1)\n",
    "#sam[0] is the best k\n",
    "kbest=k[0]\n",
    "clf = neigh = KNeighborsClassifier(n_neighbors=kbest,algorithm='kd_tree',n_jobs=-1)\n",
    "clf.fit(X_1, y_1)\n",
    "predict_y = clf.predict_proba(X_test)[:,1]\n",
    "false_positive_rate, true_positive_rate, thresholds = roc_curve(y_test,predict_y)\n",
    "plt.plot(false_positive_rate,true_positive_rate,color='orange',label='test')\n",
    "tpredict_y = clf.predict_proba(X_1)[:,1]\n",
    "tfalse_positive_rate, ttrue_positive_rate, tthresholds = roc_curve(y_1,tpredict_y)\n",
    "plt.plot(tfalse_positive_rate,ttrue_positive_rate,color='green',label='train')\n",
    "plt.legend()\n",
    "print(\"confusion matrix\")\n",
    "import seaborn as sn\n",
    "p_y=clf.predict(X_test)\n",
    "mane=confusion_matrix(y_test,p_y)\n",
    "df_cm = pd.DataFrame(mane, index = [\"AN\",\"AP\"],columns = [\"PN\",\"PP\"])\n",
    "plt.figure(figsize = (10,7))\n",
    "sn.heatmap(df_cm, annot=True,fmt=\".3f\")"
   ]
  },
  {
   "cell_type": "code",
   "execution_count": null,
   "metadata": {},
   "outputs": [],
   "source": []
  },
  {
   "cell_type": "markdown",
   "metadata": {},
   "source": [
    "### [5.2.4] Applying KNN kd-tree on TFIDF W2V,<font color='red'> SET 4</font>"
   ]
  },
  {
   "cell_type": "code",
   "execution_count": 66,
   "metadata": {},
   "outputs": [],
   "source": [
    "# Please write all the code with proper documentation\n",
    "# Please write all the code with proper documentation\n",
    "# S = [\"abc def pqr\", \"def def def abc\", \"pqr pqr def\"]\n",
    "def TfidfW2Vtransform(preprocessed_reviews):\n",
    "    i=0\n",
    "    list_of_sentance=[]\n",
    "    for sentance in preprocessed_reviews:\n",
    "        list_of_sentance.append(sentance.split())\n",
    "        is_your_ram_gt_16g=False\n",
    "    want_to_use_google_w2v = False\n",
    "    want_to_train_w2v = True \n",
    "    if want_to_train_w2v:\n",
    "        # min_count = 5 considers only words that occured atleast 5 times\n",
    "        w2v_model=Word2Vec(list_of_sentance,min_count=5,size=50, workers=4)\n",
    "        #print(w2v_model.wv.most_similar('great'))\n",
    "        #print('='*50)\n",
    "        #print(w2v_model.wv.most_similar('worst'))\n",
    "    \n",
    "    \n",
    "    \n",
    "    w2v_words = list(w2v_model.wv.vocab)\n",
    "    model = TfidfVectorizer()\n",
    "    tf_idf_matrix = model.fit_transform(preprocessed_reviews)\n",
    "    # we are converting a dictionary with word as a key, and the idf as a value\n",
    "    dictionary = dict(zip(model.get_feature_names(), list(model.idf_)))\n",
    "    # TF-IDF weighted Word2Vec\n",
    "    tfidf_feat = model.get_feature_names() # tfidf words/col-names\n",
    "    # final_tf_idf is the sparse matrix with row= sentence, col=word and cell_val = tfidf\n",
    "\n",
    "    tfidf_sent_vectors = []; # the tfidf-w2v for each sentence/review is stored in this list\n",
    "    row=0;\n",
    "    for sent in tqdm(list_of_sentance): # for each review/sentence \n",
    "        sent_vec = np.zeros(50) # as word vectors are of zero length\n",
    "        weight_sum =0; # num of words with a valid vector in the sentence/review\n",
    "        for word in sent: # for each word in a review/sentence\n",
    "            if word in w2v_words and word in tfidf_feat:\n",
    "                vec = w2v_model.wv[word]\n",
    "    #             tf_idf = tf_idf_matrix[row, tfidf_feat.index(word)]\n",
    "                # to reduce the computation we are \n",
    "                # dictionary[word] = idf value of word in whole courpus\n",
    "                # sent.count(word) = tf valeus of word in this review\n",
    "                tf_idf = dictionary[word]*(sent.count(word)/len(sent))\n",
    "                sent_vec += (vec * tf_idf)\n",
    "                weight_sum += tf_idf\n",
    "        if weight_sum != 0:\n",
    "            sent_vec /= weight_sum\n",
    "        tfidf_sent_vectors.append(sent_vec)\n",
    "        row += 1\n",
    "    return tfidf_sent_vectors"
   ]
  },
  {
   "cell_type": "code",
   "execution_count": 67,
   "metadata": {},
   "outputs": [
    {
     "name": "stderr",
     "output_type": "stream",
     "text": [
      "100%|██████████| 11250/11250 [01:07<00:00, 166.98it/s]\n",
      "100%|██████████| 3750/3750 [00:13<00:00, 280.68it/s]\n",
      "100%|██████████| 15000/15000 [01:42<00:00, 146.69it/s]\n",
      "100%|██████████| 5000/5000 [00:20<00:00, 237.83it/s]\n"
     ]
    }
   ],
   "source": [
    "y=final['Score'][0:20000]\n",
    "X_1_u, X_test_u, y_1_u, y_test_u = train_test_split(preprocessed_reviews[0:20000], y, test_size=0.25, random_state=0)\n",
    "X_tr_u, X_cv_u, y_tr_u, y_cv_u = train_test_split(X_1_u, y_1_u, test_size=0.25)\n",
    "\n",
    "X_tr=TfidfW2Vtransform(X_tr_u)\n",
    "X_cv=TfidfW2Vtransform(X_cv_u)\n",
    "y_tr=y_tr_u\n",
    "y_cv=y_cv_u\n",
    "y_1=y_1_u \n",
    "y_test=y_test_u\n",
    "X_1=TfidfW2Vtransform(X_1_u)\n",
    "X_test=TfidfW2Vtransform(X_test_u)\n",
    "from sklearn.preprocessing import StandardScaler\n",
    "scaler = StandardScaler(with_mean=False)\n",
    "X_tr=scaler.fit_transform(X_tr)\n",
    "X_cv=scaler.fit_transform(X_cv)\n",
    "X_1=scaler.fit_transform(X_1)\n",
    "X_test=scaler.fit_transform(X_test)"
   ]
  },
  {
   "cell_type": "code",
   "execution_count": 68,
   "metadata": {},
   "outputs": [
    {
     "name": "stderr",
     "output_type": "stream",
     "text": [
      "100%|██████████| 19/19 [00:43<00:00,  2.51s/it]\n"
     ]
    }
   ],
   "source": [
    "alpha = [x for x in range(1, 20)]\n",
    "AUC_cv_array=[]\n",
    "AUC_train_array=[]\n",
    "for i in tqdm(alpha):\n",
    "    clf = neigh = KNeighborsClassifier(n_neighbors=i,algorithm='kd_tree',n_jobs=-1)\n",
    "    clf.fit(X_tr, y_tr)\n",
    "    predict_y = clf.predict_proba(X_cv)[:,1]\n",
    "    false_positive_rate, true_positive_rate, thresholds = roc_curve(y_cv,predict_y)\n",
    "    kiti = auc(false_positive_rate, true_positive_rate)\n",
    "    #calculating AUC score for train data\n",
    "    tpredict_y = clf.predict_proba(X_tr)[:,1]\n",
    "    tfalse_positive_rate, ttrue_positive_rate, tthresholds = roc_curve(y_tr,tpredict_y)\n",
    "    piti = auc(tfalse_positive_rate, ttrue_positive_rate)\n",
    "    \n",
    "    #plt.plot(false_positive_rate, true_positive_rate, color='darkorange', label='ROC curve (area = %0.2f)' % kiti)\n",
    "    AUC_cv_array.append(kiti)\n",
    "    AUC_train_array.append(piti)\n",
    "    #print('For values of alpha = ', i, \"The AUC is:\",kiti)\n"
   ]
  },
  {
   "cell_type": "code",
   "execution_count": 69,
   "metadata": {},
   "outputs": [
    {
     "data": {
      "text/plain": [
       "{0.49252750127352585: 0.997897151596253,\n",
       " 0.5183660204957343: 0.9480296400339852,\n",
       " 0.5642427799117941: 0.9243892619525838,\n",
       " 0.5630791100463977: 0.9099392419766514,\n",
       " 0.551768393843019: 0.9012848626389847,\n",
       " 0.5446235985479511: 0.8942072146543909,\n",
       " 0.5453078318395219: 0.887735673203847,\n",
       " 0.5397780336302599: 0.8840246026498195,\n",
       " 0.5377012400240478: 0.8810084258447625,\n",
       " 0.5310196754000707: 0.8768413818866904,\n",
       " 0.5280691971968664: 0.8740092269465052,\n",
       " 0.5240059614775653: 0.872210710180522,\n",
       " 0.5209839191552049: 0.8704435571686917,\n",
       " 0.51586959439924: 0.8684995284638217,\n",
       " 0.5196903152377936: 0.8665990437659831,\n",
       " 0.5136479515738943: 0.864943926848101,\n",
       " 0.511550649612894: 0.8642275310621064,\n",
       " 0.5171332245673455: 0.8629660411691277,\n",
       " 0.5150159879118307: 0.8616225132235147}"
      ]
     },
     "execution_count": 69,
     "metadata": {},
     "output_type": "execute_result"
    }
   ],
   "source": [
    "dict(zip(AUC_cv_array,AUC_train_array))"
   ]
  },
  {
   "cell_type": "code",
   "execution_count": 70,
   "metadata": {},
   "outputs": [
    {
     "data": {
      "text/plain": [
       "<matplotlib.legend.Legend at 0x284076dd668>"
      ]
     },
     "execution_count": 70,
     "metadata": {},
     "output_type": "execute_result"
    },
    {
     "data": {
      "image/png": "[encoded data removed]",
      "text/plain": [
       "<Figure size 432x288 with 1 Axes>"
      ]
     },
     "metadata": {},
     "output_type": "display_data"
    }
   ],
   "source": [
    "%matplotlib inline\n",
    "plt.plot(range(1, 20),AUC_cv_array,color='darkorange',label='validation')\n",
    "plt.plot(range(1, 20),AUC_train_array,color='green',label='train')\n",
    "plt.xlabel('K values')\n",
    "plt.ylabel('AUC scores')\n",
    "plt.legend()"
   ]
  },
  {
   "cell_type": "code",
   "execution_count": null,
   "metadata": {},
   "outputs": [],
   "source": []
  },
  {
   "cell_type": "code",
   "execution_count": null,
   "metadata": {},
   "outputs": [],
   "source": []
  },
  {
   "cell_type": "code",
   "execution_count": 71,
   "metadata": {},
   "outputs": [
    {
     "name": "stdout",
     "output_type": "stream",
     "text": [
      "best K is 3\n",
      "confusion matrix\n"
     ]
    },
    {
     "data": {
      "text/plain": [
       "<matplotlib.axes._subplots.AxesSubplot at 0x28417fdea90>"
      ]
     },
     "execution_count": 71,
     "metadata": {},
     "output_type": "execute_result"
    },
    {
     "data": {
      "image/png": "[encoded data removed]",
      "text/plain": [
       "<Figure size 432x288 with 1 Axes>"
      ]
     },
     "metadata": {},
     "output_type": "display_data"
    },
    {
     "data": {
      "image/png": "[encoded data removed]",
      "text/plain": [
       "<Figure size 720x504 with 2 Axes>"
      ]
     },
     "metadata": {},
     "output_type": "display_data"
    }
   ],
   "source": [
    "k=[0]*20\n",
    "sam=0\n",
    "for i in range(0,19):\n",
    "    if(AUC_cv_array[i]==max(AUC_cv_array)):\n",
    "        k[sam]=i+1\n",
    "        sam=sam+1\n",
    "        print(\"best K is\",i+1)\n",
    "#sam[0] is the best k\n",
    "kbest=k[0]\n",
    "clf = neigh = KNeighborsClassifier(n_neighbors=kbest,algorithm='kd_tree',n_jobs=-1)\n",
    "clf.fit(X_1, y_1)\n",
    "predict_y = clf.predict_proba(X_test)[:,1]\n",
    "false_positive_rate, true_positive_rate, thresholds = roc_curve(y_test,predict_y)\n",
    "plt.plot(false_positive_rate,true_positive_rate,color='orange',label='test')\n",
    "tpredict_y = clf.predict_proba(X_1)[:,1]\n",
    "tfalse_positive_rate, ttrue_positive_rate, tthresholds = roc_curve(y_1,tpredict_y)\n",
    "plt.plot(tfalse_positive_rate,ttrue_positive_rate,color='green',label='train')\n",
    "plt.legend()\n",
    "print(\"confusion matrix\")\n",
    "import seaborn as sn\n",
    "p_y=clf.predict(X_test)\n",
    "mane=confusion_matrix(y_test,p_y)\n",
    "df_cm = pd.DataFrame(mane, index = [\"AN\",\"AP\"],columns = [\"PN\",\"PP\"])\n",
    "plt.figure(figsize = (10,7))\n",
    "sn.heatmap(df_cm, annot=True,fmt=\".3f\")"
   ]
  },
  {
   "cell_type": "code",
   "execution_count": null,
   "metadata": {},
   "outputs": [],
   "source": []
  },
  {
   "cell_type": "markdown",
   "metadata": {},
   "source": [
    "# [6] Conclusions"
   ]
  },
  {
   "cell_type": "code",
   "execution_count": 73,
   "metadata": {},
   "outputs": [],
   "source": [
    "from prettytable import PrettyTable\n",
    "import random\n",
    "\n",
    "serviceID = []\n",
    "services = []\n",
    "price = []\n",
    "x = PrettyTable()\n",
    "\n",
    "x.add_column(\"Vectorizer\",['BOW','Tf-idf','avg-W2V','tf-idf-W2V','BOW','Tf-idf','avg-W2V','tf-idf-W2V'])\n",
    "x.add_column(\"Model\", ['brute-force','brute-force','brute-force','brute-force','kd-tree','kd-tree','kd-tree','kd-tree'])\n",
    "x.add_column(\"Hyper Parameter\", [3,1,19,19,13,5,9,3])\n",
    "x.add_column(\"AUC\", [0.55,0.52,0.7,0.67,0.77,0.62,0.59,0.56])\n"
   ]
  },
  {
   "cell_type": "code",
   "execution_count": 74,
   "metadata": {},
   "outputs": [
    {
     "name": "stdout",
     "output_type": "stream",
     "text": [
      "+------------+-------------+-----------------+------+\n",
      "| Vectorizer |    Model    | Hyper Parameter | AUC  |\n",
      "+------------+-------------+-----------------+------+\n",
      "|    BOW     | brute-force |        3        | 0.55 |\n",
      "|   Tf-idf   | brute-force |        1        | 0.52 |\n",
      "|  avg-W2V   | brute-force |        19       | 0.7  |\n",
      "| tf-idf-W2V | brute-force |        19       | 0.67 |\n",
      "|    BOW     |   kd-tree   |        13       | 0.77 |\n",
      "|   Tf-idf   |   kd-tree   |        5        | 0.62 |\n",
      "|  avg-W2V   |   kd-tree   |        9        | 0.59 |\n",
      "| tf-idf-W2V |   kd-tree   |        3        | 0.56 |\n",
      "+------------+-------------+-----------------+------+\n"
     ]
    }
   ],
   "source": [
    "print(x)"
   ]
  },
  {
   "cell_type": "code",
   "execution_count": null,
   "metadata": {},
   "outputs": [],
   "source": []
  },
  {
   "cell_type": "code",
   "execution_count": null,
   "metadata": {},
   "outputs": [],
   "source": []
  },
  {
   "cell_type": "code",
   "execution_count": null,
   "metadata": {},
   "outputs": [],
   "source": []
  },
  {
   "cell_type": "code",
   "execution_count": null,
   "metadata": {},
   "outputs": [],
   "source": []
  }
 ],
 "metadata": {
  "kernelspec": {
   "display_name": "Python 3",
   "language": "python",
   "name": "python3"
  },
  "language_info": {
   "codemirror_mode": {
    "name": "ipython",
    "version": 3
   },
   "file_extension": ".py",
   "mimetype": "text/x-python",
   "name": "python",
   "nbconvert_exporter": "python",
   "pygments_lexer": "ipython3",
   "version": "3.6.5"
  }
 },
 "nbformat": 4,
 "nbformat_minor": 2
}
