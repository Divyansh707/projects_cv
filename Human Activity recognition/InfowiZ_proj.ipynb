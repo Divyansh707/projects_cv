{
 "cells": [
  {
   "cell_type": "code",
   "execution_count": 1,
   "metadata": {},
   "outputs": [],
   "source": [
    "import numpy as np\n",
    "import pandas as pd\n",
    "import matplotlib.pyplot as plt\n",
    "import seaborn as sns\n",
    "from tqdm import tqdm"
   ]
  },
  {
   "cell_type": "code",
   "execution_count": 2,
   "metadata": {},
   "outputs": [
    {
     "name": "stderr",
     "output_type": "stream",
     "text": [
      "100%|██████████| 561/561 [00:00<00:00, 563324.05it/s]\n"
     ]
    }
   ],
   "source": [
    "feature_heading = list()\n",
    "with open('C:\\\\Users\\\\DIVYANSH SHARMA\\\\Desktop\\\\HumanActivityRecognition\\\\HAR\\\\UCI_HAR_Dataset\\\\features.txt') as f:\n",
    "    for line in tqdm(f.readlines()):\n",
    "        #print(line)\n",
    "        feature_heading.append(line.split()[1])\n",
    "        \n"
   ]
  },
  {
   "cell_type": "code",
   "execution_count": 3,
   "metadata": {},
   "outputs": [
    {
     "data": {
      "text/plain": [
       "561"
      ]
     },
     "execution_count": 3,
     "metadata": {},
     "output_type": "execute_result"
    }
   ],
   "source": [
    "len(feature_heading)"
   ]
  },
  {
   "cell_type": "code",
   "execution_count": 4,
   "metadata": {},
   "outputs": [
    {
     "name": "stderr",
     "output_type": "stream",
     "text": [
      "C:\\Users\\DIVYANSH SHARMA\\Anaconda3\\lib\\site-packages\\pandas\\io\\parsers.py:678: UserWarning: Duplicate names specified. This will raise an error in the future.\n",
      "  return _read(filepath_or_buffer, kwds)\n"
     ]
    },
    {
     "data": {
      "text/html": [
       "<div>\n",
       "<style scoped>\n",
       "    .dataframe tbody tr th:only-of-type {\n",
       "        vertical-align: middle;\n",
       "    }\n",
       "\n",
       "    .dataframe tbody tr th {\n",
       "        vertical-align: top;\n",
       "    }\n",
       "\n",
       "    .dataframe thead th {\n",
       "        text-align: right;\n",
       "    }\n",
       "</style>\n",
       "<table border=\"1\" class=\"dataframe\">\n",
       "  <thead>\n",
       "    <tr style=\"text-align: right;\">\n",
       "      <th></th>\n",
       "      <th>tBodyAcc-mean()-X</th>\n",
       "      <th>tBodyAcc-mean()-Y</th>\n",
       "      <th>tBodyAcc-mean()-Z</th>\n",
       "      <th>tBodyAcc-std()-X</th>\n",
       "      <th>tBodyAcc-std()-Y</th>\n",
       "      <th>tBodyAcc-std()-Z</th>\n",
       "      <th>tBodyAcc-mad()-X</th>\n",
       "      <th>tBodyAcc-mad()-Y</th>\n",
       "      <th>tBodyAcc-mad()-Z</th>\n",
       "      <th>tBodyAcc-max()-X</th>\n",
       "      <th>...</th>\n",
       "      <th>angle(tBodyAccMean,gravity)</th>\n",
       "      <th>angle(tBodyAccJerkMean),gravityMean)</th>\n",
       "      <th>angle(tBodyGyroMean,gravityMean)</th>\n",
       "      <th>angle(tBodyGyroJerkMean,gravityMean)</th>\n",
       "      <th>angle(X,gravityMean)</th>\n",
       "      <th>angle(Y,gravityMean)</th>\n",
       "      <th>angle(Z,gravityMean)</th>\n",
       "      <th>subject</th>\n",
       "      <th>activity_properties</th>\n",
       "      <th>label</th>\n",
       "    </tr>\n",
       "  </thead>\n",
       "  <tbody>\n",
       "    <tr>\n",
       "      <th>2258</th>\n",
       "      <td>0.27779</td>\n",
       "      <td>-0.018174</td>\n",
       "      <td>-0.109416</td>\n",
       "      <td>-0.991662</td>\n",
       "      <td>-0.960904</td>\n",
       "      <td>-0.956875</td>\n",
       "      <td>-0.992986</td>\n",
       "      <td>-0.96162</td>\n",
       "      <td>-0.960029</td>\n",
       "      <td>-0.930678</td>\n",
       "      <td>...</td>\n",
       "      <td>-0.007796</td>\n",
       "      <td>0.347876</td>\n",
       "      <td>0.219911</td>\n",
       "      <td>0.254244</td>\n",
       "      <td>-0.923064</td>\n",
       "      <td>0.095326</td>\n",
       "      <td>-0.039483</td>\n",
       "      <td>14</td>\n",
       "      <td>4</td>\n",
       "      <td>sitting</td>\n",
       "    </tr>\n",
       "  </tbody>\n",
       "</table>\n",
       "<p>1 rows × 564 columns</p>\n",
       "</div>"
      ],
      "text/plain": [
       "      tBodyAcc-mean()-X  tBodyAcc-mean()-Y  tBodyAcc-mean()-Z  \\\n",
       "2258            0.27779          -0.018174          -0.109416   \n",
       "\n",
       "      tBodyAcc-std()-X  tBodyAcc-std()-Y  tBodyAcc-std()-Z  tBodyAcc-mad()-X  \\\n",
       "2258         -0.991662         -0.960904         -0.956875         -0.992986   \n",
       "\n",
       "      tBodyAcc-mad()-Y  tBodyAcc-mad()-Z  tBodyAcc-max()-X   ...     \\\n",
       "2258          -0.96162         -0.960029         -0.930678   ...      \n",
       "\n",
       "      angle(tBodyAccMean,gravity)  angle(tBodyAccJerkMean),gravityMean)  \\\n",
       "2258                    -0.007796                              0.347876   \n",
       "\n",
       "      angle(tBodyGyroMean,gravityMean)  angle(tBodyGyroJerkMean,gravityMean)  \\\n",
       "2258                          0.219911                              0.254244   \n",
       "\n",
       "      angle(X,gravityMean)  angle(Y,gravityMean)  angle(Z,gravityMean)  \\\n",
       "2258             -0.923064              0.095326             -0.039483   \n",
       "\n",
       "      subject  activity_properties    label  \n",
       "2258       14                    4  sitting  \n",
       "\n",
       "[1 rows x 564 columns]"
      ]
     },
     "execution_count": 4,
     "metadata": {},
     "output_type": "execute_result"
    }
   ],
   "source": [
    "X_train = pd.read_csv('C:\\\\Users\\\\DIVYANSH SHARMA\\\\Desktop\\\\HumanActivityRecognition\\\\HAR\\\\UCI_HAR_dataset\\\\train\\\\X_train.txt', delim_whitespace=True, header=None, names=feature_heading)\n",
    "X_train['subject'] = pd.read_csv('C:\\\\Users\\\\DIVYANSH SHARMA\\\\Desktop\\\\HumanActivityRecognition\\\\HAR\\\\UCI_HAR_dataset\\\\train\\\\subject_train.txt', header=None, squeeze=True)\n",
    "\n",
    "y_train = pd.read_csv('C:\\\\Users\\\\DIVYANSH SHARMA\\\\Desktop\\\\HumanActivityRecognition\\\\HAR\\\\UCI_HAR_dataset\\\\train\\\\y_train.txt', names=['Activity'], squeeze=True)\n",
    "labels = y_train.map({1: 'walking', 2:'upstairs',3:'downstairs',4:'sitting', 5:'standing',6:'laying'})\n",
    "sample_train = X_train\n",
    "sample_train['activity_properties'] = y_train\n",
    "sample_train['label'] = labels\n",
    "sample_train.sample()"
   ]
  },
  {
   "cell_type": "code",
   "execution_count": 5,
   "metadata": {},
   "outputs": [
    {
     "data": {
      "text/plain": [
       "(7352, 564)"
      ]
     },
     "execution_count": 5,
     "metadata": {},
     "output_type": "execute_result"
    }
   ],
   "source": [
    "sample_train.shape"
   ]
  },
  {
   "cell_type": "code",
   "execution_count": null,
   "metadata": {},
   "outputs": [],
   "source": []
  },
  {
   "cell_type": "code",
   "execution_count": 6,
   "metadata": {},
   "outputs": [
    {
     "name": "stderr",
     "output_type": "stream",
     "text": [
      "C:\\Users\\DIVYANSH SHARMA\\Anaconda3\\lib\\site-packages\\pandas\\io\\parsers.py:678: UserWarning: Duplicate names specified. This will raise an error in the future.\n",
      "  return _read(filepath_or_buffer, kwds)\n"
     ]
    },
    {
     "data": {
      "text/html": [
       "<div>\n",
       "<style scoped>\n",
       "    .dataframe tbody tr th:only-of-type {\n",
       "        vertical-align: middle;\n",
       "    }\n",
       "\n",
       "    .dataframe tbody tr th {\n",
       "        vertical-align: top;\n",
       "    }\n",
       "\n",
       "    .dataframe thead th {\n",
       "        text-align: right;\n",
       "    }\n",
       "</style>\n",
       "<table border=\"1\" class=\"dataframe\">\n",
       "  <thead>\n",
       "    <tr style=\"text-align: right;\">\n",
       "      <th></th>\n",
       "      <th>tBodyAcc-mean()-X</th>\n",
       "      <th>tBodyAcc-mean()-Y</th>\n",
       "      <th>tBodyAcc-mean()-Z</th>\n",
       "      <th>tBodyAcc-std()-X</th>\n",
       "      <th>tBodyAcc-std()-Y</th>\n",
       "      <th>tBodyAcc-std()-Z</th>\n",
       "      <th>tBodyAcc-mad()-X</th>\n",
       "      <th>tBodyAcc-mad()-Y</th>\n",
       "      <th>tBodyAcc-mad()-Z</th>\n",
       "      <th>tBodyAcc-max()-X</th>\n",
       "      <th>...</th>\n",
       "      <th>angle(tBodyAccMean,gravity)</th>\n",
       "      <th>angle(tBodyAccJerkMean),gravityMean)</th>\n",
       "      <th>angle(tBodyGyroMean,gravityMean)</th>\n",
       "      <th>angle(tBodyGyroJerkMean,gravityMean)</th>\n",
       "      <th>angle(X,gravityMean)</th>\n",
       "      <th>angle(Y,gravityMean)</th>\n",
       "      <th>angle(Z,gravityMean)</th>\n",
       "      <th>subject</th>\n",
       "      <th>activity_properties</th>\n",
       "      <th>label</th>\n",
       "    </tr>\n",
       "  </thead>\n",
       "  <tbody>\n",
       "    <tr>\n",
       "      <th>1501</th>\n",
       "      <td>0.256421</td>\n",
       "      <td>-0.034675</td>\n",
       "      <td>-0.119232</td>\n",
       "      <td>-0.213404</td>\n",
       "      <td>0.093596</td>\n",
       "      <td>-0.47523</td>\n",
       "      <td>-0.2493</td>\n",
       "      <td>0.001226</td>\n",
       "      <td>-0.446711</td>\n",
       "      <td>-0.093649</td>\n",
       "      <td>...</td>\n",
       "      <td>0.131182</td>\n",
       "      <td>-0.128775</td>\n",
       "      <td>0.648156</td>\n",
       "      <td>0.937414</td>\n",
       "      <td>-0.759612</td>\n",
       "      <td>0.264118</td>\n",
       "      <td>0.010724</td>\n",
       "      <td>12</td>\n",
       "      <td>2</td>\n",
       "      <td>upstairs</td>\n",
       "    </tr>\n",
       "  </tbody>\n",
       "</table>\n",
       "<p>1 rows × 564 columns</p>\n",
       "</div>"
      ],
      "text/plain": [
       "      tBodyAcc-mean()-X  tBodyAcc-mean()-Y  tBodyAcc-mean()-Z  \\\n",
       "1501           0.256421          -0.034675          -0.119232   \n",
       "\n",
       "      tBodyAcc-std()-X  tBodyAcc-std()-Y  tBodyAcc-std()-Z  tBodyAcc-mad()-X  \\\n",
       "1501         -0.213404          0.093596          -0.47523           -0.2493   \n",
       "\n",
       "      tBodyAcc-mad()-Y  tBodyAcc-mad()-Z  tBodyAcc-max()-X    ...     \\\n",
       "1501          0.001226         -0.446711         -0.093649    ...      \n",
       "\n",
       "      angle(tBodyAccMean,gravity)  angle(tBodyAccJerkMean),gravityMean)  \\\n",
       "1501                     0.131182                             -0.128775   \n",
       "\n",
       "      angle(tBodyGyroMean,gravityMean)  angle(tBodyGyroJerkMean,gravityMean)  \\\n",
       "1501                          0.648156                              0.937414   \n",
       "\n",
       "      angle(X,gravityMean)  angle(Y,gravityMean)  angle(Z,gravityMean)  \\\n",
       "1501             -0.759612              0.264118              0.010724   \n",
       "\n",
       "      subject  activity_properties     label  \n",
       "1501       12                    2  upstairs  \n",
       "\n",
       "[1 rows x 564 columns]"
      ]
     },
     "execution_count": 6,
     "metadata": {},
     "output_type": "execute_result"
    }
   ],
   "source": [
    "# get the data from txt files to pandas dataffame\n",
    "X_test = pd.read_csv('C:\\\\Users\\\\DIVYANSH SHARMA\\\\Desktop\\\\HumanActivityRecognition\\\\HAR\\\\UCI_HAR_dataset\\\\test\\\\X_test.txt', delim_whitespace=True, header=None, names=feature_heading)\n",
    "\n",
    "# add subject column to the dataframe\n",
    "X_test['subject'] = pd.read_csv('C:\\\\Users\\\\DIVYANSH SHARMA\\\\Desktop\\\\HumanActivityRecognition\\\\HAR\\\\UCI_HAR_dataset\\\\test\\\\subject_test.txt', header=None, squeeze=True)\n",
    "\n",
    "# get y labels from the txt file\n",
    "y_test = pd.read_csv('C:\\\\Users\\\\DIVYANSH SHARMA\\\\Desktop\\\\HumanActivityRecognition\\\\HAR\\\\UCI_HAR_dataset\\\\test\\\\y_test.txt', names=['Activity'], squeeze=True)\n",
    "test_labels = y_test.map({1: 'walking', 2:'upstairs',3:'downstairs',4:'sitting', 5:'standing',6:'laying'})\n",
    "\n",
    "\n",
    "# put all columns in a single dataframe\n",
    "sample_test = X_test\n",
    "sample_test['activity_properties'] = y_test\n",
    "sample_test['label'] = test_labels\n",
    "sample_test.sample()"
   ]
  },
  {
   "cell_type": "code",
   "execution_count": 7,
   "metadata": {},
   "outputs": [
    {
     "data": {
      "text/plain": [
       "(2947, 564)"
      ]
     },
     "execution_count": 7,
     "metadata": {},
     "output_type": "execute_result"
    }
   ],
   "source": [
    "sample_test.shape"
   ]
  },
  {
   "cell_type": "code",
   "execution_count": 8,
   "metadata": {},
   "outputs": [
    {
     "name": "stdout",
     "output_type": "stream",
     "text": [
      "0 0\n"
     ]
    }
   ],
   "source": [
    "print(sum(sample_train.duplicated()),sum(sample_test.duplicated()))"
   ]
  },
  {
   "cell_type": "code",
   "execution_count": null,
   "metadata": {},
   "outputs": [],
   "source": []
  },
  {
   "cell_type": "code",
   "execution_count": null,
   "metadata": {},
   "outputs": [],
   "source": []
  },
  {
   "cell_type": "code",
   "execution_count": null,
   "metadata": {},
   "outputs": [],
   "source": []
  },
  {
   "cell_type": "code",
   "execution_count": 9,
   "metadata": {
    "scrolled": true
   },
   "outputs": [
    {
     "data": {
      "image/png": "[encoded data removed]",
      "text/plain": [
       "<Figure size 2160x1080 with 1 Axes>"
      ]
     },
     "metadata": {
      "needs_background": "light"
     },
     "output_type": "display_data"
    }
   ],
   "source": [
    "plt.figure(figsize=(30,15))\n",
    "sns.countplot(x='subject',hue='label', data = sample_train,palette=[\"C3\",\"C2\",\"C1\",\"C0\",\"C4\",\"k\"])\n",
    "plt.show()\n"
   ]
  },
  {
   "cell_type": "code",
   "execution_count": 10,
   "metadata": {},
   "outputs": [],
   "source": [
    "\n",
    "sample_train.columns = sample_train.columns.str.replace('[()]','').str.replace('[-]', '').str.replace('[,]','')\n",
    "\n",
    "sample_test.columns=sample_train.columns"
   ]
  },
  {
   "cell_type": "code",
   "execution_count": 11,
   "metadata": {},
   "outputs": [
    {
     "data": {
      "text/plain": [
       "Index(['tBodyAccmeanX', 'tBodyAccmeanY', 'tBodyAccmeanZ', 'tBodyAccstdX',\n",
       "       'tBodyAccstdY', 'tBodyAccstdZ', 'tBodyAccmadX', 'tBodyAccmadY',\n",
       "       'tBodyAccmadZ', 'tBodyAccmaxX',\n",
       "       ...\n",
       "       'angletBodyAccMeangravity', 'angletBodyAccJerkMeangravityMean',\n",
       "       'angletBodyGyroMeangravityMean', 'angletBodyGyroJerkMeangravityMean',\n",
       "       'angleXgravityMean', 'angleYgravityMean', 'angleZgravityMean',\n",
       "       'subject', 'activity_properties', 'label'],\n",
       "      dtype='object', length=564)"
      ]
     },
     "execution_count": 11,
     "metadata": {},
     "output_type": "execute_result"
    }
   ],
   "source": [
    "sample_test.columns"
   ]
  },
  {
   "cell_type": "code",
   "execution_count": 12,
   "metadata": {},
   "outputs": [
    {
     "data": {
      "text/plain": [
       "Index(['tBodyAccmeanX', 'tBodyAccmeanY', 'tBodyAccmeanZ', 'tBodyAccstdX',\n",
       "       'tBodyAccstdY', 'tBodyAccstdZ', 'tBodyAccmadX', 'tBodyAccmadY',\n",
       "       'tBodyAccmadZ', 'tBodyAccmaxX',\n",
       "       ...\n",
       "       'angletBodyAccMeangravity', 'angletBodyAccJerkMeangravityMean',\n",
       "       'angletBodyGyroMeangravityMean', 'angletBodyGyroJerkMeangravityMean',\n",
       "       'angleXgravityMean', 'angleYgravityMean', 'angleZgravityMean',\n",
       "       'subject', 'activity_properties', 'label'],\n",
       "      dtype='object', length=564)"
      ]
     },
     "execution_count": 12,
     "metadata": {},
     "output_type": "execute_result"
    }
   ],
   "source": [
    "sample_train.columns"
   ]
  },
  {
   "cell_type": "code",
   "execution_count": 13,
   "metadata": {},
   "outputs": [],
   "source": [
    "sample_train.to_csv('C:\\\\Users\\\\DIVYANSH SHARMA\\\\Desktop\\\\train.csv', index=False)\n",
    "sample_test.to_csv('C:\\\\Users\\\\DIVYANSH SHARMA\\\\Desktop\\\\test.csv', index=False)"
   ]
  },
  {
   "cell_type": "code",
   "execution_count": 14,
   "metadata": {},
   "outputs": [
    {
     "name": "stdout",
     "output_type": "stream",
     "text": [
      "(7352, 564) (2947, 564)\n"
     ]
    }
   ],
   "source": [
    "print(sample_train.shape, sample_test.shape)\n"
   ]
  },
  {
   "cell_type": "code",
   "execution_count": null,
   "metadata": {},
   "outputs": [],
   "source": []
  },
  {
   "cell_type": "code",
   "execution_count": null,
   "metadata": {},
   "outputs": [],
   "source": []
  },
  {
   "cell_type": "code",
   "execution_count": null,
   "metadata": {},
   "outputs": [],
   "source": []
  },
  {
   "cell_type": "code",
   "execution_count": null,
   "metadata": {},
   "outputs": [],
   "source": []
  },
  {
   "cell_type": "code",
   "execution_count": 15,
   "metadata": {},
   "outputs": [],
   "source": [
    "sample_train=pd.read_csv(\"C:\\\\Users\\\\DIVYANSH SHARMA\\\\Desktop\\\\train.csv\")"
   ]
  },
  {
   "cell_type": "code",
   "execution_count": 16,
   "metadata": {},
   "outputs": [],
   "source": [
    "sample_test=pd.read_csv(\"C:\\\\Users\\\\DIVYANSH SHARMA\\\\Desktop\\\\test.csv\")"
   ]
  },
  {
   "cell_type": "code",
   "execution_count": 17,
   "metadata": {},
   "outputs": [
    {
     "data": {
      "text/plain": [
       "<bound method NDFrame.head of       tBodyAccmeanX  tBodyAccmeanY  tBodyAccmeanZ  tBodyAccstdX  tBodyAccstdY  \\\n",
       "0          0.288585      -0.020294      -0.132905     -0.995279     -0.983111   \n",
       "1          0.278419      -0.016411      -0.123520     -0.998245     -0.975300   \n",
       "2          0.279653      -0.019467      -0.113462     -0.995380     -0.967187   \n",
       "3          0.279174      -0.026201      -0.123283     -0.996091     -0.983403   \n",
       "4          0.276629      -0.016570      -0.115362     -0.998139     -0.980817   \n",
       "5          0.277199      -0.010098      -0.105137     -0.997335     -0.990487   \n",
       "6          0.279454      -0.019641      -0.110022     -0.996921     -0.967186   \n",
       "7          0.277432      -0.030488      -0.125360     -0.996559     -0.966728   \n",
       "8          0.277293      -0.021751      -0.120751     -0.997328     -0.961245   \n",
       "9          0.280586      -0.009960      -0.106065     -0.994803     -0.972758   \n",
       "10         0.276880      -0.012722      -0.103438     -0.994815     -0.973077   \n",
       "11         0.276228      -0.021441      -0.108202     -0.998246     -0.987214   \n",
       "12         0.278457      -0.020415      -0.112732     -0.999135     -0.984680   \n",
       "13         0.277175      -0.014713      -0.106756     -0.999188     -0.990526   \n",
       "14         0.297946       0.027094      -0.061668     -0.988641     -0.816699   \n",
       "15         0.279203      -0.023020      -0.122080     -0.996839     -0.974848   \n",
       "16         0.279038      -0.014800      -0.116849     -0.996941     -0.981866   \n",
       "17         0.280135      -0.013917      -0.106370     -0.997695     -0.987516   \n",
       "18         0.277731      -0.018211      -0.109188     -0.997491     -0.993222   \n",
       "19         0.275568      -0.016980      -0.111429     -0.997811     -0.990522   \n",
       "20         0.277562      -0.014318      -0.107877     -0.997904     -0.994311   \n",
       "21         0.277152      -0.017983      -0.106601     -0.997763     -0.989957   \n",
       "22         0.275676      -0.021264      -0.110801     -0.997862     -0.990091   \n",
       "23         0.279200      -0.017714      -0.109161     -0.998389     -0.987308   \n",
       "24         0.281715      -0.011911      -0.102875     -0.998534     -0.988489   \n",
       "25         0.278993      -0.014531      -0.106596     -0.998060     -0.986070   \n",
       "26         0.275734      -0.018019      -0.106776     -0.999255     -0.993669   \n",
       "27         0.144504       0.189263       0.062769     -0.904300     -0.181937   \n",
       "28         0.287252      -0.037455      -0.145974     -0.982915     -0.891605   \n",
       "29         0.279998      -0.019484      -0.105724     -0.992818     -0.940350   \n",
       "...             ...            ...            ...           ...           ...   \n",
       "7322       0.087902      -0.118993      -0.052787     -0.217817     -0.148752   \n",
       "7323       0.216468      -0.068214      -0.119832     -0.178207     -0.143102   \n",
       "7324       0.303490      -0.069855      -0.091222     -0.190855     -0.133971   \n",
       "7325       0.355975      -0.046314      -0.087425     -0.226858      0.070517   \n",
       "7326       0.341562      -0.006308      -0.124693     -0.226657      0.016989   \n",
       "7327       0.194867       0.005240      -0.148642     -0.248229     -0.109560   \n",
       "7328       0.193572       0.012456      -0.173717     -0.285951     -0.036560   \n",
       "7329       0.354660      -0.010554      -0.196504     -0.284294     -0.046606   \n",
       "7330       0.389674      -0.015067      -0.166583     -0.297800     -0.120023   \n",
       "7331       0.306127      -0.025759      -0.103981     -0.286574     -0.117015   \n",
       "7332       0.188898      -0.094342      -0.062392     -0.346270     -0.235424   \n",
       "7333       0.215789      -0.022920      -0.236713     -0.385755     -0.189566   \n",
       "7334       0.407780      -0.053721      -0.160671     -0.321271     -0.089818   \n",
       "7335       0.260279       0.000813      -0.103406     -0.330964      0.018713   \n",
       "7336       0.128064      -0.027657      -0.088319     -0.280320     -0.009818   \n",
       "7337       0.278414      -0.070497      -0.050016     -0.228968     -0.151583   \n",
       "7338       0.344757      -0.045966      -0.011919     -0.272351     -0.032724   \n",
       "7339       0.326647       0.012036      -0.091359     -0.284641     -0.141369   \n",
       "7340       0.223283       0.013911      -0.214152     -0.314130     -0.287192   \n",
       "7341       0.363768      -0.011264      -0.275724     -0.352297     -0.235648   \n",
       "7342       0.276137      -0.108046      -0.056677     -0.230796     -0.140521   \n",
       "7343       0.294230      -0.039968      -0.143397     -0.230396     -0.133669   \n",
       "7344       0.221206      -0.036390      -0.167651     -0.176954     -0.050147   \n",
       "7345       0.207861       0.063423      -0.220567     -0.244758     -0.032159   \n",
       "7346       0.237966      -0.001088      -0.148326     -0.218949     -0.012927   \n",
       "7347       0.299665      -0.057193      -0.181233     -0.195387      0.039905   \n",
       "7348       0.273853      -0.007749      -0.147468     -0.235309      0.004816   \n",
       "7349       0.273387      -0.017011      -0.045022     -0.218218     -0.103822   \n",
       "7350       0.289654      -0.018843      -0.158281     -0.219139     -0.111412   \n",
       "7351       0.351503      -0.012423      -0.203867     -0.269270     -0.087212   \n",
       "\n",
       "      tBodyAccstdZ  tBodyAccmadX  tBodyAccmadY  tBodyAccmadZ  tBodyAccmaxX  \\\n",
       "0        -0.913526     -0.995112     -0.983185     -0.923527     -0.934724   \n",
       "1        -0.960322     -0.998807     -0.974914     -0.957686     -0.943068   \n",
       "2        -0.978944     -0.996520     -0.963668     -0.977469     -0.938692   \n",
       "3        -0.990675     -0.997099     -0.982750     -0.989302     -0.938692   \n",
       "4        -0.990482     -0.998321     -0.979672     -0.990441     -0.942469   \n",
       "5        -0.995420     -0.997627     -0.990218     -0.995549     -0.942469   \n",
       "6        -0.983118     -0.997003     -0.966097     -0.983116     -0.940987   \n",
       "7        -0.981585     -0.996485     -0.966313     -0.982982     -0.940987   \n",
       "8        -0.983672     -0.997596     -0.957236     -0.984379     -0.940598   \n",
       "9        -0.986244     -0.995405     -0.973663     -0.985642     -0.940028   \n",
       "10       -0.985357     -0.995509     -0.973948     -0.985172     -0.940028   \n",
       "11       -0.992727     -0.998251     -0.985997     -0.993182     -0.943906   \n",
       "12       -0.996274     -0.999077     -0.982937     -0.996410     -0.943906   \n",
       "13       -0.993365     -0.999211     -0.990687     -0.992168     -0.943323   \n",
       "14       -0.901907     -0.988958     -0.794280     -0.888015     -0.925977   \n",
       "15       -0.983386     -0.997094     -0.973332     -0.984065     -0.941716   \n",
       "16       -0.982577     -0.997220     -0.981620     -0.981336     -0.941716   \n",
       "17       -0.990407     -0.998014     -0.987954     -0.992190     -0.942076   \n",
       "18       -0.996128     -0.997903     -0.992711     -0.996492     -0.944870   \n",
       "19       -0.997621     -0.998205     -0.989470     -0.997193     -0.945662   \n",
       "20       -0.995952     -0.998365     -0.993604     -0.995595     -0.941472   \n",
       "21       -0.996586     -0.998291     -0.989669     -0.996700     -0.941472   \n",
       "22       -0.994593     -0.998333     -0.989473     -0.994485     -0.944567   \n",
       "23       -0.990832     -0.998869     -0.986771     -0.989637     -0.943675   \n",
       "24       -0.993184     -0.998674     -0.988544     -0.993287     -0.942559   \n",
       "25       -0.993424     -0.998059     -0.985192     -0.995018     -0.942559   \n",
       "26       -0.994189     -0.999407     -0.993620     -0.993583     -0.942890   \n",
       "27       -0.443151     -0.901100     -0.110813     -0.400599     -0.931896   \n",
       "28       -0.941438     -0.984418     -0.891373     -0.933361     -0.931896   \n",
       "29       -0.981493     -0.993092     -0.936927     -0.980669     -0.935389   \n",
       "...            ...           ...           ...           ...           ...   \n",
       "7322      0.079020     -0.294967     -0.165066      0.137718      0.070103   \n",
       "7323      0.094924     -0.253348     -0.150898      0.127232      0.070103   \n",
       "7324      0.134401     -0.258501     -0.166387      0.206073      0.167651   \n",
       "7325      0.134833     -0.303955      0.067517      0.222132      0.167651   \n",
       "7326      0.139081     -0.311331      0.026829      0.217043      0.094889   \n",
       "7327      0.085123     -0.341040     -0.106569      0.089631      0.094889   \n",
       "7328     -0.016738     -0.397237     -0.057205     -0.058301      0.069333   \n",
       "7329      0.062199     -0.377721     -0.083018      0.048479      0.069333   \n",
       "7330      0.130441     -0.366625     -0.116256      0.166855      0.149651   \n",
       "7331      0.098379     -0.368546     -0.095335      0.165982      0.264542   \n",
       "7332      0.197720     -0.407151     -0.247231      0.271268     -0.104526   \n",
       "7333      0.017584     -0.454614     -0.232688     -0.001215      0.013823   \n",
       "7334      0.173128     -0.394279     -0.095346      0.205751      0.013823   \n",
       "7335      0.208689     -0.445056      0.002973      0.333803      0.185029   \n",
       "7336      0.118190     -0.419705     -0.059985      0.214129      0.185029   \n",
       "7337      0.225156     -0.306094     -0.142802      0.288118      0.021923   \n",
       "7338      0.221100     -0.357972     -0.040113      0.290947     -0.031458   \n",
       "7339      0.175757     -0.367565     -0.197203      0.248114     -0.013741   \n",
       "7340      0.079174     -0.392787     -0.307278      0.127536     -0.013741   \n",
       "7341      0.068057     -0.418548     -0.234833      0.107217     -0.122244   \n",
       "7342      0.117919     -0.300133     -0.102807      0.181639      0.236195   \n",
       "7343      0.095870     -0.308265     -0.112551      0.162174      0.185661   \n",
       "7344      0.075128     -0.269247     -0.027326      0.110784      0.185661   \n",
       "7345      0.118361     -0.339273     -0.088895      0.146128      0.118226   \n",
       "7346      0.170019     -0.309599     -0.041392      0.207454      0.210795   \n",
       "7347      0.077078     -0.282301      0.043616      0.060410      0.210795   \n",
       "7348      0.059280     -0.322552     -0.029456      0.080585      0.117440   \n",
       "7349      0.274533     -0.304515     -0.098913      0.332584      0.043999   \n",
       "7350      0.268893     -0.310487     -0.068200      0.319473      0.101702   \n",
       "7351      0.177404     -0.377404     -0.038678      0.229430      0.269013   \n",
       "\n",
       "        ...     angletBodyAccMeangravity  angletBodyAccJerkMeangravityMean  \\\n",
       "0       ...                    -0.112754                          0.030400   \n",
       "1       ...                     0.053477                         -0.007435   \n",
       "2       ...                    -0.118559                          0.177899   \n",
       "3       ...                    -0.036788                         -0.012892   \n",
       "4       ...                     0.123320                          0.122542   \n",
       "5       ...                     0.082632                         -0.143439   \n",
       "6       ...                    -0.212754                         -0.230622   \n",
       "7       ...                    -0.020888                          0.593996   \n",
       "8       ...                     0.012954                          0.080936   \n",
       "9       ...                    -0.020590                         -0.127730   \n",
       "10      ...                     0.080699                          0.595791   \n",
       "11      ...                     0.001761                         -0.065980   \n",
       "12      ...                    -0.077552                         -0.101222   \n",
       "13      ...                     0.105620                         -0.090278   \n",
       "14      ...                     0.062297                         -0.058719   \n",
       "15      ...                    -0.121852                         -0.029077   \n",
       "16      ...                    -0.001446                         -0.048110   \n",
       "17      ...                    -0.028332                          0.092367   \n",
       "18      ...                    -0.165849                         -0.033007   \n",
       "19      ...                     0.244931                          0.102569   \n",
       "20      ...                     0.160607                          0.197774   \n",
       "21      ...                    -0.002320                          0.150391   \n",
       "22      ...                    -0.032337                         -0.301298   \n",
       "23      ...                    -0.542884                         -0.249545   \n",
       "24      ...                    -0.021446                          0.337010   \n",
       "25      ...                     0.025652                          0.066503   \n",
       "26      ...                     0.231060                          0.429283   \n",
       "27      ...                     0.013526                          0.043354   \n",
       "28      ...                     0.194735                         -0.148056   \n",
       "29      ...                    -0.228688                         -0.097215   \n",
       "...     ...                          ...                               ...   \n",
       "7322    ...                     0.313940                          0.577018   \n",
       "7323    ...                     0.175422                          0.639569   \n",
       "7324    ...                    -0.234393                          0.660436   \n",
       "7325    ...                    -0.597591                         -0.086692   \n",
       "7326    ...                    -0.556765                         -0.397219   \n",
       "7327    ...                     0.566104                         -0.627754   \n",
       "7328    ...                     0.440241                          0.332869   \n",
       "7329    ...                    -0.292494                          0.803129   \n",
       "7330    ...                    -0.536059                          0.198259   \n",
       "7331    ...                    -0.690348                         -0.687456   \n",
       "7332    ...                     0.189291                         -0.417935   \n",
       "7333    ...                     0.188078                          0.347573   \n",
       "7334    ...                    -0.593603                          0.547782   \n",
       "7335    ...                     0.370358                         -0.302914   \n",
       "7336    ...                     0.730165                         -0.013649   \n",
       "7337    ...                    -0.097635                          0.721639   \n",
       "7338    ...                    -0.270300                         -0.108579   \n",
       "7339    ...                    -0.211652                         -0.421976   \n",
       "7340    ...                     0.246445                          0.239618   \n",
       "7341    ...                    -0.178334                          0.412831   \n",
       "7342    ...                    -0.097489                          0.172312   \n",
       "7343    ...                    -0.201502                         -0.416537   \n",
       "7344    ...                     0.256085                         -0.544541   \n",
       "7345    ...                     0.263885                         -0.290563   \n",
       "7346    ...                     0.352776                         -0.604817   \n",
       "7347    ...                    -0.190437                          0.829718   \n",
       "7348    ...                     0.064907                          0.875679   \n",
       "7349    ...                     0.052806                         -0.266724   \n",
       "7350    ...                    -0.101360                          0.700740   \n",
       "7351    ...                    -0.280088                         -0.007739   \n",
       "\n",
       "      angletBodyGyroMeangravityMean  angletBodyGyroJerkMeangravityMean  \\\n",
       "0                         -0.464761                          -0.018446   \n",
       "1                         -0.732626                           0.703511   \n",
       "2                          0.100699                           0.808529   \n",
       "3                          0.640011                          -0.485366   \n",
       "4                          0.693578                          -0.615971   \n",
       "5                          0.275041                          -0.368224   \n",
       "6                          0.014637                          -0.189512   \n",
       "7                         -0.561871                           0.467383   \n",
       "8                         -0.234313                           0.117797   \n",
       "9                         -0.482871                          -0.070670   \n",
       "10                        -0.475802                           0.115931   \n",
       "11                         0.578861                          -0.651945   \n",
       "12                         0.639084                           0.765485   \n",
       "13                        -0.132403                           0.498814   \n",
       "14                         0.031208                          -0.268791   \n",
       "15                        -0.013034                          -0.056927   \n",
       "16                        -0.340473                          -0.229155   \n",
       "17                        -0.822239                           0.367557   \n",
       "18                        -0.240572                           0.788193   \n",
       "19                         0.066135                          -0.411729   \n",
       "20                         0.257657                          -0.381102   \n",
       "21                         0.142331                          -0.853711   \n",
       "22                         0.132576                          -0.022379   \n",
       "23                         0.006986                          -0.235200   \n",
       "24                        -0.436685                          -0.622922   \n",
       "25                        -0.226316                          -0.225358   \n",
       "26                         0.681154                           0.815226   \n",
       "27                         0.021485                           0.046689   \n",
       "28                         0.033529                          -0.127028   \n",
       "29                         0.024192                           0.006329   \n",
       "...                             ...                                ...   \n",
       "7322                      -0.968008                           0.525585   \n",
       "7323                      -0.922675                          -0.115897   \n",
       "7324                      -0.971252                          -0.598905   \n",
       "7325                      -0.873852                          -0.005680   \n",
       "7326                       0.509361                           0.502457   \n",
       "7327                       0.435882                           0.265142   \n",
       "7328                      -0.551955                           0.424395   \n",
       "7329                       0.970402                           0.484148   \n",
       "7330                       0.851675                           0.202179   \n",
       "7331                       0.251009                          -0.663941   \n",
       "7332                       0.833435                          -0.884542   \n",
       "7333                       0.798495                          -0.041102   \n",
       "7334                       0.535282                          -0.081472   \n",
       "7335                      -0.773404                          -0.578706   \n",
       "7336                      -0.881019                          -0.059017   \n",
       "7337                       0.780377                          -0.082877   \n",
       "7338                      -0.301490                          -0.514063   \n",
       "7339                      -0.063065                           0.424398   \n",
       "7340                       0.853643                           0.610375   \n",
       "7341                       0.822206                          -0.002927   \n",
       "7342                       0.918171                          -0.609025   \n",
       "7343                       0.885558                          -0.879032   \n",
       "7344                      -0.546757                          -0.950493   \n",
       "7345                      -0.864127                           0.591409   \n",
       "7346                      -0.774783                           0.730142   \n",
       "7347                       0.206972                          -0.425619   \n",
       "7348                      -0.879033                           0.400219   \n",
       "7349                       0.864404                           0.701169   \n",
       "7350                       0.936674                          -0.589479   \n",
       "7351                      -0.056088                          -0.616956   \n",
       "\n",
       "      angleXgravityMean  angleYgravityMean  angleZgravityMean  subject  \\\n",
       "0             -0.841247           0.179941          -0.058627        1   \n",
       "1             -0.844788           0.180289          -0.054317        1   \n",
       "2             -0.848933           0.180637          -0.049118        1   \n",
       "3             -0.848649           0.181935          -0.047663        1   \n",
       "4             -0.847865           0.185151          -0.043892        1   \n",
       "5             -0.849632           0.184823          -0.042126        1   \n",
       "6             -0.852150           0.182170          -0.043010        1   \n",
       "7             -0.851017           0.183779          -0.041976        1   \n",
       "8             -0.847971           0.188982          -0.037364        1   \n",
       "9             -0.848294           0.190310          -0.034417        1   \n",
       "10            -0.851562           0.187609          -0.034681        1   \n",
       "11            -0.852723           0.186050          -0.035852        1   \n",
       "12            -0.850654           0.187611          -0.035998        1   \n",
       "13            -0.849773           0.188812          -0.035063        1   \n",
       "14            -0.730937           0.283159           0.036444        1   \n",
       "15            -0.761101           0.263119           0.024172        1   \n",
       "16            -0.759172           0.264324           0.027014        1   \n",
       "17            -0.759363           0.264033           0.029664        1   \n",
       "18            -0.761052           0.262886           0.029346        1   \n",
       "19            -0.760620           0.263169           0.029573        1   \n",
       "20            -0.760528           0.263183           0.030288        1   \n",
       "21            -0.762023           0.262170           0.029987        1   \n",
       "22            -0.761509           0.262550           0.029639        1   \n",
       "23            -0.758960           0.264256           0.030456        1   \n",
       "24            -0.758977           0.264224           0.030743        1   \n",
       "25            -0.762197           0.262090           0.029404        1   \n",
       "26            -0.763702           0.261103           0.028563        1   \n",
       "27            -0.667085           0.054216          -0.218875        1   \n",
       "28            -0.564807          -0.027045          -0.266055        1   \n",
       "29            -0.579367          -0.021567          -0.257530        1   \n",
       "...                 ...                ...                ...      ...   \n",
       "7322          -0.872144           0.186079           0.007999       30   \n",
       "7323          -0.823965           0.219361           0.006658       30   \n",
       "7324          -0.807762           0.231024           0.017605       30   \n",
       "7325          -0.800720           0.235850           0.021025       30   \n",
       "7326          -0.794769           0.239851           0.024372       30   \n",
       "7327          -0.787890           0.244066           0.032317       30   \n",
       "7328          -0.777554           0.251262           0.031959       30   \n",
       "7329          -0.782810           0.248160           0.023123       30   \n",
       "7330          -0.788951           0.243902           0.023580       30   \n",
       "7331          -0.783151           0.247391           0.031878       30   \n",
       "7332          -0.876955           0.183176           0.021774       30   \n",
       "7333          -0.827843           0.216989           0.011177       30   \n",
       "7334          -0.802731           0.234439           0.013737       30   \n",
       "7335          -0.782357           0.248205           0.007170       30   \n",
       "7336          -0.779754           0.250290           0.022490       30   \n",
       "7337          -0.780967           0.247460           0.043458       30   \n",
       "7338          -0.777428           0.250425           0.040161       30   \n",
       "7339          -0.773576           0.254537           0.023146       30   \n",
       "7340          -0.775554           0.253222           0.014452       30   \n",
       "7341          -0.774366           0.254070           0.016289       30   \n",
       "7342          -0.830575           0.213174          -0.005105       30   \n",
       "7343          -0.799426           0.235490          -0.001647       30   \n",
       "7344          -0.787935           0.244490           0.009538       30   \n",
       "7345          -0.780362           0.249624           0.027878       30   \n",
       "7346          -0.797272           0.234996           0.048907       30   \n",
       "7347          -0.791883           0.238604           0.049819       30   \n",
       "7348          -0.771840           0.252676           0.050053       30   \n",
       "7349          -0.779133           0.249145           0.040811       30   \n",
       "7350          -0.785181           0.246432           0.025339       30   \n",
       "7351          -0.783267           0.246809           0.036695       30   \n",
       "\n",
       "      activity_properties     label  \n",
       "0                       5  standing  \n",
       "1                       5  standing  \n",
       "2                       5  standing  \n",
       "3                       5  standing  \n",
       "4                       5  standing  \n",
       "5                       5  standing  \n",
       "6                       5  standing  \n",
       "7                       5  standing  \n",
       "8                       5  standing  \n",
       "9                       5  standing  \n",
       "10                      5  standing  \n",
       "11                      5  standing  \n",
       "12                      5  standing  \n",
       "13                      5  standing  \n",
       "14                      5  standing  \n",
       "15                      5  standing  \n",
       "16                      5  standing  \n",
       "17                      5  standing  \n",
       "18                      5  standing  \n",
       "19                      5  standing  \n",
       "20                      5  standing  \n",
       "21                      5  standing  \n",
       "22                      5  standing  \n",
       "23                      5  standing  \n",
       "24                      5  standing  \n",
       "25                      5  standing  \n",
       "26                      5  standing  \n",
       "27                      4   sitting  \n",
       "28                      4   sitting  \n",
       "29                      4   sitting  \n",
       "...                   ...       ...  \n",
       "7322                    2  upstairs  \n",
       "7323                    2  upstairs  \n",
       "7324                    2  upstairs  \n",
       "7325                    2  upstairs  \n",
       "7326                    2  upstairs  \n",
       "7327                    2  upstairs  \n",
       "7328                    2  upstairs  \n",
       "7329                    2  upstairs  \n",
       "7330                    2  upstairs  \n",
       "7331                    2  upstairs  \n",
       "7332                    2  upstairs  \n",
       "7333                    2  upstairs  \n",
       "7334                    2  upstairs  \n",
       "7335                    2  upstairs  \n",
       "7336                    2  upstairs  \n",
       "7337                    2  upstairs  \n",
       "7338                    2  upstairs  \n",
       "7339                    2  upstairs  \n",
       "7340                    2  upstairs  \n",
       "7341                    2  upstairs  \n",
       "7342                    2  upstairs  \n",
       "7343                    2  upstairs  \n",
       "7344                    2  upstairs  \n",
       "7345                    2  upstairs  \n",
       "7346                    2  upstairs  \n",
       "7347                    2  upstairs  \n",
       "7348                    2  upstairs  \n",
       "7349                    2  upstairs  \n",
       "7350                    2  upstairs  \n",
       "7351                    2  upstairs  \n",
       "\n",
       "[7352 rows x 564 columns]>"
      ]
     },
     "execution_count": 17,
     "metadata": {},
     "output_type": "execute_result"
    }
   ],
   "source": [
    "sample_train.head"
   ]
  },
  {
   "cell_type": "code",
   "execution_count": 18,
   "metadata": {},
   "outputs": [
    {
     "data": {
      "text/plain": [
       "<bound method NDFrame.head of       tBodyAccmeanX  tBodyAccmeanY  tBodyAccmeanZ  tBodyAccstdX  tBodyAccstdY  \\\n",
       "0          0.257178      -0.023285      -0.014654     -0.938404     -0.920091   \n",
       "1          0.286027      -0.013163      -0.119083     -0.975415     -0.967458   \n",
       "2          0.275485      -0.026050      -0.118152     -0.993819     -0.969926   \n",
       "3          0.270298      -0.032614      -0.117520     -0.994743     -0.973268   \n",
       "4          0.274833      -0.027848      -0.129527     -0.993852     -0.967445   \n",
       "5          0.279220      -0.018620      -0.113902     -0.994455     -0.970417   \n",
       "6          0.279746      -0.018271      -0.104000     -0.995819     -0.976354   \n",
       "7          0.274601      -0.025035      -0.116831     -0.995594     -0.982069   \n",
       "8          0.272529      -0.020954      -0.114472     -0.996784     -0.975906   \n",
       "9          0.275746      -0.010372      -0.099776     -0.998373     -0.986933   \n",
       "10         0.278596      -0.015232      -0.098908     -0.998785     -0.981943   \n",
       "11         0.279152      -0.021879      -0.109731     -0.997781     -0.992951   \n",
       "12         0.274544      -0.023145      -0.112540     -0.996205     -0.991573   \n",
       "13         0.269066      -0.027686      -0.110178     -0.996884     -0.986440   \n",
       "14         0.275579      -0.018936      -0.097410     -0.996065     -0.968225   \n",
       "15         0.281931      -0.004881      -0.086106     -0.989076     -0.959006   \n",
       "16         0.311078      -0.019431      -0.101866     -0.936688     -0.840186   \n",
       "17         0.262328      -0.023257      -0.125525     -0.984561     -0.913380   \n",
       "18         0.288416      -0.003485      -0.083828     -0.994571     -0.978360   \n",
       "19         0.271166      -0.025973      -0.094923     -0.970124     -0.901878   \n",
       "20         0.253095      -0.044192      -0.139298     -0.968922     -0.910384   \n",
       "21         0.271339      -0.029954      -0.118595     -0.960931     -0.905035   \n",
       "22         0.299267       0.011799      -0.031653     -0.948754     -0.844182   \n",
       "23         0.293897       0.011151      -0.069281     -0.962413     -0.863340   \n",
       "24         0.275639      -0.015566      -0.125458     -0.989161     -0.968516   \n",
       "25         0.272255      -0.025051      -0.133184     -0.991153     -0.963549   \n",
       "26         0.276427      -0.026278      -0.126941     -0.992989     -0.965620   \n",
       "27         0.280170      -0.014362      -0.100471     -0.993592     -0.971903   \n",
       "28         0.277461      -0.015845      -0.106393     -0.995027     -0.971593   \n",
       "29         0.288375      -0.008548      -0.107059     -0.993340     -0.961974   \n",
       "...             ...            ...            ...           ...           ...   \n",
       "2917       0.376577      -0.018081      -0.109896     -0.314382     -0.152071   \n",
       "2918       0.297434      -0.045270      -0.190596     -0.360521     -0.164580   \n",
       "2919       0.253323      -0.024865      -0.170146     -0.307713     -0.188579   \n",
       "2920       0.208102      -0.008046      -0.075870     -0.323045     -0.095884   \n",
       "2921       0.144149      -0.039858      -0.045135     -0.354687     -0.015797   \n",
       "2922       0.230852      -0.042286      -0.089920     -0.309347     -0.079126   \n",
       "2923       0.296221      -0.052292      -0.115492     -0.284000     -0.110110   \n",
       "2924       0.357298      -0.044599      -0.129532     -0.314497     -0.055580   \n",
       "2925       0.344328       0.004793      -0.122453     -0.319987     -0.066677   \n",
       "2926       0.283644      -0.007958      -0.119018     -0.308558     -0.080392   \n",
       "2927       0.206988       0.024602      -0.103940     -0.364650     -0.169378   \n",
       "2928       0.392804      -0.017788      -0.090166     -0.096349     -0.174368   \n",
       "2929       0.301162      -0.030034      -0.120333     -0.056181     -0.151753   \n",
       "2930       0.288214       0.011493      -0.155453     -0.063550     -0.035160   \n",
       "2931       0.114866      -0.000427      -0.116904     -0.189544      0.078012   \n",
       "2932       0.126970      -0.013276      -0.073441     -0.173816      0.041540   \n",
       "2933       0.363943      -0.022212      -0.125437     -0.041180      0.020777   \n",
       "2934       0.331044      -0.063979      -0.117333     -0.068002      0.156431   \n",
       "2935       0.272259      -0.007579      -0.072642     -0.072559      0.005472   \n",
       "2936       0.277271       0.001084      -0.074001     -0.068523     -0.245059   \n",
       "2937       0.305631      -0.052702      -0.155684     -0.343078     -0.151250   \n",
       "2938       0.321443      -0.023799      -0.119695     -0.336548     -0.183307   \n",
       "2939       0.267413      -0.021596      -0.070550     -0.323426     -0.118042   \n",
       "2940       0.147146      -0.046908      -0.069338     -0.348686      0.018057   \n",
       "2941       0.192275      -0.033643      -0.105949     -0.354841     -0.092504   \n",
       "2942       0.310155      -0.053391      -0.099109     -0.287866     -0.140589   \n",
       "2943       0.363385      -0.039214      -0.105915     -0.305388      0.028148   \n",
       "2944       0.349966       0.030077      -0.115788     -0.329638     -0.042143   \n",
       "2945       0.237594       0.018467      -0.096499     -0.323114     -0.229775   \n",
       "2946       0.153627      -0.018437      -0.137018     -0.330046     -0.195253   \n",
       "\n",
       "      tBodyAccstdZ  tBodyAccmadX  tBodyAccmadY  tBodyAccmadZ  tBodyAccmaxX  \\\n",
       "0        -0.667683     -0.952501     -0.925249     -0.674302     -0.894088   \n",
       "1        -0.944958     -0.986799     -0.968401     -0.945823     -0.894088   \n",
       "2        -0.962748     -0.994403     -0.970735     -0.963483     -0.939260   \n",
       "3        -0.967091     -0.995274     -0.974471     -0.968897     -0.938610   \n",
       "4        -0.978295     -0.994111     -0.965953     -0.977346     -0.938610   \n",
       "5        -0.965316     -0.994585     -0.969481     -0.965897     -0.937856   \n",
       "6        -0.977725     -0.995996     -0.973665     -0.979253     -0.937856   \n",
       "7        -0.985262     -0.995341     -0.981485     -0.984610     -0.941263   \n",
       "8        -0.986597     -0.997029     -0.973735     -0.985556     -0.941263   \n",
       "9        -0.991022     -0.998663     -0.987140     -0.991084     -0.943761   \n",
       "10       -0.991379     -0.998828     -0.980015     -0.991409     -0.943761   \n",
       "11       -0.985680     -0.997710     -0.992678     -0.984940     -0.943979   \n",
       "12       -0.987518     -0.996520     -0.992061     -0.987128     -0.941286   \n",
       "13       -0.988479     -0.997498     -0.987389     -0.989487     -0.941286   \n",
       "14       -0.980696     -0.996218     -0.964626     -0.982347     -0.943252   \n",
       "15       -0.973024     -0.993782     -0.967953     -0.977848     -0.920505   \n",
       "16       -0.816826     -0.941337     -0.848833     -0.812606     -0.841582   \n",
       "17       -0.912673     -0.983951     -0.907203     -0.900435     -0.938526   \n",
       "18       -0.979943     -0.995337     -0.976731     -0.977797     -0.938281   \n",
       "19       -0.965300     -0.977387     -0.908967     -0.968392     -0.911152   \n",
       "20       -0.918860     -0.975386     -0.918031     -0.909892     -0.911152   \n",
       "21       -0.871270     -0.973400     -0.905701     -0.856332     -0.864369   \n",
       "22       -0.880705     -0.958405     -0.853729     -0.884842     -0.838404   \n",
       "23       -0.859957     -0.972184     -0.869011     -0.856146     -0.838404   \n",
       "24       -0.968723     -0.990635     -0.969443     -0.967756     -0.930510   \n",
       "25       -0.973161     -0.991803     -0.962576     -0.970892     -0.934426   \n",
       "26       -0.965738     -0.993417     -0.964456     -0.962185     -0.934426   \n",
       "27       -0.977940     -0.994521     -0.971907     -0.975690     -0.940317   \n",
       "28       -0.978725     -0.995896     -0.971922     -0.976470     -0.940710   \n",
       "29       -0.984493     -0.993322     -0.958215     -0.982440     -0.936207   \n",
       "...            ...           ...           ...           ...           ...   \n",
       "2917     -0.213623     -0.393594     -0.180600     -0.265530     -0.072573   \n",
       "2918     -0.188636     -0.414821     -0.238855     -0.235164     -0.149166   \n",
       "2919     -0.141310     -0.377426     -0.226048     -0.220538      0.092017   \n",
       "2920     -0.217678     -0.424824     -0.130102     -0.322741      0.092017   \n",
       "2921     -0.233415     -0.465077     -0.036371     -0.327340     -0.017856   \n",
       "2922     -0.151727     -0.391110     -0.087048     -0.256664      0.056244   \n",
       "2923     -0.234592     -0.359815     -0.136375     -0.290923      0.056244   \n",
       "2924     -0.173090     -0.385964     -0.057525     -0.216827      0.026249   \n",
       "2925     -0.181803     -0.380404     -0.071025     -0.244559     -0.116867   \n",
       "2926     -0.211476     -0.368919     -0.097063     -0.301231     -0.116867   \n",
       "2927     -0.215814     -0.449295     -0.185957     -0.326199     -0.175652   \n",
       "2928     -0.256686     -0.152987     -0.207809     -0.265253      0.485680   \n",
       "2929     -0.254848     -0.093334     -0.206796     -0.275332      0.485680   \n",
       "2930     -0.230059     -0.093119     -0.116987     -0.258696      0.160374   \n",
       "2931     -0.312489     -0.268158     -0.047632     -0.341972      0.160374   \n",
       "2932     -0.342513     -0.253156     -0.093578     -0.350155      0.285773   \n",
       "2933     -0.243607     -0.113519     -0.120400     -0.221709      0.411506   \n",
       "2934     -0.317060     -0.148922      0.070107     -0.290868      0.411506   \n",
       "2935     -0.225400     -0.161118     -0.074187     -0.280956      0.402615   \n",
       "2936     -0.144552     -0.148731     -0.303187     -0.198912      0.402615   \n",
       "2937     -0.177296     -0.383228     -0.181989     -0.287325     -0.108216   \n",
       "2938     -0.154297     -0.396342     -0.224409     -0.220786     -0.073510   \n",
       "2939     -0.323907     -0.395468     -0.129623     -0.335741      0.053516   \n",
       "2940     -0.364716     -0.437199      0.019297     -0.411240      0.053516   \n",
       "2941     -0.312910     -0.433579     -0.088741     -0.336060     -0.041624   \n",
       "2942     -0.215088     -0.356083     -0.148775     -0.232057      0.185361   \n",
       "2943     -0.196373     -0.373540     -0.030036     -0.270237      0.185361   \n",
       "2944     -0.250181     -0.388017     -0.133257     -0.347029      0.007471   \n",
       "2945     -0.207574     -0.392380     -0.279610     -0.289477      0.007471   \n",
       "2946     -0.164339     -0.430974     -0.218295     -0.229933     -0.111527   \n",
       "\n",
       "         ...      angletBodyAccMeangravity  angletBodyAccJerkMeangravityMean  \\\n",
       "0        ...                      0.006462                          0.162920   \n",
       "1        ...                     -0.083495                          0.017500   \n",
       "2        ...                     -0.034956                          0.202302   \n",
       "3        ...                     -0.017067                          0.154438   \n",
       "4        ...                     -0.002223                         -0.040046   \n",
       "5        ...                     -0.095681                          0.048849   \n",
       "6        ...                     -0.309083                         -0.000857   \n",
       "7        ...                     -0.025526                         -0.214033   \n",
       "8        ...                      0.144626                         -0.035564   \n",
       "9        ...                      0.157584                         -0.033487   \n",
       "10       ...                     -0.047689                          0.077152   \n",
       "11       ...                     -0.240531                          0.220424   \n",
       "12       ...                     -0.019406                         -0.202773   \n",
       "13       ...                      0.021211                         -0.145114   \n",
       "14       ...                     -0.046559                          0.119279   \n",
       "15       ...                      0.016685                          0.214136   \n",
       "16       ...                     -0.777828                          0.123597   \n",
       "17       ...                      0.173074                          0.080321   \n",
       "18       ...                      0.034578                         -0.339566   \n",
       "19       ...                     -0.065276                          0.156377   \n",
       "20       ...                     -0.009371                          0.110696   \n",
       "21       ...                     -0.114588                         -0.129403   \n",
       "22       ...                      0.034920                          0.630781   \n",
       "23       ...                      0.071300                          0.095884   \n",
       "24       ...                      0.128368                         -0.399203   \n",
       "25       ...                      0.005536                         -0.036520   \n",
       "26       ...                     -0.098328                          0.058556   \n",
       "27       ...                     -0.006488                          0.461108   \n",
       "28       ...                      0.181142                         -0.035276   \n",
       "29       ...                     -0.037590                         -0.053452   \n",
       "...      ...                           ...                               ...   \n",
       "2917     ...                     -0.829318                          0.048275   \n",
       "2918     ...                     -0.241364                         -0.181262   \n",
       "2919     ...                      0.004509                          0.357282   \n",
       "2920     ...                      0.752448                         -0.835923   \n",
       "2921     ...                      0.556469                         -0.206396   \n",
       "2922     ...                      0.273411                          0.855750   \n",
       "2923     ...                     -0.300646                          0.225721   \n",
       "2924     ...                     -0.710861                         -0.061232   \n",
       "2925     ...                     -0.402779                         -0.706228   \n",
       "2926     ...                     -0.076085                         -0.238582   \n",
       "2927     ...                      0.535018                         -0.256868   \n",
       "2928     ...                     -0.742630                         -0.080227   \n",
       "2929     ...                     -0.464962                          0.291873   \n",
       "2930     ...                     -0.057336                         -0.592802   \n",
       "2931     ...                      0.849907                         -0.643277   \n",
       "2932     ...                      0.872466                          0.491872   \n",
       "2933     ...                     -0.895624                          0.648047   \n",
       "2934     ...                     -0.351287                         -0.335934   \n",
       "2935     ...                      0.181631                          0.491898   \n",
       "2936     ...                      0.133749                          0.882511   \n",
       "2937     ...                     -0.338596                          0.363565   \n",
       "2938     ...                     -0.874477                         -0.684506   \n",
       "2939     ...                      0.218079                         -0.690839   \n",
       "2940     ...                      0.524082                          0.041970   \n",
       "2941     ...                      0.535983                          0.689306   \n",
       "2942     ...                     -0.337422                          0.346295   \n",
       "2943     ...                     -0.736701                         -0.372889   \n",
       "2944     ...                     -0.181560                          0.088574   \n",
       "2945     ...                      0.444558                         -0.819188   \n",
       "2946     ...                      0.598808                         -0.287951   \n",
       "\n",
       "      angletBodyGyroMeangravityMean  angletBodyGyroJerkMeangravityMean  \\\n",
       "0                         -0.825886                           0.271151   \n",
       "1                         -0.434375                           0.920593   \n",
       "2                          0.064103                           0.145068   \n",
       "3                          0.340134                           0.296407   \n",
       "4                          0.736715                          -0.118545   \n",
       "5                          0.760684                          -0.072216   \n",
       "6                          0.728514                          -0.333771   \n",
       "7                          0.437640                          -0.366674   \n",
       "8                         -0.181800                           0.087320   \n",
       "9                         -0.350893                           0.343146   \n",
       "10                        -0.786023                          -0.285308   \n",
       "11                         0.079633                          -0.258711   \n",
       "12                        -0.114963                          -0.157723   \n",
       "13                        -0.018868                           0.648561   \n",
       "14                         0.060107                           0.397350   \n",
       "15                         0.770044                           0.890289   \n",
       "16                        -0.428679                          -0.756152   \n",
       "17                        -0.459855                           0.402487   \n",
       "18                        -0.709440                           0.396758   \n",
       "19                        -0.154816                           0.131187   \n",
       "20                        -0.242067                           0.445223   \n",
       "21                         0.444381                           0.208119   \n",
       "22                         0.369759                          -0.700671   \n",
       "23                         0.223739                          -0.524834   \n",
       "24                        -0.008751                          -0.333382   \n",
       "25                         0.058946                           0.216278   \n",
       "26                        -0.303365                           0.186886   \n",
       "27                        -0.295405                          -0.375529   \n",
       "28                        -0.323056                           0.711005   \n",
       "29                         0.065760                          -0.045327   \n",
       "...                             ...                                ...   \n",
       "2917                       0.913474                          -0.903792   \n",
       "2918                      -0.946507                           0.033174   \n",
       "2919                      -0.945578                           0.613976   \n",
       "2920                      -0.918626                           0.109159   \n",
       "2921                      -0.943786                           0.297510   \n",
       "2922                      -0.962498                           0.953145   \n",
       "2923                       0.868469                          -0.461542   \n",
       "2924                      -0.706116                           0.064574   \n",
       "2925                       0.738571                           0.870613   \n",
       "2926                       0.960357                           0.086598   \n",
       "2927                       0.927325                          -0.084328   \n",
       "2928                       0.927331                          -0.652179   \n",
       "2929                       0.921466                          -0.869951   \n",
       "2930                       0.964828                           0.606231   \n",
       "2931                       0.973227                           0.062755   \n",
       "2932                      -0.155724                          -0.762511   \n",
       "2933                      -0.624180                          -0.441569   \n",
       "2934                       0.966914                          -0.715323   \n",
       "2935                      -0.977969                          -0.124243   \n",
       "2936                      -0.994293                           0.475236   \n",
       "2937                      -0.951163                          -0.228412   \n",
       "2938                      -0.948809                           0.472612   \n",
       "2939                      -0.922779                           0.232523   \n",
       "2940                      -0.922941                           0.489178   \n",
       "2941                      -0.936606                           0.562375   \n",
       "2942                       0.884904                          -0.698885   \n",
       "2943                      -0.657421                           0.322549   \n",
       "2944                       0.696663                           0.363139   \n",
       "2945                       0.929294                          -0.008398   \n",
       "2946                       0.876030                          -0.024965   \n",
       "\n",
       "      angleXgravityMean  angleYgravityMean  angleZgravityMean  subject  \\\n",
       "0             -0.720009           0.276801          -0.057978        2   \n",
       "1             -0.698091           0.281343          -0.083898        2   \n",
       "2             -0.702771           0.280083          -0.079346        2   \n",
       "3             -0.698954           0.284114          -0.077108        2   \n",
       "4             -0.692245           0.290722          -0.073857        2   \n",
       "5             -0.689816           0.294896          -0.068471        2   \n",
       "6             -0.690085           0.295282          -0.067065        2   \n",
       "7             -0.688785           0.295981          -0.067706        2   \n",
       "8             -0.685390           0.299394          -0.065491        2   \n",
       "9             -0.684110           0.300822          -0.064263        2   \n",
       "10            -0.686013           0.298478          -0.066625        2   \n",
       "11            -0.685710           0.297687          -0.069092        2   \n",
       "12            -0.683619           0.299401          -0.068704        2   \n",
       "13            -0.680503           0.302289          -0.067274        2   \n",
       "14            -0.674944           0.306351          -0.067373        2   \n",
       "15            -0.672948           0.306460          -0.070759        2   \n",
       "16            -0.591690           0.379258          -0.004655        2   \n",
       "17            -0.598653           0.374095          -0.008468        2   \n",
       "18            -0.594755           0.377131          -0.004721        2   \n",
       "19            -0.601416           0.371978          -0.010461        2   \n",
       "20            -0.595470           0.375913          -0.012193        2   \n",
       "21            -0.579426           0.387695          -0.005265        2   \n",
       "22            -0.573604           0.391731          -0.005176        2   \n",
       "23            -0.587638           0.379843          -0.023736        2   \n",
       "24            -0.601530           0.368305          -0.034342        2   \n",
       "25            -0.604059           0.367321          -0.030170        2   \n",
       "26            -0.600177           0.371195          -0.023182        2   \n",
       "27            -0.596625           0.374298          -0.018806        2   \n",
       "28            -0.597761           0.373296          -0.020333        2   \n",
       "29            -0.598912           0.372410          -0.020935        2   \n",
       "...                 ...                ...                ...      ...   \n",
       "2917          -0.694649           0.245906           0.172715       24   \n",
       "2918          -0.722767           0.244779           0.144695       24   \n",
       "2919          -0.694613           0.259140           0.157683       24   \n",
       "2920          -0.671194           0.265751           0.174766       24   \n",
       "2921          -0.661045           0.270618           0.179726       24   \n",
       "2922          -0.657085           0.276184           0.177337       24   \n",
       "2923          -0.663506           0.273305           0.173953       24   \n",
       "2924          -0.660163           0.274327           0.176291       24   \n",
       "2925          -0.652636           0.277868           0.180047       24   \n",
       "2926          -0.656760           0.271648           0.182987       24   \n",
       "2927          -0.657011           0.266990           0.187901       24   \n",
       "2928          -0.807271           0.189885           0.118456       24   \n",
       "2929          -0.814760           0.190418           0.110325       24   \n",
       "2930          -0.809277           0.192232           0.113997       24   \n",
       "2931          -0.809257           0.185954           0.120358       24   \n",
       "2932          -0.800932           0.190968           0.123600       24   \n",
       "2933          -0.803888           0.191732           0.119944       24   \n",
       "2934          -0.810091           0.184712           0.120724       24   \n",
       "2935          -0.797719           0.194819           0.122937       24   \n",
       "2936          -0.803914           0.196823           0.114498       24   \n",
       "2937          -0.691122           0.241953           0.180141       24   \n",
       "2938          -0.677946           0.256877           0.177768       24   \n",
       "2939          -0.672635           0.261034           0.178609       24   \n",
       "2940          -0.660366           0.272243           0.178547       24   \n",
       "2941          -0.646754           0.282150           0.181152       24   \n",
       "2942          -0.651732           0.274627           0.184784       24   \n",
       "2943          -0.655181           0.273578           0.182412       24   \n",
       "2944          -0.655357           0.274479           0.181184       24   \n",
       "2945          -0.659719           0.264782           0.187563       24   \n",
       "2946          -0.660080           0.263936           0.188103       24   \n",
       "\n",
       "      activity_properties       label  \n",
       "0                       5    standing  \n",
       "1                       5    standing  \n",
       "2                       5    standing  \n",
       "3                       5    standing  \n",
       "4                       5    standing  \n",
       "5                       5    standing  \n",
       "6                       5    standing  \n",
       "7                       5    standing  \n",
       "8                       5    standing  \n",
       "9                       5    standing  \n",
       "10                      5    standing  \n",
       "11                      5    standing  \n",
       "12                      5    standing  \n",
       "13                      5    standing  \n",
       "14                      5    standing  \n",
       "15                      5    standing  \n",
       "16                      5    standing  \n",
       "17                      5    standing  \n",
       "18                      5    standing  \n",
       "19                      5    standing  \n",
       "20                      5    standing  \n",
       "21                      5    standing  \n",
       "22                      5    standing  \n",
       "23                      5    standing  \n",
       "24                      5    standing  \n",
       "25                      5    standing  \n",
       "26                      5    standing  \n",
       "27                      5    standing  \n",
       "28                      5    standing  \n",
       "29                      5    standing  \n",
       "...                   ...         ...  \n",
       "2917                    2    upstairs  \n",
       "2918                    2    upstairs  \n",
       "2919                    2    upstairs  \n",
       "2920                    2    upstairs  \n",
       "2921                    2    upstairs  \n",
       "2922                    2    upstairs  \n",
       "2923                    2    upstairs  \n",
       "2924                    2    upstairs  \n",
       "2925                    2    upstairs  \n",
       "2926                    2    upstairs  \n",
       "2927                    2    upstairs  \n",
       "2928                    3  downstairs  \n",
       "2929                    3  downstairs  \n",
       "2930                    3  downstairs  \n",
       "2931                    3  downstairs  \n",
       "2932                    3  downstairs  \n",
       "2933                    3  downstairs  \n",
       "2934                    3  downstairs  \n",
       "2935                    3  downstairs  \n",
       "2936                    3  downstairs  \n",
       "2937                    2    upstairs  \n",
       "2938                    2    upstairs  \n",
       "2939                    2    upstairs  \n",
       "2940                    2    upstairs  \n",
       "2941                    2    upstairs  \n",
       "2942                    2    upstairs  \n",
       "2943                    2    upstairs  \n",
       "2944                    2    upstairs  \n",
       "2945                    2    upstairs  \n",
       "2946                    2    upstairs  \n",
       "\n",
       "[2947 rows x 564 columns]>"
      ]
     },
     "execution_count": 18,
     "metadata": {},
     "output_type": "execute_result"
    }
   ],
   "source": [
    "sample_test.head"
   ]
  },
  {
   "cell_type": "code",
   "execution_count": 19,
   "metadata": {},
   "outputs": [
    {
     "data": {
      "text/html": [
       "<div>\n",
       "<style scoped>\n",
       "    .dataframe tbody tr th:only-of-type {\n",
       "        vertical-align: middle;\n",
       "    }\n",
       "\n",
       "    .dataframe tbody tr th {\n",
       "        vertical-align: top;\n",
       "    }\n",
       "\n",
       "    .dataframe thead th {\n",
       "        text-align: right;\n",
       "    }\n",
       "</style>\n",
       "<table border=\"1\" class=\"dataframe\">\n",
       "  <thead>\n",
       "    <tr style=\"text-align: right;\">\n",
       "      <th></th>\n",
       "      <th>tBodyAccmeanX</th>\n",
       "      <th>tBodyAccmeanY</th>\n",
       "      <th>tBodyAccmeanZ</th>\n",
       "      <th>tBodyAccstdX</th>\n",
       "      <th>tBodyAccstdY</th>\n",
       "      <th>tBodyAccstdZ</th>\n",
       "      <th>tBodyAccmadX</th>\n",
       "      <th>tBodyAccmadY</th>\n",
       "      <th>tBodyAccmadZ</th>\n",
       "      <th>tBodyAccmaxX</th>\n",
       "      <th>...</th>\n",
       "      <th>angletBodyAccMeangravity</th>\n",
       "      <th>angletBodyAccJerkMeangravityMean</th>\n",
       "      <th>angletBodyGyroMeangravityMean</th>\n",
       "      <th>angletBodyGyroJerkMeangravityMean</th>\n",
       "      <th>angleXgravityMean</th>\n",
       "      <th>angleYgravityMean</th>\n",
       "      <th>angleZgravityMean</th>\n",
       "      <th>subject</th>\n",
       "      <th>activity_properties</th>\n",
       "      <th>label</th>\n",
       "    </tr>\n",
       "  </thead>\n",
       "  <tbody>\n",
       "    <tr>\n",
       "      <th>0</th>\n",
       "      <td>0.288585</td>\n",
       "      <td>-0.020294</td>\n",
       "      <td>-0.132905</td>\n",
       "      <td>-0.995279</td>\n",
       "      <td>-0.983111</td>\n",
       "      <td>-0.913526</td>\n",
       "      <td>-0.995112</td>\n",
       "      <td>-0.983185</td>\n",
       "      <td>-0.923527</td>\n",
       "      <td>-0.934724</td>\n",
       "      <td>...</td>\n",
       "      <td>-0.112754</td>\n",
       "      <td>0.030400</td>\n",
       "      <td>-0.464761</td>\n",
       "      <td>-0.018446</td>\n",
       "      <td>-0.841247</td>\n",
       "      <td>0.179941</td>\n",
       "      <td>-0.058627</td>\n",
       "      <td>1</td>\n",
       "      <td>5</td>\n",
       "      <td>standing</td>\n",
       "    </tr>\n",
       "    <tr>\n",
       "      <th>1</th>\n",
       "      <td>0.278419</td>\n",
       "      <td>-0.016411</td>\n",
       "      <td>-0.123520</td>\n",
       "      <td>-0.998245</td>\n",
       "      <td>-0.975300</td>\n",
       "      <td>-0.960322</td>\n",
       "      <td>-0.998807</td>\n",
       "      <td>-0.974914</td>\n",
       "      <td>-0.957686</td>\n",
       "      <td>-0.943068</td>\n",
       "      <td>...</td>\n",
       "      <td>0.053477</td>\n",
       "      <td>-0.007435</td>\n",
       "      <td>-0.732626</td>\n",
       "      <td>0.703511</td>\n",
       "      <td>-0.844788</td>\n",
       "      <td>0.180289</td>\n",
       "      <td>-0.054317</td>\n",
       "      <td>1</td>\n",
       "      <td>5</td>\n",
       "      <td>standing</td>\n",
       "    </tr>\n",
       "    <tr>\n",
       "      <th>2</th>\n",
       "      <td>0.279653</td>\n",
       "      <td>-0.019467</td>\n",
       "      <td>-0.113462</td>\n",
       "      <td>-0.995380</td>\n",
       "      <td>-0.967187</td>\n",
       "      <td>-0.978944</td>\n",
       "      <td>-0.996520</td>\n",
       "      <td>-0.963668</td>\n",
       "      <td>-0.977469</td>\n",
       "      <td>-0.938692</td>\n",
       "      <td>...</td>\n",
       "      <td>-0.118559</td>\n",
       "      <td>0.177899</td>\n",
       "      <td>0.100699</td>\n",
       "      <td>0.808529</td>\n",
       "      <td>-0.848933</td>\n",
       "      <td>0.180637</td>\n",
       "      <td>-0.049118</td>\n",
       "      <td>1</td>\n",
       "      <td>5</td>\n",
       "      <td>standing</td>\n",
       "    </tr>\n",
       "    <tr>\n",
       "      <th>3</th>\n",
       "      <td>0.279174</td>\n",
       "      <td>-0.026201</td>\n",
       "      <td>-0.123283</td>\n",
       "      <td>-0.996091</td>\n",
       "      <td>-0.983403</td>\n",
       "      <td>-0.990675</td>\n",
       "      <td>-0.997099</td>\n",
       "      <td>-0.982750</td>\n",
       "      <td>-0.989302</td>\n",
       "      <td>-0.938692</td>\n",
       "      <td>...</td>\n",
       "      <td>-0.036788</td>\n",
       "      <td>-0.012892</td>\n",
       "      <td>0.640011</td>\n",
       "      <td>-0.485366</td>\n",
       "      <td>-0.848649</td>\n",
       "      <td>0.181935</td>\n",
       "      <td>-0.047663</td>\n",
       "      <td>1</td>\n",
       "      <td>5</td>\n",
       "      <td>standing</td>\n",
       "    </tr>\n",
       "    <tr>\n",
       "      <th>4</th>\n",
       "      <td>0.276629</td>\n",
       "      <td>-0.016570</td>\n",
       "      <td>-0.115362</td>\n",
       "      <td>-0.998139</td>\n",
       "      <td>-0.980817</td>\n",
       "      <td>-0.990482</td>\n",
       "      <td>-0.998321</td>\n",
       "      <td>-0.979672</td>\n",
       "      <td>-0.990441</td>\n",
       "      <td>-0.942469</td>\n",
       "      <td>...</td>\n",
       "      <td>0.123320</td>\n",
       "      <td>0.122542</td>\n",
       "      <td>0.693578</td>\n",
       "      <td>-0.615971</td>\n",
       "      <td>-0.847865</td>\n",
       "      <td>0.185151</td>\n",
       "      <td>-0.043892</td>\n",
       "      <td>1</td>\n",
       "      <td>5</td>\n",
       "      <td>standing</td>\n",
       "    </tr>\n",
       "  </tbody>\n",
       "</table>\n",
       "<p>5 rows × 564 columns</p>\n",
       "</div>"
      ],
      "text/plain": [
       "   tBodyAccmeanX  tBodyAccmeanY  tBodyAccmeanZ  tBodyAccstdX  tBodyAccstdY  \\\n",
       "0       0.288585      -0.020294      -0.132905     -0.995279     -0.983111   \n",
       "1       0.278419      -0.016411      -0.123520     -0.998245     -0.975300   \n",
       "2       0.279653      -0.019467      -0.113462     -0.995380     -0.967187   \n",
       "3       0.279174      -0.026201      -0.123283     -0.996091     -0.983403   \n",
       "4       0.276629      -0.016570      -0.115362     -0.998139     -0.980817   \n",
       "\n",
       "   tBodyAccstdZ  tBodyAccmadX  tBodyAccmadY  tBodyAccmadZ  tBodyAccmaxX  \\\n",
       "0     -0.913526     -0.995112     -0.983185     -0.923527     -0.934724   \n",
       "1     -0.960322     -0.998807     -0.974914     -0.957686     -0.943068   \n",
       "2     -0.978944     -0.996520     -0.963668     -0.977469     -0.938692   \n",
       "3     -0.990675     -0.997099     -0.982750     -0.989302     -0.938692   \n",
       "4     -0.990482     -0.998321     -0.979672     -0.990441     -0.942469   \n",
       "\n",
       "     ...     angletBodyAccMeangravity  angletBodyAccJerkMeangravityMean  \\\n",
       "0    ...                    -0.112754                          0.030400   \n",
       "1    ...                     0.053477                         -0.007435   \n",
       "2    ...                    -0.118559                          0.177899   \n",
       "3    ...                    -0.036788                         -0.012892   \n",
       "4    ...                     0.123320                          0.122542   \n",
       "\n",
       "   angletBodyGyroMeangravityMean  angletBodyGyroJerkMeangravityMean  \\\n",
       "0                      -0.464761                          -0.018446   \n",
       "1                      -0.732626                           0.703511   \n",
       "2                       0.100699                           0.808529   \n",
       "3                       0.640011                          -0.485366   \n",
       "4                       0.693578                          -0.615971   \n",
       "\n",
       "   angleXgravityMean  angleYgravityMean  angleZgravityMean  subject  \\\n",
       "0          -0.841247           0.179941          -0.058627        1   \n",
       "1          -0.844788           0.180289          -0.054317        1   \n",
       "2          -0.848933           0.180637          -0.049118        1   \n",
       "3          -0.848649           0.181935          -0.047663        1   \n",
       "4          -0.847865           0.185151          -0.043892        1   \n",
       "\n",
       "   activity_properties     label  \n",
       "0                    5  standing  \n",
       "1                    5  standing  \n",
       "2                    5  standing  \n",
       "3                    5  standing  \n",
       "4                    5  standing  \n",
       "\n",
       "[5 rows x 564 columns]"
      ]
     },
     "execution_count": 19,
     "metadata": {},
     "output_type": "execute_result"
    }
   ],
   "source": [
    "sample_train.head()"
   ]
  },
  {
   "cell_type": "code",
   "execution_count": 20,
   "metadata": {},
   "outputs": [
    {
     "data": {
      "text/html": [
       "<div>\n",
       "<style scoped>\n",
       "    .dataframe tbody tr th:only-of-type {\n",
       "        vertical-align: middle;\n",
       "    }\n",
       "\n",
       "    .dataframe tbody tr th {\n",
       "        vertical-align: top;\n",
       "    }\n",
       "\n",
       "    .dataframe thead th {\n",
       "        text-align: right;\n",
       "    }\n",
       "</style>\n",
       "<table border=\"1\" class=\"dataframe\">\n",
       "  <thead>\n",
       "    <tr style=\"text-align: right;\">\n",
       "      <th></th>\n",
       "      <th>tBodyAccmeanX</th>\n",
       "      <th>tBodyAccmeanY</th>\n",
       "      <th>tBodyAccmeanZ</th>\n",
       "      <th>tBodyAccstdX</th>\n",
       "      <th>tBodyAccstdY</th>\n",
       "      <th>tBodyAccstdZ</th>\n",
       "      <th>tBodyAccmadX</th>\n",
       "      <th>tBodyAccmadY</th>\n",
       "      <th>tBodyAccmadZ</th>\n",
       "      <th>tBodyAccmaxX</th>\n",
       "      <th>...</th>\n",
       "      <th>angletBodyAccMeangravity</th>\n",
       "      <th>angletBodyAccJerkMeangravityMean</th>\n",
       "      <th>angletBodyGyroMeangravityMean</th>\n",
       "      <th>angletBodyGyroJerkMeangravityMean</th>\n",
       "      <th>angleXgravityMean</th>\n",
       "      <th>angleYgravityMean</th>\n",
       "      <th>angleZgravityMean</th>\n",
       "      <th>subject</th>\n",
       "      <th>activity_properties</th>\n",
       "      <th>label</th>\n",
       "    </tr>\n",
       "  </thead>\n",
       "  <tbody>\n",
       "    <tr>\n",
       "      <th>0</th>\n",
       "      <td>0.257178</td>\n",
       "      <td>-0.023285</td>\n",
       "      <td>-0.014654</td>\n",
       "      <td>-0.938404</td>\n",
       "      <td>-0.920091</td>\n",
       "      <td>-0.667683</td>\n",
       "      <td>-0.952501</td>\n",
       "      <td>-0.925249</td>\n",
       "      <td>-0.674302</td>\n",
       "      <td>-0.894088</td>\n",
       "      <td>...</td>\n",
       "      <td>0.006462</td>\n",
       "      <td>0.162920</td>\n",
       "      <td>-0.825886</td>\n",
       "      <td>0.271151</td>\n",
       "      <td>-0.720009</td>\n",
       "      <td>0.276801</td>\n",
       "      <td>-0.057978</td>\n",
       "      <td>2</td>\n",
       "      <td>5</td>\n",
       "      <td>standing</td>\n",
       "    </tr>\n",
       "    <tr>\n",
       "      <th>1</th>\n",
       "      <td>0.286027</td>\n",
       "      <td>-0.013163</td>\n",
       "      <td>-0.119083</td>\n",
       "      <td>-0.975415</td>\n",
       "      <td>-0.967458</td>\n",
       "      <td>-0.944958</td>\n",
       "      <td>-0.986799</td>\n",
       "      <td>-0.968401</td>\n",
       "      <td>-0.945823</td>\n",
       "      <td>-0.894088</td>\n",
       "      <td>...</td>\n",
       "      <td>-0.083495</td>\n",
       "      <td>0.017500</td>\n",
       "      <td>-0.434375</td>\n",
       "      <td>0.920593</td>\n",
       "      <td>-0.698091</td>\n",
       "      <td>0.281343</td>\n",
       "      <td>-0.083898</td>\n",
       "      <td>2</td>\n",
       "      <td>5</td>\n",
       "      <td>standing</td>\n",
       "    </tr>\n",
       "    <tr>\n",
       "      <th>2</th>\n",
       "      <td>0.275485</td>\n",
       "      <td>-0.026050</td>\n",
       "      <td>-0.118152</td>\n",
       "      <td>-0.993819</td>\n",
       "      <td>-0.969926</td>\n",
       "      <td>-0.962748</td>\n",
       "      <td>-0.994403</td>\n",
       "      <td>-0.970735</td>\n",
       "      <td>-0.963483</td>\n",
       "      <td>-0.939260</td>\n",
       "      <td>...</td>\n",
       "      <td>-0.034956</td>\n",
       "      <td>0.202302</td>\n",
       "      <td>0.064103</td>\n",
       "      <td>0.145068</td>\n",
       "      <td>-0.702771</td>\n",
       "      <td>0.280083</td>\n",
       "      <td>-0.079346</td>\n",
       "      <td>2</td>\n",
       "      <td>5</td>\n",
       "      <td>standing</td>\n",
       "    </tr>\n",
       "    <tr>\n",
       "      <th>3</th>\n",
       "      <td>0.270298</td>\n",
       "      <td>-0.032614</td>\n",
       "      <td>-0.117520</td>\n",
       "      <td>-0.994743</td>\n",
       "      <td>-0.973268</td>\n",
       "      <td>-0.967091</td>\n",
       "      <td>-0.995274</td>\n",
       "      <td>-0.974471</td>\n",
       "      <td>-0.968897</td>\n",
       "      <td>-0.938610</td>\n",
       "      <td>...</td>\n",
       "      <td>-0.017067</td>\n",
       "      <td>0.154438</td>\n",
       "      <td>0.340134</td>\n",
       "      <td>0.296407</td>\n",
       "      <td>-0.698954</td>\n",
       "      <td>0.284114</td>\n",
       "      <td>-0.077108</td>\n",
       "      <td>2</td>\n",
       "      <td>5</td>\n",
       "      <td>standing</td>\n",
       "    </tr>\n",
       "    <tr>\n",
       "      <th>4</th>\n",
       "      <td>0.274833</td>\n",
       "      <td>-0.027848</td>\n",
       "      <td>-0.129527</td>\n",
       "      <td>-0.993852</td>\n",
       "      <td>-0.967445</td>\n",
       "      <td>-0.978295</td>\n",
       "      <td>-0.994111</td>\n",
       "      <td>-0.965953</td>\n",
       "      <td>-0.977346</td>\n",
       "      <td>-0.938610</td>\n",
       "      <td>...</td>\n",
       "      <td>-0.002223</td>\n",
       "      <td>-0.040046</td>\n",
       "      <td>0.736715</td>\n",
       "      <td>-0.118545</td>\n",
       "      <td>-0.692245</td>\n",
       "      <td>0.290722</td>\n",
       "      <td>-0.073857</td>\n",
       "      <td>2</td>\n",
       "      <td>5</td>\n",
       "      <td>standing</td>\n",
       "    </tr>\n",
       "  </tbody>\n",
       "</table>\n",
       "<p>5 rows × 564 columns</p>\n",
       "</div>"
      ],
      "text/plain": [
       "   tBodyAccmeanX  tBodyAccmeanY  tBodyAccmeanZ  tBodyAccstdX  tBodyAccstdY  \\\n",
       "0       0.257178      -0.023285      -0.014654     -0.938404     -0.920091   \n",
       "1       0.286027      -0.013163      -0.119083     -0.975415     -0.967458   \n",
       "2       0.275485      -0.026050      -0.118152     -0.993819     -0.969926   \n",
       "3       0.270298      -0.032614      -0.117520     -0.994743     -0.973268   \n",
       "4       0.274833      -0.027848      -0.129527     -0.993852     -0.967445   \n",
       "\n",
       "   tBodyAccstdZ  tBodyAccmadX  tBodyAccmadY  tBodyAccmadZ  tBodyAccmaxX  \\\n",
       "0     -0.667683     -0.952501     -0.925249     -0.674302     -0.894088   \n",
       "1     -0.944958     -0.986799     -0.968401     -0.945823     -0.894088   \n",
       "2     -0.962748     -0.994403     -0.970735     -0.963483     -0.939260   \n",
       "3     -0.967091     -0.995274     -0.974471     -0.968897     -0.938610   \n",
       "4     -0.978295     -0.994111     -0.965953     -0.977346     -0.938610   \n",
       "\n",
       "     ...     angletBodyAccMeangravity  angletBodyAccJerkMeangravityMean  \\\n",
       "0    ...                     0.006462                          0.162920   \n",
       "1    ...                    -0.083495                          0.017500   \n",
       "2    ...                    -0.034956                          0.202302   \n",
       "3    ...                    -0.017067                          0.154438   \n",
       "4    ...                    -0.002223                         -0.040046   \n",
       "\n",
       "   angletBodyGyroMeangravityMean  angletBodyGyroJerkMeangravityMean  \\\n",
       "0                      -0.825886                           0.271151   \n",
       "1                      -0.434375                           0.920593   \n",
       "2                       0.064103                           0.145068   \n",
       "3                       0.340134                           0.296407   \n",
       "4                       0.736715                          -0.118545   \n",
       "\n",
       "   angleXgravityMean  angleYgravityMean  angleZgravityMean  subject  \\\n",
       "0          -0.720009           0.276801          -0.057978        2   \n",
       "1          -0.698091           0.281343          -0.083898        2   \n",
       "2          -0.702771           0.280083          -0.079346        2   \n",
       "3          -0.698954           0.284114          -0.077108        2   \n",
       "4          -0.692245           0.290722          -0.073857        2   \n",
       "\n",
       "   activity_properties     label  \n",
       "0                    5  standing  \n",
       "1                    5  standing  \n",
       "2                    5  standing  \n",
       "3                    5  standing  \n",
       "4                    5  standing  \n",
       "\n",
       "[5 rows x 564 columns]"
      ]
     },
     "execution_count": 20,
     "metadata": {},
     "output_type": "execute_result"
    }
   ],
   "source": [
    "sample_test.head()"
   ]
  },
  {
   "cell_type": "code",
   "execution_count": 21,
   "metadata": {},
   "outputs": [],
   "source": [
    "X_train=sample_train.drop(['subject', 'activity_properties', 'label'], axis=1)\n",
    "y_train = sample_train.label"
   ]
  },
  {
   "cell_type": "code",
   "execution_count": 22,
   "metadata": {},
   "outputs": [],
   "source": [
    "X_test=sample_test.drop(['subject', 'activity_properties', 'label'], axis=1)\n",
    "y_test = sample_test.label"
   ]
  },
  {
   "cell_type": "code",
   "execution_count": 23,
   "metadata": {},
   "outputs": [],
   "source": [
    "labels=['walking','upstairs','downstairs','sitting','standing','laying']"
   ]
  },
  {
   "cell_type": "code",
   "execution_count": 24,
   "metadata": {},
   "outputs": [],
   "source": [
    "import itertools\n",
    "from sklearn.metrics import confusion_matrix"
   ]
  },
  {
   "cell_type": "code",
   "execution_count": 25,
   "metadata": {},
   "outputs": [],
   "source": [
    "\n",
    "\n",
    "def confusionMatrixPlotter(cm, classes,normalize=False,title='CONFUSION MATRIX'):\n",
    "    if normalize:\n",
    "        cm = cm.astype('float') / cm.sum(axis=1)[:, np.newaxis]\n",
    "\n",
    "    plt.imshow(cm, interpolation='nearest')\n",
    "    plt.title(title)\n",
    "    plt.colorbar()\n",
    "    tick_marks = np.arange(len(classes))\n",
    "    plt.xticks(tick_marks, classes, rotation=90)\n",
    "    plt.yticks(tick_marks, classes)\n",
    "\n",
    "    fmt = '.2f' if normalize else 'd'\n",
    "    thresh = cm.max() / 2.\n",
    "    for i, j in tqdm(itertools.product(range(cm.shape[0]), range(cm.shape[1]))):\n",
    "        plt.text(j, i, format(cm[i, j], fmt),horizontalalignment=\"center\",color=\"black\" if cm[i, j] > thresh else \"white\")\n",
    "\n",
    "    plt.tight_layout()\n",
    "    plt.ylabel('Actual Values')\n",
    "    plt.xlabel('Predicted Values')"
   ]
  },
  {
   "cell_type": "code",
   "execution_count": 26,
   "metadata": {},
   "outputs": [],
   "source": [
    "from datetime import datetime\n",
    "def Modeller(model, X_train, y_train, X_test, y_test, class_labels, cm_normalize=True, \\\n",
    "                 print_cm=True):\n",
    "\n",
    "    results = dict()\n",
    "    train_start_time = datetime.now()\n",
    "    print('Model is being trained')\n",
    "    model.fit(X_train, y_train)\n",
    "    print('Finished \\n')\n",
    "    train_end_time = datetime.now()\n",
    "    results['training_time'] =  train_end_time - train_start_time\n",
    "    print('training_time- {}\\n\\n'.format(results['training_time']))\n",
    "    print('....predictions....')\n",
    "    test_start_time = datetime.now()\n",
    "    y_pred = model.predict(X_test)\n",
    "    test_end_time = datetime.now()\n",
    "    print('Finished \\n')\n",
    "    results['testing_time'] = test_end_time - test_start_time\n",
    "    print('testing time- {}\\n\\n'.format(results['testing_time']))\n",
    "    results['predicted'] = y_pred\n",
    "    accuracy = metrics.accuracy_score(y_true=y_test, y_pred=y_pred)\n",
    "\n",
    "    results['accuracy'] = accuracy\n",
    "    \n",
    "    print('Accuracy is:')\n",
    "    \n",
    "    print('\\n    {}\\n\\n'.format(accuracy))\n",
    "    \n",
    "    cm = metrics.confusion_matrix(y_test, y_pred)\n",
    "    results['confusion_matrix'] = cm\n",
    "    if print_cm: \n",
    "        print('Confusion Matrix obtained...')\n",
    "        print('\\n {}'.format(cm))\n",
    "        \n",
    "    plt.figure(figsize=(8,8))\n",
    "    plt.grid(b=False)\n",
    "    confusionMatrixPlotter(cm, classes=class_labels, normalize=True, title='Normalized confusion matrix')\n",
    "    plt.show()\n",
    "    \n",
    "    print('-------------------------')\n",
    "    classification_report = metrics.classification_report(y_test, y_pred)\n",
    "    results['classification_report'] = classification_report\n",
    "    print(classification_report)\n",
    "    results['model'] = model\n",
    "    return results\n",
    "    \n",
    "    "
   ]
  },
  {
   "cell_type": "code",
   "execution_count": 27,
   "metadata": {},
   "outputs": [],
   "source": [
    "def printGRIDvalues(model):\n",
    "    # Estimator that gave highest score among all the estimators formed in GridSearch\n",
    "    print(' After grid search best estimator obtained is:')\n",
    "    print('\\n\\t\\t{}\\n'.format(model.best_estimator_))\n",
    "    print('After grid searh best parameters obtained are:')\n",
    "    print('Parameters of best estimator :\\n\\t{}\\n'.format(model.best_params_))\n",
    "\n",
    "    print('Cross Validations:')\n",
    "    print('\\n Total numbre of cross validation sets: {}\\n'.format(model.n_splits_))\n",
    "    print('\\n Average Cross Validate scores of best estimator :\\n\\t{}\\n'.format(model.best_score_))\n",
    "\n",
    "    \n",
    "    "
   ]
  },
  {
   "cell_type": "code",
   "execution_count": 28,
   "metadata": {},
   "outputs": [],
   "source": [
    "from sklearn import linear_model\n",
    "from sklearn import metrics\n",
    "\n",
    "from sklearn.model_selection import GridSearchCV"
   ]
  },
  {
   "cell_type": "code",
   "execution_count": 29,
   "metadata": {},
   "outputs": [],
   "source": [
    "\n",
    "# start Grid search\n",
    "parameters = {'C':[0.001, 0.01, 0.1, 1, 10, 20, 30], 'penalty':['l2','l1']}\n",
    "log_reg = linear_model.LogisticRegression()\n",
    "log_reg_grid = GridSearchCV(log_reg, param_grid=parameters, cv=3, verbose=1, n_jobs=-1)\n",
    "\n"
   ]
  },
  {
   "cell_type": "code",
   "execution_count": null,
   "metadata": {},
   "outputs": [],
   "source": []
  },
  {
   "cell_type": "code",
   "execution_count": 30,
   "metadata": {},
   "outputs": [
    {
     "name": "stdout",
     "output_type": "stream",
     "text": [
      "Model is being trained\n",
      "Fitting 3 folds for each of 14 candidates, totalling 42 fits\n"
     ]
    },
    {
     "name": "stderr",
     "output_type": "stream",
     "text": [
      "[Parallel(n_jobs=-1)]: Using backend LokyBackend with 12 concurrent workers.\n",
      "[Parallel(n_jobs=-1)]: Done  42 out of  42 | elapsed:  1.4min finished\n",
      "C:\\Users\\DIVYANSH SHARMA\\Anaconda3\\lib\\site-packages\\sklearn\\linear_model\\logistic.py:433: FutureWarning: Default solver will be changed to 'lbfgs' in 0.22. Specify a solver to silence this warning.\n",
      "  FutureWarning)\n",
      "C:\\Users\\DIVYANSH SHARMA\\Anaconda3\\lib\\site-packages\\sklearn\\linear_model\\logistic.py:460: FutureWarning: Default multi_class will be changed to 'auto' in 0.22. Specify the multi_class option to silence this warning.\n",
      "  \"this warning.\", FutureWarning)\n"
     ]
    },
    {
     "name": "stdout",
     "output_type": "stream",
     "text": [
      "Finished \n",
      "\n",
      "training_time- 0:01:30.123086\n",
      "\n",
      "\n",
      "....predictions....\n",
      "Finished \n",
      "\n",
      "testing time- 0:00:00.010972\n",
      "\n",
      "\n",
      "Accuracy is:\n",
      "\n",
      "    0.9630132337970818\n",
      "\n",
      "\n",
      "Confusion Matrix obtained...\n",
      "\n",
      " [[409   0   0   0   8   3]\n",
      " [  0 537   0   0   0   0]\n",
      " [  0   1 428  58   4   0]\n",
      " [  0   0  11 520   0   1]\n",
      " [  0   0   0   0 449  22]\n",
      " [  1   0   0   0   0 495]]\n"
     ]
    },
    {
     "name": "stderr",
     "output_type": "stream",
     "text": [
      "36it [00:00, 4010.38it/s]\n"
     ]
    },
    {
     "data": {
      "image/png": "[encoded data removed]",
      "text/plain": [
       "<Figure size 576x576 with 2 Axes>"
      ]
     },
     "metadata": {
      "needs_background": "light"
     },
     "output_type": "display_data"
    },
    {
     "name": "stdout",
     "output_type": "stream",
     "text": [
      "-------------------------\n",
      "              precision    recall  f1-score   support\n",
      "\n",
      "  downstairs       1.00      0.97      0.99       420\n",
      "      laying       1.00      1.00      1.00       537\n",
      "     sitting       0.97      0.87      0.92       491\n",
      "    standing       0.90      0.98      0.94       532\n",
      "    upstairs       0.97      0.95      0.96       471\n",
      "     walking       0.95      1.00      0.97       496\n",
      "\n",
      "   micro avg       0.96      0.96      0.96      2947\n",
      "   macro avg       0.97      0.96      0.96      2947\n",
      "weighted avg       0.96      0.96      0.96      2947\n",
      "\n"
     ]
    }
   ],
   "source": [
    "log_reg_grid_results =  Modeller(log_reg_grid, X_train, y_train, X_test, y_test, class_labels=labels)"
   ]
  },
  {
   "cell_type": "code",
   "execution_count": 31,
   "metadata": {},
   "outputs": [
    {
     "name": "stderr",
     "output_type": "stream",
     "text": [
      "36it [00:00, 5156.76it/s]\n"
     ]
    },
    {
     "data": {
      "image/png": "[encoded data removed]",
      "text/plain": [
       "<Figure size 576x576 with 2 Axes>"
      ]
     },
     "metadata": {
      "needs_background": "light"
     },
     "output_type": "display_data"
    }
   ],
   "source": [
    "plt.figure(figsize=(8,8))\n",
    "plt.grid(b=False)\n",
    "confusionMatrixPlotter(log_reg_grid_results['confusion_matrix'], classes=labels)\n",
    "plt.show()"
   ]
  },
  {
   "cell_type": "code",
   "execution_count": 32,
   "metadata": {},
   "outputs": [
    {
     "name": "stdout",
     "output_type": "stream",
     "text": [
      " After grid search best estimator obtained is:\n",
      "\n",
      "\t\tLogisticRegression(C=30, class_weight=None, dual=False, fit_intercept=True,\n",
      "          intercept_scaling=1, max_iter=100, multi_class='warn',\n",
      "          n_jobs=None, penalty='l2', random_state=None, solver='warn',\n",
      "          tol=0.0001, verbose=0, warm_start=False)\n",
      "\n",
      "After grid searh best parameters obtained are:\n",
      "Parameters of best estimator :\n",
      "\t{'C': 30, 'penalty': 'l2'}\n",
      "\n",
      "Cross Validations:\n",
      "\n",
      " Total numbre of cross validation sets: 3\n",
      "\n",
      "\n",
      " Average Cross Validate scores of best estimator :\n",
      "\t0.9461371055495104\n",
      "\n"
     ]
    }
   ],
   "source": [
    "printGRIDvalues(log_reg_grid_results['model'])"
   ]
  },
  {
   "cell_type": "markdown",
   "metadata": {},
   "source": [
    "# ################"
   ]
  },
  {
   "cell_type": "code",
   "execution_count": 33,
   "metadata": {},
   "outputs": [],
   "source": [
    "from sklearn.svm import LinearSVC"
   ]
  },
  {
   "cell_type": "code",
   "execution_count": 34,
   "metadata": {},
   "outputs": [],
   "source": [
    "parameters = {'C':[0.125, 0.5, 1, 2, 8, 16]}\n",
    "lr_svc = LinearSVC(tol=0.00005)\n",
    "lr_svc_grid = GridSearchCV(lr_svc, param_grid=parameters, n_jobs=-1, verbose=1)"
   ]
  },
  {
   "cell_type": "code",
   "execution_count": 35,
   "metadata": {},
   "outputs": [
    {
     "name": "stdout",
     "output_type": "stream",
     "text": [
      "Model is being trained\n"
     ]
    },
    {
     "name": "stderr",
     "output_type": "stream",
     "text": [
      "C:\\Users\\DIVYANSH SHARMA\\Anaconda3\\lib\\site-packages\\sklearn\\model_selection\\_split.py:2053: FutureWarning: You should specify a value for 'cv' instead of relying on the default value. The default value will change from 3 to 5 in version 0.22.\n",
      "  warnings.warn(CV_WARNING, FutureWarning)\n"
     ]
    },
    {
     "name": "stdout",
     "output_type": "stream",
     "text": [
      "Fitting 3 folds for each of 6 candidates, totalling 18 fits\n"
     ]
    },
    {
     "name": "stderr",
     "output_type": "stream",
     "text": [
      "[Parallel(n_jobs=-1)]: Using backend LokyBackend with 12 concurrent workers.\n",
      "[Parallel(n_jobs=-1)]: Done  14 out of  18 | elapsed:   20.6s remaining:    5.8s\n",
      "[Parallel(n_jobs=-1)]: Done  18 out of  18 | elapsed:   21.5s finished\n",
      "C:\\Users\\DIVYANSH SHARMA\\Anaconda3\\lib\\site-packages\\sklearn\\svm\\base.py:922: ConvergenceWarning: Liblinear failed to converge, increase the number of iterations.\n",
      "  \"the number of iterations.\", ConvergenceWarning)\n"
     ]
    },
    {
     "name": "stdout",
     "output_type": "stream",
     "text": [
      "Finished \n",
      "\n",
      "training_time- 0:00:25.438094\n",
      "\n",
      "\n",
      "....predictions....\n",
      "Finished \n",
      "\n",
      "testing time- 0:00:00.006982\n",
      "\n",
      "\n",
      "Accuracy is:\n",
      "\n",
      "    0.9670851713607058\n",
      "\n",
      "\n",
      "Confusion Matrix obtained...\n",
      "\n",
      " [[413   0   0   0   5   2]\n",
      " [  0 537   0   0   0   0]\n",
      " [  0   2 429  57   3   0]\n",
      " [  0   0  13 519   0   0]\n",
      " [  1   0   0   0 456  14]\n",
      " [  0   0   0   0   0 496]]\n"
     ]
    },
    {
     "name": "stderr",
     "output_type": "stream",
     "text": [
      "36it [00:00, 3284.28it/s]\n"
     ]
    },
    {
     "data": {
      "image/png": "[encoded data removed]",
      "text/plain": [
       "<Figure size 576x576 with 2 Axes>"
      ]
     },
     "metadata": {
      "needs_background": "light"
     },
     "output_type": "display_data"
    },
    {
     "name": "stdout",
     "output_type": "stream",
     "text": [
      "-------------------------\n",
      "              precision    recall  f1-score   support\n",
      "\n",
      "  downstairs       1.00      0.98      0.99       420\n",
      "      laying       1.00      1.00      1.00       537\n",
      "     sitting       0.97      0.87      0.92       491\n",
      "    standing       0.90      0.98      0.94       532\n",
      "    upstairs       0.98      0.97      0.98       471\n",
      "     walking       0.97      1.00      0.98       496\n",
      "\n",
      "   micro avg       0.97      0.97      0.97      2947\n",
      "   macro avg       0.97      0.97      0.97      2947\n",
      "weighted avg       0.97      0.97      0.97      2947\n",
      "\n"
     ]
    }
   ],
   "source": [
    "lr_svc_grid_results = Modeller(lr_svc_grid, X_train, y_train, X_test, y_test, class_labels=labels)"
   ]
  },
  {
   "cell_type": "code",
   "execution_count": 36,
   "metadata": {},
   "outputs": [
    {
     "name": "stdout",
     "output_type": "stream",
     "text": [
      " After grid search best estimator obtained is:\n",
      "\n",
      "\t\tLinearSVC(C=2, class_weight=None, dual=True, fit_intercept=True,\n",
      "     intercept_scaling=1, loss='squared_hinge', max_iter=1000,\n",
      "     multi_class='ovr', penalty='l2', random_state=None, tol=5e-05,\n",
      "     verbose=0)\n",
      "\n",
      "After grid searh best parameters obtained are:\n",
      "Parameters of best estimator :\n",
      "\t{'C': 2}\n",
      "\n",
      "Cross Validations:\n",
      "\n",
      " Total numbre of cross validation sets: 3\n",
      "\n",
      "\n",
      " Average Cross Validate scores of best estimator :\n",
      "\t0.9460010881392819\n",
      "\n"
     ]
    }
   ],
   "source": [
    "printGRIDvalues(lr_svc_grid_results['model'])"
   ]
  },
  {
   "cell_type": "markdown",
   "metadata": {},
   "source": [
    "############################"
   ]
  },
  {
   "cell_type": "code",
   "execution_count": 37,
   "metadata": {},
   "outputs": [
    {
     "name": "stdout",
     "output_type": "stream",
     "text": [
      "Model is being trained\n"
     ]
    },
    {
     "name": "stderr",
     "output_type": "stream",
     "text": [
      "C:\\Users\\DIVYANSH SHARMA\\Anaconda3\\lib\\site-packages\\sklearn\\model_selection\\_split.py:2053: FutureWarning: You should specify a value for 'cv' instead of relying on the default value. The default value will change from 3 to 5 in version 0.22.\n",
      "  warnings.warn(CV_WARNING, FutureWarning)\n"
     ]
    },
    {
     "name": "stdout",
     "output_type": "stream",
     "text": [
      "Finished \n",
      "\n",
      "training_time- 0:05:08.898212\n",
      "\n",
      "\n",
      "....predictions....\n",
      "Finished \n",
      "\n",
      "testing time- 0:00:02.412548\n",
      "\n",
      "\n",
      "Accuracy is:\n",
      "\n",
      "    0.9623345775364778\n",
      "\n",
      "\n",
      "Confusion Matrix obtained...\n",
      "\n",
      " [[397   0   0   0  19   4]\n",
      " [  0 537   0   0   0   0]\n",
      " [  0   0 441  48   2   0]\n",
      " [  0   0  12 520   0   0]\n",
      " [  1   0   0   0 453  17]\n",
      " [  3   0   0   0   5 488]]\n"
     ]
    },
    {
     "name": "stderr",
     "output_type": "stream",
     "text": [
      "36it [00:00, 4510.14it/s]\n"
     ]
    },
    {
     "data": {
      "image/png": "[encoded data removed]",
      "text/plain": [
       "<Figure size 576x576 with 2 Axes>"
      ]
     },
     "metadata": {
      "needs_background": "light"
     },
     "output_type": "display_data"
    },
    {
     "name": "stdout",
     "output_type": "stream",
     "text": [
      "-------------------------\n",
      "              precision    recall  f1-score   support\n",
      "\n",
      "  downstairs       0.99      0.95      0.97       420\n",
      "      laying       1.00      1.00      1.00       537\n",
      "     sitting       0.97      0.90      0.93       491\n",
      "    standing       0.92      0.98      0.95       532\n",
      "    upstairs       0.95      0.96      0.95       471\n",
      "     walking       0.96      0.98      0.97       496\n",
      "\n",
      "   micro avg       0.96      0.96      0.96      2947\n",
      "   macro avg       0.96      0.96      0.96      2947\n",
      "weighted avg       0.96      0.96      0.96      2947\n",
      "\n"
     ]
    }
   ],
   "source": [
    "from sklearn.svm import SVC\n",
    "parameters = {'C':[2,8,16],'gamma': [ 0.0078125, 0.125, 2]}\n",
    "rbf_svm = SVC(kernel='rbf')\n",
    "rbf_svm_grid = GridSearchCV(rbf_svm,param_grid=parameters, n_jobs=-1)\n",
    "rbf_svm_grid_results = Modeller(rbf_svm_grid, X_train, y_train, X_test, y_test, class_labels=labels)"
   ]
  },
  {
   "cell_type": "markdown",
   "metadata": {},
   "source": [
    "# ##############"
   ]
  },
  {
   "cell_type": "code",
   "execution_count": 38,
   "metadata": {},
   "outputs": [],
   "source": [
    "from sklearn.tree import DecisionTreeClassifier\n",
    "parameters = {'max_depth':np.arange(3,10,2)}\n",
    "dt = DecisionTreeClassifier()\n",
    "dt_grid = GridSearchCV(dt,param_grid=parameters, n_jobs=-1)\n"
   ]
  },
  {
   "cell_type": "code",
   "execution_count": 39,
   "metadata": {},
   "outputs": [
    {
     "name": "stdout",
     "output_type": "stream",
     "text": [
      "Model is being trained\n"
     ]
    },
    {
     "name": "stderr",
     "output_type": "stream",
     "text": [
      "C:\\Users\\DIVYANSH SHARMA\\Anaconda3\\lib\\site-packages\\sklearn\\model_selection\\_split.py:2053: FutureWarning: You should specify a value for 'cv' instead of relying on the default value. The default value will change from 3 to 5 in version 0.22.\n",
      "  warnings.warn(CV_WARNING, FutureWarning)\n"
     ]
    },
    {
     "name": "stdout",
     "output_type": "stream",
     "text": [
      "Finished \n",
      "\n",
      "training_time- 0:00:05.083410\n",
      "\n",
      "\n",
      "....predictions....\n",
      "Finished \n",
      "\n",
      "testing time- 0:00:00.007978\n",
      "\n",
      "\n",
      "Accuracy is:\n",
      "\n",
      "    0.8646080760095012\n",
      "\n",
      "\n",
      "Confusion Matrix obtained...\n",
      "\n",
      " [[345   0   0   0  61  14]\n",
      " [  0 537   0   0   0   0]\n",
      " [  0   0 386 105   0   0]\n",
      " [  0   0  93 439   0   0]\n",
      " [ 29   0   0   0 369  73]\n",
      " [ 16   0   0   0   8 472]]\n"
     ]
    },
    {
     "name": "stderr",
     "output_type": "stream",
     "text": [
      "36it [00:00, 3286.36it/s]\n"
     ]
    },
    {
     "data": {
      "image/png": "[encoded data removed]",
      "text/plain": [
       "<Figure size 576x576 with 2 Axes>"
      ]
     },
     "metadata": {
      "needs_background": "light"
     },
     "output_type": "display_data"
    },
    {
     "name": "stdout",
     "output_type": "stream",
     "text": [
      "-------------------------\n",
      "              precision    recall  f1-score   support\n",
      "\n",
      "  downstairs       0.88      0.82      0.85       420\n",
      "      laying       1.00      1.00      1.00       537\n",
      "     sitting       0.81      0.79      0.80       491\n",
      "    standing       0.81      0.83      0.82       532\n",
      "    upstairs       0.84      0.78      0.81       471\n",
      "     walking       0.84      0.95      0.89       496\n",
      "\n",
      "   micro avg       0.86      0.86      0.86      2947\n",
      "   macro avg       0.86      0.86      0.86      2947\n",
      "weighted avg       0.86      0.86      0.86      2947\n",
      "\n",
      " After grid search best estimator obtained is:\n",
      "\n",
      "\t\tDecisionTreeClassifier(class_weight=None, criterion='gini', max_depth=7,\n",
      "            max_features=None, max_leaf_nodes=None,\n",
      "            min_impurity_decrease=0.0, min_impurity_split=None,\n",
      "            min_samples_leaf=1, min_samples_split=2,\n",
      "            min_weight_fraction_leaf=0.0, presort=False, random_state=None,\n",
      "            splitter='best')\n",
      "\n",
      "After grid searh best parameters obtained are:\n",
      "Parameters of best estimator :\n",
      "\t{'max_depth': 7}\n",
      "\n",
      "Cross Validations:\n",
      "\n",
      " Total numbre of cross validation sets: 3\n",
      "\n",
      "\n",
      " Average Cross Validate scores of best estimator :\n",
      "\t0.8443960826985855\n",
      "\n"
     ]
    }
   ],
   "source": [
    "dt_grid_results = Modeller(dt_grid, X_train, y_train, X_test, y_test, class_labels=labels)\n",
    "printGRIDvalues(dt_grid_results['model'])"
   ]
  },
  {
   "cell_type": "markdown",
   "metadata": {},
   "source": [
    "# #####"
   ]
  },
  {
   "cell_type": "code",
   "execution_count": 40,
   "metadata": {},
   "outputs": [
    {
     "name": "stdout",
     "output_type": "stream",
     "text": [
      "Model is being trained\n"
     ]
    },
    {
     "name": "stderr",
     "output_type": "stream",
     "text": [
      "C:\\Users\\DIVYANSH SHARMA\\Anaconda3\\lib\\site-packages\\sklearn\\model_selection\\_split.py:2053: FutureWarning: You should specify a value for 'cv' instead of relying on the default value. The default value will change from 3 to 5 in version 0.22.\n",
      "  warnings.warn(CV_WARNING, FutureWarning)\n"
     ]
    },
    {
     "name": "stdout",
     "output_type": "stream",
     "text": [
      "Finished \n",
      "\n",
      "training_time- 0:02:12.908741\n",
      "\n",
      "\n",
      "....predictions....\n",
      "Finished \n",
      "\n",
      "testing time- 0:00:00.072805\n",
      "\n",
      "\n",
      "Accuracy is:\n",
      "\n",
      "    0.9107567017305734\n",
      "\n",
      "\n",
      "Confusion Matrix obtained...\n",
      "\n",
      " [[334   0   0   0  50  36]\n",
      " [  0 537   0   0   0   0]\n",
      " [  0   0 411  80   0   0]\n",
      " [  0   0  38 494   0   0]\n",
      " [  6   0   0   0 424  41]\n",
      " [ 10   0   0   0   2 484]]\n"
     ]
    },
    {
     "name": "stderr",
     "output_type": "stream",
     "text": [
      "36it [00:00, 4014.76it/s]\n"
     ]
    },
    {
     "data": {
      "image/png": "[encoded data removed]",
      "text/plain": [
       "<Figure size 576x576 with 2 Axes>"
      ]
     },
     "metadata": {
      "needs_background": "light"
     },
     "output_type": "display_data"
    },
    {
     "name": "stdout",
     "output_type": "stream",
     "text": [
      "-------------------------\n",
      "              precision    recall  f1-score   support\n",
      "\n",
      "  downstairs       0.95      0.80      0.87       420\n",
      "      laying       1.00      1.00      1.00       537\n",
      "     sitting       0.92      0.84      0.87       491\n",
      "    standing       0.86      0.93      0.89       532\n",
      "    upstairs       0.89      0.90      0.90       471\n",
      "     walking       0.86      0.98      0.92       496\n",
      "\n",
      "   micro avg       0.91      0.91      0.91      2947\n",
      "   macro avg       0.91      0.91      0.91      2947\n",
      "weighted avg       0.91      0.91      0.91      2947\n",
      "\n",
      " After grid search best estimator obtained is:\n",
      "\n",
      "\t\tRandomForestClassifier(bootstrap=True, class_weight=None, criterion='gini',\n",
      "            max_depth=7, max_features='auto', max_leaf_nodes=None,\n",
      "            min_impurity_decrease=0.0, min_impurity_split=None,\n",
      "            min_samples_leaf=1, min_samples_split=2,\n",
      "            min_weight_fraction_leaf=0.0, n_estimators=150, n_jobs=None,\n",
      "            oob_score=False, random_state=None, verbose=0,\n",
      "            warm_start=False)\n",
      "\n",
      "After grid searh best parameters obtained are:\n",
      "Parameters of best estimator :\n",
      "\t{'max_depth': 7, 'n_estimators': 150}\n",
      "\n",
      "Cross Validations:\n",
      "\n",
      " Total numbre of cross validation sets: 3\n",
      "\n",
      "\n",
      " Average Cross Validate scores of best estimator :\n",
      "\t0.9171653971708379\n",
      "\n"
     ]
    }
   ],
   "source": [
    "from sklearn.ensemble import RandomForestClassifier\n",
    "params = {'n_estimators': np.arange(10,201,20), 'max_depth':np.arange(3,15,2)}\n",
    "rfc = RandomForestClassifier()\n",
    "rfc_grid = GridSearchCV(rfc, param_grid=params, n_jobs=-1)\n",
    "rfc_grid_results = Modeller(rfc_grid, X_train, y_train, X_test, y_test, class_labels=labels)\n",
    "printGRIDvalues(rfc_grid_results['model'])"
   ]
  },
  {
   "cell_type": "markdown",
   "metadata": {},
   "source": [
    "# ##################"
   ]
  },
  {
   "cell_type": "code",
   "execution_count": 42,
   "metadata": {},
   "outputs": [
    {
     "name": "stdout",
     "output_type": "stream",
     "text": [
      "Model is being trained\n"
     ]
    },
    {
     "name": "stderr",
     "output_type": "stream",
     "text": [
      "C:\\Users\\DIVYANSH SHARMA\\Anaconda3\\lib\\site-packages\\sklearn\\model_selection\\_split.py:2053: FutureWarning: You should specify a value for 'cv' instead of relying on the default value. The default value will change from 3 to 5 in version 0.22.\n",
      "  warnings.warn(CV_WARNING, FutureWarning)\n"
     ]
    },
    {
     "name": "stdout",
     "output_type": "stream",
     "text": [
      "Finished \n",
      "\n",
      "training_time- 0:19:20.606823\n",
      "\n",
      "\n",
      "....predictions....\n",
      "Finished \n",
      "\n",
      "testing time- 0:00:00.095744\n",
      "\n",
      "\n",
      "Accuracy is:\n",
      "\n",
      "    0.9219545300305395\n",
      "\n",
      "\n",
      "Confusion Matrix obtained...\n",
      "\n",
      " [[371   0   0   0  40   9]\n",
      " [  0 537   0   0   0   0]\n",
      " [  0   0 399  90   2   0]\n",
      " [  0   0  35 497   0   0]\n",
      " [  5   0   1   0 433  32]\n",
      " [  6   0   0   0  10 480]]\n"
     ]
    },
    {
     "name": "stderr",
     "output_type": "stream",
     "text": [
      "36it [00:00, 4010.60it/s]\n"
     ]
    },
    {
     "data": {
      "image/png": "[encoded data removed]",
      "text/plain": [
       "<Figure size 576x576 with 2 Axes>"
      ]
     },
     "metadata": {
      "needs_background": "light"
     },
     "output_type": "display_data"
    },
    {
     "name": "stdout",
     "output_type": "stream",
     "text": [
      "-------------------------\n",
      "              precision    recall  f1-score   support\n",
      "\n",
      "  downstairs       0.97      0.88      0.93       420\n",
      "      laying       1.00      1.00      1.00       537\n",
      "     sitting       0.92      0.81      0.86       491\n",
      "    standing       0.85      0.93      0.89       532\n",
      "    upstairs       0.89      0.92      0.91       471\n",
      "     walking       0.92      0.97      0.94       496\n",
      "\n",
      "   micro avg       0.92      0.92      0.92      2947\n",
      "   macro avg       0.92      0.92      0.92      2947\n",
      "weighted avg       0.92      0.92      0.92      2947\n",
      "\n",
      " After grid search best estimator obtained is:\n",
      "\n",
      "\t\tGradientBoostingClassifier(criterion='friedman_mse', init=None,\n",
      "              learning_rate=0.1, loss='deviance', max_depth=5,\n",
      "              max_features=None, max_leaf_nodes=None,\n",
      "              min_impurity_decrease=0.0, min_impurity_split=None,\n",
      "              min_samples_leaf=1, min_samples_split=2,\n",
      "              min_weight_fraction_leaf=0.0, n_estimators=150,\n",
      "              n_iter_no_change=None, presort='auto', random_state=None,\n",
      "              subsample=1.0, tol=0.0001, validation_fraction=0.1,\n",
      "              verbose=0, warm_start=False)\n",
      "\n",
      "After grid searh best parameters obtained are:\n",
      "Parameters of best estimator :\n",
      "\t{'max_depth': 5, 'n_estimators': 150}\n",
      "\n",
      "Cross Validations:\n",
      "\n",
      " Total numbre of cross validation sets: 3\n",
      "\n",
      "\n",
      " Average Cross Validate scores of best estimator :\n",
      "\t0.904107725788901\n",
      "\n"
     ]
    }
   ],
   "source": [
    "from sklearn.ensemble import GradientBoostingClassifier\n",
    "param_grid = {'max_depth': np.arange(5,8,1), \\\n",
    "             'n_estimators':np.arange(130,170,10)}\n",
    "gbdt = GradientBoostingClassifier()\n",
    "gbdt_grid = GridSearchCV(gbdt, param_grid=param_grid, n_jobs=-1)\n",
    "gbdt_grid_results = Modeller(gbdt_grid, X_train, y_train, X_test, y_test, class_labels=labels)\n",
    "printGRIDvalues(gbdt_grid_results['model'])"
   ]
  },
  {
   "cell_type": "markdown",
   "metadata": {},
   "source": [
    "# Comparison"
   ]
  },
  {
   "cell_type": "code",
   "execution_count": 43,
   "metadata": {},
   "outputs": [
    {
     "name": "stdout",
     "output_type": "stream",
     "text": [
      "Logistic Regression :   Accuracy:96.30132337970818%       Error:3.6986766202918204%\n",
      "Linear SVC          :   Accuracy:96.70851713607058%       Error:3.291482863929417% \n",
      "rbf SVM classifier  :   Accuracy:96.23345775364778%      Error:3.7665422463522162% \n",
      "DecisionTree        :   Accuracy:86.46080760095012%      Error:13.539192399049881% \n",
      "Random Forest       :   Accuracy:91.07567017305735%      Error:8.924329826942653% \n",
      "GradientBoosting DT :   Accuracy:91.07567017305735%      Error:8.924329826942653% \n"
     ]
    }
   ],
   "source": [
    "print('Logistic Regression :   Accuracy:{}%       Error:{}%'.format(log_reg_grid_results['accuracy'] * 100,100-(log_reg_grid_results['accuracy'] * 100)))\n",
    "print('Linear SVC          :   Accuracy:{}%       Error:{}% '.format(lr_svc_grid_results['accuracy'] * 100,100-(lr_svc_grid_results['accuracy'] * 100)))\n",
    "print('rbf SVM classifier  :   Accuracy:{}%      Error:{}% '.format(rbf_svm_grid_results['accuracy'] * 100,100-(rbf_svm_grid_results['accuracy'] * 100)))\n",
    "print('DecisionTree        :   Accuracy:{}%      Error:{}% '.format(dt_grid_results['accuracy'] * 100,100-(dt_grid_results['accuracy'] * 100)))\n",
    "print('Random Forest       :   Accuracy:{}%      Error:{}% '.format(rfc_grid_results['accuracy'] * 100,100-(rfc_grid_results['accuracy'] * 100)))\n",
    "print('GradientBoosting DT :   Accuracy:{}%      Error:{}% '.format(rfc_grid_results['accuracy'] * 100,100-(rfc_grid_results['accuracy'] * 100)))"
   ]
  },
  {
   "cell_type": "code",
   "execution_count": null,
   "metadata": {},
   "outputs": [],
   "source": []
  },
  {
   "cell_type": "code",
   "execution_count": null,
   "metadata": {},
   "outputs": [],
   "source": []
  },
  {
   "cell_type": "code",
   "execution_count": null,
   "metadata": {},
   "outputs": [],
   "source": []
  },
  {
   "cell_type": "code",
   "execution_count": null,
   "metadata": {},
   "outputs": [],
   "source": []
  },
  {
   "cell_type": "code",
   "execution_count": null,
   "metadata": {},
   "outputs": [],
   "source": []
  },
  {
   "cell_type": "code",
   "execution_count": null,
   "metadata": {},
   "outputs": [],
   "source": []
  },
  {
   "cell_type": "code",
   "execution_count": null,
   "metadata": {},
   "outputs": [],
   "source": []
  },
  {
   "cell_type": "code",
   "execution_count": null,
   "metadata": {},
   "outputs": [],
   "source": []
  },
  {
   "cell_type": "code",
   "execution_count": null,
   "metadata": {},
   "outputs": [],
   "source": []
  },
  {
   "cell_type": "code",
   "execution_count": null,
   "metadata": {},
   "outputs": [],
   "source": []
  },
  {
   "cell_type": "code",
   "execution_count": null,
   "metadata": {},
   "outputs": [],
   "source": []
  },
  {
   "cell_type": "code",
   "execution_count": null,
   "metadata": {},
   "outputs": [],
   "source": []
  },
  {
   "cell_type": "code",
   "execution_count": null,
   "metadata": {},
   "outputs": [],
   "source": []
  }
 ],
 "metadata": {
  "kernelspec": {
   "display_name": "Python 3",
   "language": "python",
   "name": "python3"
  },
  "language_info": {
   "codemirror_mode": {
    "name": "ipython",
    "version": 3
   },
   "file_extension": ".py",
   "mimetype": "text/x-python",
   "name": "python",
   "nbconvert_exporter": "python",
   "pygments_lexer": "ipython3",
   "version": "3.7.1"
  }
 },
 "nbformat": 4,
 "nbformat_minor": 2
}
